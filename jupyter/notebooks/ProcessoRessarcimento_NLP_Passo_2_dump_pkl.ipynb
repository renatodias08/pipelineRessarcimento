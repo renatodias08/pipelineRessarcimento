{
 "cells": [
  {
   "cell_type": "markdown",
   "metadata": {
    "id": "xJT3rWHAQ5On"
   },
   "source": [
    "#NLP ressarcimento  busca de ressarcimento nas descrições do sinistro."
   ]
  },
  {
   "cell_type": "markdown",
   "metadata": {
    "id": "9eTna6oOxIB8"
   },
   "source": [
    "#### Carraegar Dados"
   ]
  },
  {
   "cell_type": "code",
   "execution_count": null,
   "metadata": {
    "id": "xm0jgdzIZ43k"
   },
   "outputs": [],
   "source": [
    "import pandas as pd\n",
    "from sklearn.model_selection import train_test_split\n",
    "from sklearn import metrics\n",
    "from sklearn.metrics import confusion_matrix, accuracy_score\n",
    "from sklearn.ensemble import RandomForestClassifier\n",
    "from sklearn.feature_extraction.text import TfidfVectorizer\n",
    "from datetime import datetime\n",
    "from sklearn.preprocessing import MinMaxScaler\n",
    "from sklearn.cluster import KMeans\n",
    "from IPython.display import Image\n",
    "import seaborn as sns\n",
    "import matplotlib.pyplot as plt\n",
    "from matplotlib.gridspec import GridSpec\n",
    "from functools import reduce\n",
    "import pickle\n",
    "import warnings\n",
    "warnings.filterwarnings(\"ignore\")"
   ]
  },
  {
   "cell_type": "code",
   "execution_count": null,
   "metadata": {
    "id": "Q-hk7lEJyHPy"
   },
   "outputs": [],
   "source": [
    "##from google.colab import files\n",
    "#uploaded = files.upload()"
   ]
  },
  {
   "cell_type": "code",
   "execution_count": null,
   "metadata": {
    "colab": {
     "base_uri": "https://localhost:8080/",
     "height": 73
    },
    "id": "3Ml6b78ea9gF",
    "outputId": "3b2c6e58-c164-4f5b-f7c5-346221da7562"
   },
   "outputs": [
    {
     "data": {
      "text/html": [
       "\n",
       "     <input type=\"file\" id=\"files-27ed686a-f685-401d-a3cd-de6e19ebcdd7\" name=\"files[]\" multiple disabled\n",
       "        style=\"border:none\" />\n",
       "     <output id=\"result-27ed686a-f685-401d-a3cd-de6e19ebcdd7\">\n",
       "      Upload widget is only available when the cell has been executed in the\n",
       "      current browser session. Please rerun this cell to enable.\n",
       "      </output>\n",
       "      <script>// Copyright 2017 Google LLC\n",
       "//\n",
       "// Licensed under the Apache License, Version 2.0 (the \"License\");\n",
       "// you may not use this file except in compliance with the License.\n",
       "// You may obtain a copy of the License at\n",
       "//\n",
       "//      http://www.apache.org/licenses/LICENSE-2.0\n",
       "//\n",
       "// Unless required by applicable law or agreed to in writing, software\n",
       "// distributed under the License is distributed on an \"AS IS\" BASIS,\n",
       "// WITHOUT WARRANTIES OR CONDITIONS OF ANY KIND, either express or implied.\n",
       "// See the License for the specific language governing permissions and\n",
       "// limitations under the License.\n",
       "\n",
       "/**\n",
       " * @fileoverview Helpers for google.colab Python module.\n",
       " */\n",
       "(function(scope) {\n",
       "function span(text, styleAttributes = {}) {\n",
       "  const element = document.createElement('span');\n",
       "  element.textContent = text;\n",
       "  for (const key of Object.keys(styleAttributes)) {\n",
       "    element.style[key] = styleAttributes[key];\n",
       "  }\n",
       "  return element;\n",
       "}\n",
       "\n",
       "// Max number of bytes which will be uploaded at a time.\n",
       "const MAX_PAYLOAD_SIZE = 100 * 1024;\n",
       "\n",
       "function _uploadFiles(inputId, outputId) {\n",
       "  const steps = uploadFilesStep(inputId, outputId);\n",
       "  const outputElement = document.getElementById(outputId);\n",
       "  // Cache steps on the outputElement to make it available for the next call\n",
       "  // to uploadFilesContinue from Python.\n",
       "  outputElement.steps = steps;\n",
       "\n",
       "  return _uploadFilesContinue(outputId);\n",
       "}\n",
       "\n",
       "// This is roughly an async generator (not supported in the browser yet),\n",
       "// where there are multiple asynchronous steps and the Python side is going\n",
       "// to poll for completion of each step.\n",
       "// This uses a Promise to block the python side on completion of each step,\n",
       "// then passes the result of the previous step as the input to the next step.\n",
       "function _uploadFilesContinue(outputId) {\n",
       "  const outputElement = document.getElementById(outputId);\n",
       "  const steps = outputElement.steps;\n",
       "\n",
       "  const next = steps.next(outputElement.lastPromiseValue);\n",
       "  return Promise.resolve(next.value.promise).then((value) => {\n",
       "    // Cache the last promise value to make it available to the next\n",
       "    // step of the generator.\n",
       "    outputElement.lastPromiseValue = value;\n",
       "    return next.value.response;\n",
       "  });\n",
       "}\n",
       "\n",
       "/**\n",
       " * Generator function which is called between each async step of the upload\n",
       " * process.\n",
       " * @param {string} inputId Element ID of the input file picker element.\n",
       " * @param {string} outputId Element ID of the output display.\n",
       " * @return {!Iterable<!Object>} Iterable of next steps.\n",
       " */\n",
       "function* uploadFilesStep(inputId, outputId) {\n",
       "  const inputElement = document.getElementById(inputId);\n",
       "  inputElement.disabled = false;\n",
       "\n",
       "  const outputElement = document.getElementById(outputId);\n",
       "  outputElement.innerHTML = '';\n",
       "\n",
       "  const pickedPromise = new Promise((resolve) => {\n",
       "    inputElement.addEventListener('change', (e) => {\n",
       "      resolve(e.target.files);\n",
       "    });\n",
       "  });\n",
       "\n",
       "  const cancel = document.createElement('button');\n",
       "  inputElement.parentElement.appendChild(cancel);\n",
       "  cancel.textContent = 'Cancel upload';\n",
       "  const cancelPromise = new Promise((resolve) => {\n",
       "    cancel.onclick = () => {\n",
       "      resolve(null);\n",
       "    };\n",
       "  });\n",
       "\n",
       "  // Wait for the user to pick the files.\n",
       "  const files = yield {\n",
       "    promise: Promise.race([pickedPromise, cancelPromise]),\n",
       "    response: {\n",
       "      action: 'starting',\n",
       "    }\n",
       "  };\n",
       "\n",
       "  cancel.remove();\n",
       "\n",
       "  // Disable the input element since further picks are not allowed.\n",
       "  inputElement.disabled = true;\n",
       "\n",
       "  if (!files) {\n",
       "    return {\n",
       "      response: {\n",
       "        action: 'complete',\n",
       "      }\n",
       "    };\n",
       "  }\n",
       "\n",
       "  for (const file of files) {\n",
       "    const li = document.createElement('li');\n",
       "    li.append(span(file.name, {fontWeight: 'bold'}));\n",
       "    li.append(span(\n",
       "        `(${file.type || 'n/a'}) - ${file.size} bytes, ` +\n",
       "        `last modified: ${\n",
       "            file.lastModifiedDate ? file.lastModifiedDate.toLocaleDateString() :\n",
       "                                    'n/a'} - `));\n",
       "    const percent = span('0% done');\n",
       "    li.appendChild(percent);\n",
       "\n",
       "    outputElement.appendChild(li);\n",
       "\n",
       "    const fileDataPromise = new Promise((resolve) => {\n",
       "      const reader = new FileReader();\n",
       "      reader.onload = (e) => {\n",
       "        resolve(e.target.result);\n",
       "      };\n",
       "      reader.readAsArrayBuffer(file);\n",
       "    });\n",
       "    // Wait for the data to be ready.\n",
       "    let fileData = yield {\n",
       "      promise: fileDataPromise,\n",
       "      response: {\n",
       "        action: 'continue',\n",
       "      }\n",
       "    };\n",
       "\n",
       "    // Use a chunked sending to avoid message size limits. See b/62115660.\n",
       "    let position = 0;\n",
       "    do {\n",
       "      const length = Math.min(fileData.byteLength - position, MAX_PAYLOAD_SIZE);\n",
       "      const chunk = new Uint8Array(fileData, position, length);\n",
       "      position += length;\n",
       "\n",
       "      const base64 = btoa(String.fromCharCode.apply(null, chunk));\n",
       "      yield {\n",
       "        response: {\n",
       "          action: 'append',\n",
       "          file: file.name,\n",
       "          data: base64,\n",
       "        },\n",
       "      };\n",
       "\n",
       "      let percentDone = fileData.byteLength === 0 ?\n",
       "          100 :\n",
       "          Math.round((position / fileData.byteLength) * 100);\n",
       "      percent.textContent = `${percentDone}% done`;\n",
       "\n",
       "    } while (position < fileData.byteLength);\n",
       "  }\n",
       "\n",
       "  // All done.\n",
       "  yield {\n",
       "    response: {\n",
       "      action: 'complete',\n",
       "    }\n",
       "  };\n",
       "}\n",
       "\n",
       "scope.google = scope.google || {};\n",
       "scope.google.colab = scope.google.colab || {};\n",
       "scope.google.colab._files = {\n",
       "  _uploadFiles,\n",
       "  _uploadFilesContinue,\n",
       "};\n",
       "})(self);\n",
       "</script> "
      ],
      "text/plain": [
       "<IPython.core.display.HTML object>"
      ]
     },
     "metadata": {},
     "output_type": "display_data"
    },
    {
     "name": "stdout",
     "output_type": "stream",
     "text": [
      "Saving classificacoo de texto.png to classificacoo de texto.png\n"
     ]
    }
   ],
   "source": [
    "from google.colab import files\n",
    "uploaded = files.upload()"
   ]
  },
  {
   "cell_type": "code",
   "execution_count": null,
   "metadata": {
    "colab": {
     "base_uri": "https://localhost:8080/"
    },
    "id": "bHoNSS4-s3My",
    "outputId": "1a2a6b14-9300-45bc-e7d0-241ea035b46c"
   },
   "outputs": [],
   "source": [
    "read_file = pd.read_excel('base de descrições.xlsx')\n",
    "print(read_file)\n"
   ]
  },
  {
   "cell_type": "markdown",
   "metadata": {
    "id": "Bj1D-Wv8xR8P"
   },
   "source": [
    "###### Ler excel"
   ]
  },
  {
   "cell_type": "code",
   "execution_count": null,
   "metadata": {
    "id": "wrTjwP_wt2cU"
   },
   "outputs": [],
   "source": [
    "read_file.to_csv (r'base_de_descricoes.csv', index = None, header=True)"
   ]
  },
  {
   "cell_type": "markdown",
   "metadata": {
    "id": "FQAM8ruQxajD"
   },
   "source": [
    "###### Gerar csv"
   ]
  },
  {
   "cell_type": "code",
   "execution_count": null,
   "metadata": {
    "colab": {
     "base_uri": "https://localhost:8080/",
     "height": 1000
    },
    "id": "GU5EyMfwbkXL",
    "outputId": "985a19cb-4fd5-4e9f-89d8-926b5bf76b3f"
   },
   "outputs": [],
   "source": [
    "colnames=['DESCRICAO', 'GRAU', 'SITUAÇÃO DO SINISTRO']\n",
    "df_01 = pd.read_csv(\"base_de_descricoes.csv\" , usecols=colnames)\n",
    "df_01.head(50)"
   ]
  },
  {
   "cell_type": "code",
   "execution_count": null,
   "metadata": {
    "colab": {
     "base_uri": "https://localhost:8080/"
    },
    "id": "Ol2uzoFzcB0-",
    "outputId": "e6c4cae7-4a1e-434e-fa37-51e11d761776"
   },
   "outputs": [
    {
     "data": {
      "text/plain": [
       "(87995, 3)"
      ]
     },
     "execution_count": 7,
     "metadata": {},
     "output_type": "execute_result"
    }
   ],
   "source": [
    "df_01.shape"
   ]
  },
  {
   "cell_type": "code",
   "execution_count": null,
   "metadata": {
    "colab": {
     "base_uri": "https://localhost:8080/"
    },
    "id": "KlixHSM6hJTR",
    "outputId": "a5764d84-8fa1-4faf-cfb2-a44002b5122d"
   },
   "outputs": [
    {
     "data": {
      "text/plain": [
       "BAIXADO SEM RESSARCIMENTO    78268\n",
       "BAIXADO COM RESSARCIMENTO     7611\n",
       "SEGURADO CULPADO              2116\n",
       "Name: SITUAÇÃO DO SINISTRO, dtype: int64"
      ]
     },
     "execution_count": 8,
     "metadata": {},
     "output_type": "execute_result"
    }
   ],
   "source": [
    "#Agrupar as categorias\n",
    "df_01['SITUAÇÃO DO SINISTRO'].value_counts()"
   ]
  },
  {
   "cell_type": "code",
   "execution_count": null,
   "metadata": {
    "id": "AaJVPEhVjL5m"
   },
   "outputs": [],
   "source": [
    "df_02 = df_01"
   ]
  },
  {
   "cell_type": "code",
   "execution_count": null,
   "metadata": {
    "id": "TEXOrFUkjKI8"
   },
   "outputs": [],
   "source": [
    "df_02['SITUAÇÃO DO SINISTRO'] = df_02['SITUAÇÃO DO SINISTRO'].replace('SEGURADO CULPADO', 'BAIXADO COM RESSARCIMENTO')"
   ]
  },
  {
   "cell_type": "code",
   "execution_count": null,
   "metadata": {
    "colab": {
     "base_uri": "https://localhost:8080/"
    },
    "id": "vVEpE73kgZku",
    "outputId": "89884882-79eb-4cf1-ca7d-5a1dcc6ee019"
   },
   "outputs": [
    {
     "data": {
      "text/plain": [
       "BAIXADO SEM RESSARCIMENTO    78268\n",
       "BAIXADO COM RESSARCIMENTO     9727\n",
       "Name: SITUAÇÃO DO SINISTRO, dtype: int64"
      ]
     },
     "execution_count": 11,
     "metadata": {},
     "output_type": "execute_result"
    }
   ],
   "source": [
    "df_02['SITUAÇÃO DO SINISTRO'].value_counts()"
   ]
  },
  {
   "cell_type": "markdown",
   "metadata": {
    "id": "LwjTAuuo5vYe"
   },
   "source": [
    "### Análise Exploratória e Limpeza"
   ]
  },
  {
   "cell_type": "code",
   "execution_count": null,
   "metadata": {
    "id": "qVAkqB3-6Jzm"
   },
   "outputs": [],
   "source": [
    "def show_null(df):\n",
    "    null_columns = (df.isnull().sum(axis=0)/len(df)).sort_values(ascending=False).index\n",
    "\n",
    "    null_data = pd.concat([df.isnull().sum(axis=0),\n",
    "                           (df.isnull().sum(axis=0)/len(df)).sort_values(ascending=False),\n",
    "                           df.loc[:, df.columns.isin(list(null_columns))].dtypes],\n",
    "                          axis=1)\n",
    "\n",
    "    null_data = null_data.rename(columns={0: '#',\n",
    "                                          1: '% null',\n",
    "                                          2: 'type'}).sort_values(ascending=False,\n",
    "                                                                  by='% null')\n",
    "\n",
    "    return null_data"
   ]
  },
  {
   "cell_type": "code",
   "execution_count": null,
   "metadata": {
    "id": "EBLrSlg6y0QF"
   },
   "outputs": [],
   "source": [
    "def plot_num(df, feature):\n",
    "    fig = plt.figure(figsize=(12,8))\n",
    "    gs = GridSpec(1,2)\n",
    "    sns.countplot(x=feature, data=df, color='firebrick', ax=fig.add_subplot(gs[0,0]))\n",
    "    plt.xlabel(feature)\n",
    "    sns.stripplot(x=df[feature], color='darkcyan', ax=fig.add_subplot(gs[0,1]))\n",
    "    plt.xlabel(None)\n",
    "    plt.show()\n"
   ]
  },
  {
   "cell_type": "code",
   "execution_count": null,
   "metadata": {
    "id": "ybB4l9VvcLj0"
   },
   "outputs": [],
   "source": [
    "def plot_cat(df, feature):\n",
    "    fig = plt.figure(figsize=(12,8))\n",
    "    ax = sns.countplot(data=df, x=feature)\n",
    "    for p in ax.patches:\n",
    "\n",
    "        ax.annotate(f'\\n{p.get_height()}',\n",
    "                    (p.get_x()+0.4, p.get_height()+5),\n",
    "                    ha='center',\n",
    "                    color='black')\n",
    "\n",
    "    plt.xlabel('\\n' + feature)\n",
    "    plt.ylabel('Quantidade de Clientes')\n",
    "    plt.show()"
   ]
  },
  {
   "cell_type": "code",
   "execution_count": null,
   "metadata": {
    "colab": {
     "base_uri": "https://localhost:8080/",
     "height": 144
    },
    "id": "so5lOVhjcZwG",
    "outputId": "bc88632d-ab88-46ec-a3cd-841d0cff5a06"
   },
   "outputs": [
    {
     "data": {
      "text/html": [
       "\n",
       "\n",
       "  <div id=\"df-f2a00ab2-290d-496d-b67d-1747171064d2\">\n",
       "    <div class=\"colab-df-container\">\n",
       "      <div>\n",
       "<style scoped>\n",
       "    .dataframe tbody tr th:only-of-type {\n",
       "        vertical-align: middle;\n",
       "    }\n",
       "\n",
       "    .dataframe tbody tr th {\n",
       "        vertical-align: top;\n",
       "    }\n",
       "\n",
       "    .dataframe thead th {\n",
       "        text-align: right;\n",
       "    }\n",
       "</style>\n",
       "<table border=\"1\" class=\"dataframe\">\n",
       "  <thead>\n",
       "    <tr style=\"text-align: right;\">\n",
       "      <th></th>\n",
       "      <th>#</th>\n",
       "      <th>% null</th>\n",
       "      <th>type</th>\n",
       "    </tr>\n",
       "  </thead>\n",
       "  <tbody>\n",
       "    <tr>\n",
       "      <th>DESCRICAO</th>\n",
       "      <td>0</td>\n",
       "      <td>0.0</td>\n",
       "      <td>object</td>\n",
       "    </tr>\n",
       "    <tr>\n",
       "      <th>GRAU</th>\n",
       "      <td>0</td>\n",
       "      <td>0.0</td>\n",
       "      <td>object</td>\n",
       "    </tr>\n",
       "    <tr>\n",
       "      <th>SITUAÇÃO DO SINISTRO</th>\n",
       "      <td>0</td>\n",
       "      <td>0.0</td>\n",
       "      <td>object</td>\n",
       "    </tr>\n",
       "  </tbody>\n",
       "</table>\n",
       "</div>\n",
       "      <button class=\"colab-df-convert\" onclick=\"convertToInteractive('df-f2a00ab2-290d-496d-b67d-1747171064d2')\"\n",
       "              title=\"Convert this dataframe to an interactive table.\"\n",
       "              style=\"display:none;\">\n",
       "\n",
       "  <svg xmlns=\"http://www.w3.org/2000/svg\" height=\"24px\"viewBox=\"0 0 24 24\"\n",
       "       width=\"24px\">\n",
       "    <path d=\"M0 0h24v24H0V0z\" fill=\"none\"/>\n",
       "    <path d=\"M18.56 5.44l.94 2.06.94-2.06 2.06-.94-2.06-.94-.94-2.06-.94 2.06-2.06.94zm-11 1L8.5 8.5l.94-2.06 2.06-.94-2.06-.94L8.5 2.5l-.94 2.06-2.06.94zm10 10l.94 2.06.94-2.06 2.06-.94-2.06-.94-.94-2.06-.94 2.06-2.06.94z\"/><path d=\"M17.41 7.96l-1.37-1.37c-.4-.4-.92-.59-1.43-.59-.52 0-1.04.2-1.43.59L10.3 9.45l-7.72 7.72c-.78.78-.78 2.05 0 2.83L4 21.41c.39.39.9.59 1.41.59.51 0 1.02-.2 1.41-.59l7.78-7.78 2.81-2.81c.8-.78.8-2.07 0-2.86zM5.41 20L4 18.59l7.72-7.72 1.47 1.35L5.41 20z\"/>\n",
       "  </svg>\n",
       "      </button>\n",
       "\n",
       "\n",
       "\n",
       "    <div id=\"df-60a76966-fc3a-4b45-b84e-2ecf86af22eb\">\n",
       "      <button class=\"colab-df-quickchart\" onclick=\"quickchart('df-60a76966-fc3a-4b45-b84e-2ecf86af22eb')\"\n",
       "              title=\"Suggest charts.\"\n",
       "              style=\"display:none;\">\n",
       "\n",
       "<svg xmlns=\"http://www.w3.org/2000/svg\" height=\"24px\"viewBox=\"0 0 24 24\"\n",
       "     width=\"24px\">\n",
       "    <g>\n",
       "        <path d=\"M19 3H5c-1.1 0-2 .9-2 2v14c0 1.1.9 2 2 2h14c1.1 0 2-.9 2-2V5c0-1.1-.9-2-2-2zM9 17H7v-7h2v7zm4 0h-2V7h2v10zm4 0h-2v-4h2v4z\"/>\n",
       "    </g>\n",
       "</svg>\n",
       "      </button>\n",
       "    </div>\n",
       "\n",
       "<style>\n",
       "  .colab-df-quickchart {\n",
       "    background-color: #E8F0FE;\n",
       "    border: none;\n",
       "    border-radius: 50%;\n",
       "    cursor: pointer;\n",
       "    display: none;\n",
       "    fill: #1967D2;\n",
       "    height: 32px;\n",
       "    padding: 0 0 0 0;\n",
       "    width: 32px;\n",
       "  }\n",
       "\n",
       "  .colab-df-quickchart:hover {\n",
       "    background-color: #E2EBFA;\n",
       "    box-shadow: 0px 1px 2px rgba(60, 64, 67, 0.3), 0px 1px 3px 1px rgba(60, 64, 67, 0.15);\n",
       "    fill: #174EA6;\n",
       "  }\n",
       "\n",
       "  [theme=dark] .colab-df-quickchart {\n",
       "    background-color: #3B4455;\n",
       "    fill: #D2E3FC;\n",
       "  }\n",
       "\n",
       "  [theme=dark] .colab-df-quickchart:hover {\n",
       "    background-color: #434B5C;\n",
       "    box-shadow: 0px 1px 3px 1px rgba(0, 0, 0, 0.15);\n",
       "    filter: drop-shadow(0px 1px 2px rgba(0, 0, 0, 0.3));\n",
       "    fill: #FFFFFF;\n",
       "  }\n",
       "</style>\n",
       "\n",
       "    <script>\n",
       "      async function quickchart(key) {\n",
       "        const containerElement = document.querySelector('#' + key);\n",
       "        const charts = await google.colab.kernel.invokeFunction(\n",
       "            'suggestCharts', [key], {});\n",
       "      }\n",
       "    </script>\n",
       "\n",
       "      <script>\n",
       "\n",
       "function displayQuickchartButton(domScope) {\n",
       "  let quickchartButtonEl =\n",
       "    domScope.querySelector('#df-60a76966-fc3a-4b45-b84e-2ecf86af22eb button.colab-df-quickchart');\n",
       "  quickchartButtonEl.style.display =\n",
       "    google.colab.kernel.accessAllowed ? 'block' : 'none';\n",
       "}\n",
       "\n",
       "        displayQuickchartButton(document);\n",
       "      </script>\n",
       "      <style>\n",
       "    .colab-df-container {\n",
       "      display:flex;\n",
       "      flex-wrap:wrap;\n",
       "      gap: 12px;\n",
       "    }\n",
       "\n",
       "    .colab-df-convert {\n",
       "      background-color: #E8F0FE;\n",
       "      border: none;\n",
       "      border-radius: 50%;\n",
       "      cursor: pointer;\n",
       "      display: none;\n",
       "      fill: #1967D2;\n",
       "      height: 32px;\n",
       "      padding: 0 0 0 0;\n",
       "      width: 32px;\n",
       "    }\n",
       "\n",
       "    .colab-df-convert:hover {\n",
       "      background-color: #E2EBFA;\n",
       "      box-shadow: 0px 1px 2px rgba(60, 64, 67, 0.3), 0px 1px 3px 1px rgba(60, 64, 67, 0.15);\n",
       "      fill: #174EA6;\n",
       "    }\n",
       "\n",
       "    [theme=dark] .colab-df-convert {\n",
       "      background-color: #3B4455;\n",
       "      fill: #D2E3FC;\n",
       "    }\n",
       "\n",
       "    [theme=dark] .colab-df-convert:hover {\n",
       "      background-color: #434B5C;\n",
       "      box-shadow: 0px 1px 3px 1px rgba(0, 0, 0, 0.15);\n",
       "      filter: drop-shadow(0px 1px 2px rgba(0, 0, 0, 0.3));\n",
       "      fill: #FFFFFF;\n",
       "    }\n",
       "  </style>\n",
       "\n",
       "      <script>\n",
       "        const buttonEl =\n",
       "          document.querySelector('#df-f2a00ab2-290d-496d-b67d-1747171064d2 button.colab-df-convert');\n",
       "        buttonEl.style.display =\n",
       "          google.colab.kernel.accessAllowed ? 'block' : 'none';\n",
       "\n",
       "        async function convertToInteractive(key) {\n",
       "          const element = document.querySelector('#df-f2a00ab2-290d-496d-b67d-1747171064d2');\n",
       "          const dataTable =\n",
       "            await google.colab.kernel.invokeFunction('convertToInteractive',\n",
       "                                                     [key], {});\n",
       "          if (!dataTable) return;\n",
       "\n",
       "          const docLinkHtml = 'Like what you see? Visit the ' +\n",
       "            '<a target=\"_blank\" href=https://colab.research.google.com/notebooks/data_table.ipynb>data table notebook</a>'\n",
       "            + ' to learn more about interactive tables.';\n",
       "          element.innerHTML = '';\n",
       "          dataTable['output_type'] = 'display_data';\n",
       "          await google.colab.output.renderOutput(dataTable, element);\n",
       "          const docLink = document.createElement('div');\n",
       "          docLink.innerHTML = docLinkHtml;\n",
       "          element.appendChild(docLink);\n",
       "        }\n",
       "      </script>\n",
       "    </div>\n",
       "  </div>\n"
      ],
      "text/plain": [
       "                      #  % null    type\n",
       "DESCRICAO             0     0.0  object\n",
       "GRAU                  0     0.0  object\n",
       "SITUAÇÃO DO SINISTRO  0     0.0  object"
      ]
     },
     "execution_count": 58,
     "metadata": {},
     "output_type": "execute_result"
    }
   ],
   "source": [
    "show_null(df_02)"
   ]
  },
  {
   "cell_type": "code",
   "execution_count": null,
   "metadata": {
    "id": "XzeA17iDTRaT"
   },
   "outputs": [],
   "source": [
    "df_02.dropna(inplace=True)"
   ]
  },
  {
   "cell_type": "code",
   "execution_count": null,
   "metadata": {
    "colab": {
     "base_uri": "https://localhost:8080/",
     "height": 144
    },
    "id": "oZg2Us1TTMYr",
    "outputId": "07e4edea-6481-4e58-8b9f-aee57892981d"
   },
   "outputs": [
    {
     "data": {
      "text/html": [
       "\n",
       "\n",
       "  <div id=\"df-c1af6798-d5be-4da0-96e9-06bb407456be\">\n",
       "    <div class=\"colab-df-container\">\n",
       "      <div>\n",
       "<style scoped>\n",
       "    .dataframe tbody tr th:only-of-type {\n",
       "        vertical-align: middle;\n",
       "    }\n",
       "\n",
       "    .dataframe tbody tr th {\n",
       "        vertical-align: top;\n",
       "    }\n",
       "\n",
       "    .dataframe thead th {\n",
       "        text-align: right;\n",
       "    }\n",
       "</style>\n",
       "<table border=\"1\" class=\"dataframe\">\n",
       "  <thead>\n",
       "    <tr style=\"text-align: right;\">\n",
       "      <th></th>\n",
       "      <th>#</th>\n",
       "      <th>% null</th>\n",
       "      <th>type</th>\n",
       "    </tr>\n",
       "  </thead>\n",
       "  <tbody>\n",
       "    <tr>\n",
       "      <th>DESCRICAO</th>\n",
       "      <td>0</td>\n",
       "      <td>0.0</td>\n",
       "      <td>object</td>\n",
       "    </tr>\n",
       "    <tr>\n",
       "      <th>GRAU</th>\n",
       "      <td>0</td>\n",
       "      <td>0.0</td>\n",
       "      <td>object</td>\n",
       "    </tr>\n",
       "    <tr>\n",
       "      <th>SITUAÇÃO DO SINISTRO</th>\n",
       "      <td>0</td>\n",
       "      <td>0.0</td>\n",
       "      <td>object</td>\n",
       "    </tr>\n",
       "  </tbody>\n",
       "</table>\n",
       "</div>\n",
       "      <button class=\"colab-df-convert\" onclick=\"convertToInteractive('df-c1af6798-d5be-4da0-96e9-06bb407456be')\"\n",
       "              title=\"Convert this dataframe to an interactive table.\"\n",
       "              style=\"display:none;\">\n",
       "\n",
       "  <svg xmlns=\"http://www.w3.org/2000/svg\" height=\"24px\"viewBox=\"0 0 24 24\"\n",
       "       width=\"24px\">\n",
       "    <path d=\"M0 0h24v24H0V0z\" fill=\"none\"/>\n",
       "    <path d=\"M18.56 5.44l.94 2.06.94-2.06 2.06-.94-2.06-.94-.94-2.06-.94 2.06-2.06.94zm-11 1L8.5 8.5l.94-2.06 2.06-.94-2.06-.94L8.5 2.5l-.94 2.06-2.06.94zm10 10l.94 2.06.94-2.06 2.06-.94-2.06-.94-.94-2.06-.94 2.06-2.06.94z\"/><path d=\"M17.41 7.96l-1.37-1.37c-.4-.4-.92-.59-1.43-.59-.52 0-1.04.2-1.43.59L10.3 9.45l-7.72 7.72c-.78.78-.78 2.05 0 2.83L4 21.41c.39.39.9.59 1.41.59.51 0 1.02-.2 1.41-.59l7.78-7.78 2.81-2.81c.8-.78.8-2.07 0-2.86zM5.41 20L4 18.59l7.72-7.72 1.47 1.35L5.41 20z\"/>\n",
       "  </svg>\n",
       "      </button>\n",
       "\n",
       "\n",
       "\n",
       "    <div id=\"df-b79ac195-c705-42de-9da5-fecaf3c0b5d8\">\n",
       "      <button class=\"colab-df-quickchart\" onclick=\"quickchart('df-b79ac195-c705-42de-9da5-fecaf3c0b5d8')\"\n",
       "              title=\"Suggest charts.\"\n",
       "              style=\"display:none;\">\n",
       "\n",
       "<svg xmlns=\"http://www.w3.org/2000/svg\" height=\"24px\"viewBox=\"0 0 24 24\"\n",
       "     width=\"24px\">\n",
       "    <g>\n",
       "        <path d=\"M19 3H5c-1.1 0-2 .9-2 2v14c0 1.1.9 2 2 2h14c1.1 0 2-.9 2-2V5c0-1.1-.9-2-2-2zM9 17H7v-7h2v7zm4 0h-2V7h2v10zm4 0h-2v-4h2v4z\"/>\n",
       "    </g>\n",
       "</svg>\n",
       "      </button>\n",
       "    </div>\n",
       "\n",
       "<style>\n",
       "  .colab-df-quickchart {\n",
       "    background-color: #E8F0FE;\n",
       "    border: none;\n",
       "    border-radius: 50%;\n",
       "    cursor: pointer;\n",
       "    display: none;\n",
       "    fill: #1967D2;\n",
       "    height: 32px;\n",
       "    padding: 0 0 0 0;\n",
       "    width: 32px;\n",
       "  }\n",
       "\n",
       "  .colab-df-quickchart:hover {\n",
       "    background-color: #E2EBFA;\n",
       "    box-shadow: 0px 1px 2px rgba(60, 64, 67, 0.3), 0px 1px 3px 1px rgba(60, 64, 67, 0.15);\n",
       "    fill: #174EA6;\n",
       "  }\n",
       "\n",
       "  [theme=dark] .colab-df-quickchart {\n",
       "    background-color: #3B4455;\n",
       "    fill: #D2E3FC;\n",
       "  }\n",
       "\n",
       "  [theme=dark] .colab-df-quickchart:hover {\n",
       "    background-color: #434B5C;\n",
       "    box-shadow: 0px 1px 3px 1px rgba(0, 0, 0, 0.15);\n",
       "    filter: drop-shadow(0px 1px 2px rgba(0, 0, 0, 0.3));\n",
       "    fill: #FFFFFF;\n",
       "  }\n",
       "</style>\n",
       "\n",
       "    <script>\n",
       "      async function quickchart(key) {\n",
       "        const containerElement = document.querySelector('#' + key);\n",
       "        const charts = await google.colab.kernel.invokeFunction(\n",
       "            'suggestCharts', [key], {});\n",
       "      }\n",
       "    </script>\n",
       "\n",
       "      <script>\n",
       "\n",
       "function displayQuickchartButton(domScope) {\n",
       "  let quickchartButtonEl =\n",
       "    domScope.querySelector('#df-b79ac195-c705-42de-9da5-fecaf3c0b5d8 button.colab-df-quickchart');\n",
       "  quickchartButtonEl.style.display =\n",
       "    google.colab.kernel.accessAllowed ? 'block' : 'none';\n",
       "}\n",
       "\n",
       "        displayQuickchartButton(document);\n",
       "      </script>\n",
       "      <style>\n",
       "    .colab-df-container {\n",
       "      display:flex;\n",
       "      flex-wrap:wrap;\n",
       "      gap: 12px;\n",
       "    }\n",
       "\n",
       "    .colab-df-convert {\n",
       "      background-color: #E8F0FE;\n",
       "      border: none;\n",
       "      border-radius: 50%;\n",
       "      cursor: pointer;\n",
       "      display: none;\n",
       "      fill: #1967D2;\n",
       "      height: 32px;\n",
       "      padding: 0 0 0 0;\n",
       "      width: 32px;\n",
       "    }\n",
       "\n",
       "    .colab-df-convert:hover {\n",
       "      background-color: #E2EBFA;\n",
       "      box-shadow: 0px 1px 2px rgba(60, 64, 67, 0.3), 0px 1px 3px 1px rgba(60, 64, 67, 0.15);\n",
       "      fill: #174EA6;\n",
       "    }\n",
       "\n",
       "    [theme=dark] .colab-df-convert {\n",
       "      background-color: #3B4455;\n",
       "      fill: #D2E3FC;\n",
       "    }\n",
       "\n",
       "    [theme=dark] .colab-df-convert:hover {\n",
       "      background-color: #434B5C;\n",
       "      box-shadow: 0px 1px 3px 1px rgba(0, 0, 0, 0.15);\n",
       "      filter: drop-shadow(0px 1px 2px rgba(0, 0, 0, 0.3));\n",
       "      fill: #FFFFFF;\n",
       "    }\n",
       "  </style>\n",
       "\n",
       "      <script>\n",
       "        const buttonEl =\n",
       "          document.querySelector('#df-c1af6798-d5be-4da0-96e9-06bb407456be button.colab-df-convert');\n",
       "        buttonEl.style.display =\n",
       "          google.colab.kernel.accessAllowed ? 'block' : 'none';\n",
       "\n",
       "        async function convertToInteractive(key) {\n",
       "          const element = document.querySelector('#df-c1af6798-d5be-4da0-96e9-06bb407456be');\n",
       "          const dataTable =\n",
       "            await google.colab.kernel.invokeFunction('convertToInteractive',\n",
       "                                                     [key], {});\n",
       "          if (!dataTable) return;\n",
       "\n",
       "          const docLinkHtml = 'Like what you see? Visit the ' +\n",
       "            '<a target=\"_blank\" href=https://colab.research.google.com/notebooks/data_table.ipynb>data table notebook</a>'\n",
       "            + ' to learn more about interactive tables.';\n",
       "          element.innerHTML = '';\n",
       "          dataTable['output_type'] = 'display_data';\n",
       "          await google.colab.output.renderOutput(dataTable, element);\n",
       "          const docLink = document.createElement('div');\n",
       "          docLink.innerHTML = docLinkHtml;\n",
       "          element.appendChild(docLink);\n",
       "        }\n",
       "      </script>\n",
       "    </div>\n",
       "  </div>\n"
      ],
      "text/plain": [
       "                      #  % null    type\n",
       "DESCRICAO             0     0.0  object\n",
       "GRAU                  0     0.0  object\n",
       "SITUAÇÃO DO SINISTRO  0     0.0  object"
      ]
     },
     "execution_count": 60,
     "metadata": {},
     "output_type": "execute_result"
    }
   ],
   "source": [
    "show_null(df_02)"
   ]
  },
  {
   "cell_type": "code",
   "execution_count": null,
   "metadata": {
    "colab": {
     "base_uri": "https://localhost:8080/",
     "height": 687
    },
    "id": "dWILqr3yfQjG",
    "outputId": "600cf6b8-a235-463d-bc3d-7a6a8094de6f"
   },
   "outputs": [
    {
     "data": {
      "image/png": "[encoded data removed]",
      "text/plain": [
       "<Figure size 1200x800 with 2 Axes>"
      ]
     },
     "metadata": {},
     "output_type": "display_data"
    }
   ],
   "source": [
    "plot_num(df_02, 'GRAU')"
   ]
  },
  {
   "cell_type": "code",
   "execution_count": null,
   "metadata": {
    "colab": {
     "base_uri": "https://localhost:8080/",
     "height": 698
    },
    "id": "iDLMpgHCf5G6",
    "outputId": "24830b1a-38fb-4855-b8b2-046b7bdf5596"
   },
   "outputs": [
    {
     "data": {
      "image/png": "[encoded data removed]",
      "text/plain": [
       "<Figure size 1200x800 with 2 Axes>"
      ]
     },
     "metadata": {},
     "output_type": "display_data"
    }
   ],
   "source": [
    "plot_num(df_02, 'SITUAÇÃO DO SINISTRO')"
   ]
  },
  {
   "cell_type": "code",
   "execution_count": null,
   "metadata": {
    "colab": {
     "base_uri": "https://localhost:8080/",
     "height": 687
    },
    "id": "yLMTXy3TmrwD",
    "outputId": "2169a197-f73f-439a-eede-b93bb60c3426"
   },
   "outputs": [
    {
     "data": {
      "image/png": "[encoded data removed]",
      "text/plain": [
       "<Figure size 1200x800 with 2 Axes>"
      ]
     },
     "metadata": {},
     "output_type": "display_data"
    }
   ],
   "source": [
    "plot_num(df_02, 'GRAU')"
   ]
  },
  {
   "cell_type": "code",
   "execution_count": null,
   "metadata": {
    "colab": {
     "base_uri": "https://localhost:8080/",
     "height": 714
    },
    "id": "1XDdhP1q81zS",
    "outputId": "522cbce9-cf8e-4774-b2f7-58c3b16ac12f"
   },
   "outputs": [
    {
     "data": {
      "image/png": "[encoded data removed]",
      "text/plain": [
       "<Figure size 1200x800 with 1 Axes>"
      ]
     },
     "metadata": {},
     "output_type": "display_data"
    }
   ],
   "source": [
    "plot_cat(df_02, 'SITUAÇÃO DO SINISTRO')"
   ]
  },
  {
   "cell_type": "markdown",
   "metadata": {
    "id": "sFc6omFjMh57"
   },
   "source": [
    "### Machine Learning e Deep Learning para NLP na Prática"
   ]
  },
  {
   "cell_type": "markdown",
   "metadata": {
    "id": "LU1N6vlyL758"
   },
   "source": [
    "#### Introdução: classificação de texto"
   ]
  },
  {
   "cell_type": "code",
   "execution_count": null,
   "metadata": {
    "colab": {
     "base_uri": "https://localhost:8080/",
     "height": 517
    },
    "id": "fQ9SaZd89Lp7",
    "outputId": "bdf249f5-63d9-4e17-bbf3-0ee222f56b3d"
   },
   "outputs": [
    {
     "data": {
      "image/png": "[encoded data removed]",
      "text/plain": [
       "<IPython.core.display.Image object>"
      ]
     },
     "execution_count": 65,
     "metadata": {
      "image/png": {
       "height": 500,
       "width": 1000
      }
     },
     "output_type": "execute_result"
    }
   ],
   "source": [
    "Image(filename='classificacoo de texto.png', width=1000, height=500)"
   ]
  },
  {
   "cell_type": "markdown",
   "metadata": {
    "id": "xeTBC4UTNnGn"
   },
   "source": [
    "##### Imports"
   ]
  },
  {
   "cell_type": "code",
   "execution_count": null,
   "metadata": {
    "id": "hP3rNHXkNy_5"
   },
   "outputs": [],
   "source": [
    "import pandas as pd\n",
    "from sklearn.model_selection import train_test_split\n",
    "from sklearn import metrics\n",
    "from sklearn.metrics import confusion_matrix, accuracy_score\n",
    "from sklearn.ensemble import RandomForestClassifier\n",
    "from sklearn.feature_extraction.text import TfidfVectorizer"
   ]
  },
  {
   "cell_type": "code",
   "execution_count": null,
   "metadata": {
    "colab": {
     "base_uri": "https://localhost:8080/"
    },
    "id": "UUSsWHRLTisw",
    "outputId": "f776653e-de24-47d6-a3f4-5e89362002ed"
   },
   "outputs": [
    {
     "data": {
      "text/plain": [
       "(87885, 3)"
      ]
     },
     "execution_count": 67,
     "metadata": {},
     "output_type": "execute_result"
    }
   ],
   "source": [
    "df_02.shape"
   ]
  },
  {
   "cell_type": "markdown",
   "metadata": {
    "id": "WzMxKFxxRSAn"
   },
   "source": [
    "#### Classificação de ressarcimento parte 1"
   ]
  },
  {
   "cell_type": "code",
   "execution_count": null,
   "metadata": {
    "colab": {
     "base_uri": "https://localhost:8080/"
    },
    "id": "t9KeZSMRPBU2",
    "outputId": "d5542f05-dcd0-4a9d-f910-fe2b9423a1b2"
   },
   "outputs": [
    {
     "data": {
      "text/plain": [
       "BAIXADO SEM RESSARCIMENTO    78181\n",
       "BAIXADO COM RESSARCIMENTO     9704\n",
       "Name: SITUAÇÃO DO SINISTRO, dtype: int64"
      ]
     },
     "execution_count": 68,
     "metadata": {},
     "output_type": "execute_result"
    }
   ],
   "source": [
    "#Agrupar as categorias\n",
    "df_02['SITUAÇÃO DO SINISTRO'].value_counts()"
   ]
  },
  {
   "cell_type": "code",
   "execution_count": null,
   "metadata": {
    "id": "SNx0wP1WPt9B"
   },
   "outputs": [],
   "source": [
    "previ = df_02['DESCRICAO']\n",
    "classe = df_02['SITUAÇÃO DO SINISTRO']"
   ]
  },
  {
   "cell_type": "code",
   "execution_count": null,
   "metadata": {
    "colab": {
     "base_uri": "https://localhost:8080/"
    },
    "id": "1EcgmGJbQF1F",
    "outputId": "bd1d44a3-83e9-40ec-93d7-5b584a7512f3"
   },
   "outputs": [
    {
     "name": "stdout",
     "output_type": "stream",
     "text": [
      "(87885, 69860)\n"
     ]
    }
   ],
   "source": [
    "vetorizador = TfidfVectorizer()\n",
    "previsores = vetorizador.fit_transform(previ)\n",
    "print(previsores.shape)"
   ]
  },
  {
   "cell_type": "code",
   "execution_count": null,
   "metadata": {
    "colab": {
     "base_uri": "https://localhost:8080/"
    },
    "id": "g97iDdviT5aQ",
    "outputId": "d6de2b75-8a2b-427a-e0bf-7c0f232b53a5"
   },
   "outputs": [
    {
     "name": "stdout",
     "output_type": "stream",
     "text": [
      "['0000323495' '0000325240' '0000365519' '0000390725' '0000419109'\n",
      " '0000511917' '0000535042' '0000598831' '0000609680' '0000619896'\n",
      " '000064627' '0000654389' '0000691361' '0000717866' '0000801063'\n",
      " '0000922925' '0000949470' '00009562662019' '0000966231' '0001'\n",
      " '0001009593' '0001040524' '0001075127' '0001080589' '0001083271'\n",
      " '0001121920' '0001232142' '0001264154' '0001559658' '0001621908'\n",
      " '0001678792' '0001778309' '0001784259' '00017890162021' '0001837129'\n",
      " '0002' '0002013474' '0002152743' '0002321540' '0002492606' '0003'\n",
      " '0003982' '00074' '000segurado' '001' '0010' '00115400621' '00123154395'\n",
      " '001272' '0016' '0017' '0019' '00196545780' '002' '0021' '002138738'\n",
      " '0022' '00220717702' '0023' '00233637265' '0024' '0025' '0027' '0028'\n",
      " '00281147316' '00287608646' '003' '00304217050' '00304751751'\n",
      " '00328328642' '00328864760' '0033' '00341' '0035' '0036' '00374334269'\n",
      " '0038' '00389278106' '0039' '004' '0040' '0041' '00411638777' '0042'\n",
      " '0044' '00450526879' '00456104216' '0046' '0049' '005']\n"
     ]
    }
   ],
   "source": [
    "print(vetorizador.get_feature_names_out()[10:100])"
   ]
  },
  {
   "cell_type": "markdown",
   "metadata": {
    "id": "YQcmWsaeWbL1"
   },
   "source": [
    "#### Classificação de ressarcimento parte 2"
   ]
  },
  {
   "cell_type": "code",
   "execution_count": null,
   "metadata": {
    "id": "9UH7ykxcWYwY"
   },
   "outputs": [],
   "source": [
    "#X_treinamento, X_teste, y_treinamento, y_teste = train_test_split(previsores, classe, test_size=0.3)"
   ]
  },
  {
   "cell_type": "code",
   "execution_count": null,
   "metadata": {
    "id": "SW3iebMNWmYM"
   },
   "outputs": [],
   "source": [
    "#X_teste.shape"
   ]
  },
  {
   "cell_type": "code",
   "execution_count": null,
   "metadata": {
    "id": "65iPgFtTWsKc"
   },
   "outputs": [],
   "source": [
    "#floresta = RandomForestClassifier(n_estimators=500)\n",
    "#floresta.fit(X_treinamento,y_treinamento)"
   ]
  },
  {
   "cell_type": "code",
   "execution_count": null,
   "metadata": {
    "id": "g9BcucsYYFgS"
   },
   "outputs": [],
   "source": [
    "#previsoes = floresta.predict(X_teste)\n",
    "#print(previsoes)"
   ]
  },
  {
   "cell_type": "code",
   "execution_count": null,
   "metadata": {
    "id": "-DAdGeA1YPos"
   },
   "outputs": [],
   "source": [
    "#print(confusion_matrix(y_teste, previsoes))"
   ]
  },
  {
   "cell_type": "code",
   "execution_count": null,
   "metadata": {
    "id": "TdxDughHYRmI"
   },
   "outputs": [],
   "source": [
    "#print(accuracy_score(y_teste, previsoes))\n",
    "#print(metrics.classification_report(y_teste, previsoes))"
   ]
  },
  {
   "cell_type": "code",
   "execution_count": null,
   "metadata": {
    "id": "DLwF0zl4dq9I"
   },
   "outputs": [],
   "source": [
    "#df_02.head(100)"
   ]
  },
  {
   "cell_type": "code",
   "execution_count": null,
   "metadata": {
    "id": "Qbi71VmBYhBJ"
   },
   "outputs": [],
   "source": [
    "#mensagem = df_02['DESCRICAO'][99]\n",
    "#mensagem"
   ]
  },
  {
   "cell_type": "code",
   "execution_count": null,
   "metadata": {
    "id": "QpUmVVEOYY99"
   },
   "outputs": [],
   "source": [
    "#mensagem = [mensagem]\n",
    "#mensagem = vetorizador.transform(mensagem)\n",
    "#previsao = floresta.predict(mensagem)\n",
    "#print(previsao)"
   ]
  },
  {
   "cell_type": "markdown",
   "metadata": {
    "id": "p02lmfsaooJN"
   },
   "source": [
    "#### Classificação com Redes Neurais\n"
   ]
  },
  {
   "cell_type": "markdown",
   "metadata": {
    "id": "PTMO1a2orrMP"
   },
   "source": [
    "#### Implementando uma Rede Neural Parte 1"
   ]
  },
  {
   "cell_type": "markdown",
   "metadata": {
    "id": "CwTttVZ1swEQ"
   },
   "source": [
    "##### Imports"
   ]
  },
  {
   "cell_type": "code",
   "execution_count": null,
   "metadata": {
    "colab": {
     "base_uri": "https://localhost:8080/",
     "height": 424
    },
    "id": "IZyEuc8Q1B3R",
    "outputId": "37ec62c3-ca16-415d-8226-684e28f4f487"
   },
   "outputs": [],
   "source": [
    "df_02"
   ]
  },
  {
   "cell_type": "code",
   "execution_count": null,
   "metadata": {
    "id": "i1ndOdqEoi8T"
   },
   "outputs": [],
   "source": [
    "import pandas as pd\n",
    "from sklearn.model_selection import train_test_split\n",
    "from sklearn.preprocessing import LabelEncoder\n",
    "from sklearn.feature_extraction.text import CountVectorizer\n",
    "from sklearn.metrics import confusion_matrix\n",
    "from keras.models import Sequential\n",
    "from keras.layers import Dense, Dropout\n",
    "from google.colab import files\n",
    "import numpy as np"
   ]
  },
  {
   "cell_type": "markdown",
   "metadata": {
    "id": "IKvIb2LWuZsf"
   },
   "source": [
    "##### Transformar texto em numeros"
   ]
  },
  {
   "cell_type": "code",
   "execution_count": null,
   "metadata": {
    "colab": {
     "base_uri": "https://localhost:8080/"
    },
    "id": "V0jgEPYosJNk",
    "outputId": "92e86ac8-0aa6-40de-f3fc-96d1b0f5b1a5"
   },
   "outputs": [
    {
     "name": "stdout",
     "output_type": "stream",
     "text": [
      "[1 1 1 ... 1 1 1]\n"
     ]
    }
   ],
   "source": [
    "labelencoder = LabelEncoder()\n",
    "y = labelencoder.fit_transform(df_02['SITUAÇÃO DO SINISTRO'])\n",
    "print(y)"
   ]
  },
  {
   "cell_type": "code",
   "execution_count": null,
   "metadata": {
    "colab": {
     "base_uri": "https://localhost:8080/"
    },
    "id": "MU0xEF8ku6EP",
    "outputId": "b51b4d18-6c62-449b-94d5-e3fb4ab81c8e"
   },
   "outputs": [],
   "source": [
    "mensagens = df_02['DESCRICAO'].values\n",
    "X_train, X_test, y_train, y_test = train_test_split(mensagens, y, test_size=0.3)\n",
    "print(X_train)"
   ]
  },
  {
   "cell_type": "code",
   "execution_count": null,
   "metadata": {
    "colab": {
     "base_uri": "https://localhost:8080/"
    },
    "id": "GojR6We1zJcQ",
    "outputId": "a1fee54f-8de6-4f4c-b59c-89ae54175201"
   },
   "outputs": [
    {
     "name": "stdout",
     "output_type": "stream",
     "text": [
      "[[0 0 0 ... 0 0 0]\n",
      " [0 0 0 ... 0 0 0]\n",
      " [0 0 0 ... 0 0 0]\n",
      " ...\n",
      " [0 0 0 ... 0 0 0]\n",
      " [0 0 0 ... 0 0 0]\n",
      " [0 0 0 ... 0 0 0]]\n"
     ]
    }
   ],
   "source": [
    "vetorizador = CountVectorizer()\n",
    "vetorizador.fit(X_train)\n",
    "X_train = vetorizador.transform(X_train)\n",
    "X_test = vetorizador.transform(X_test)\n",
    "print(X_train.toarray())"
   ]
  },
  {
   "cell_type": "code",
   "execution_count": null,
   "metadata": {
    "id": "iIWEHVdiz5DE"
   },
   "outputs": [],
   "source": [
    "np.set_printoptions(threshold=np.inf)"
   ]
  },
  {
   "cell_type": "code",
   "execution_count": null,
   "metadata": {
    "id": "uthsD_8K226Y"
   },
   "outputs": [],
   "source": [
    "#X_train.toarray()[0]"
   ]
  },
  {
   "cell_type": "code",
   "execution_count": null,
   "metadata": {
    "colab": {
     "base_uri": "https://localhost:8080/"
    },
    "id": "q8rL-0eP28bc",
    "outputId": "db5b10eb-a740-43e7-d535-e8cfa2bf7508"
   },
   "outputs": [
    {
     "name": "stdout",
     "output_type": "stream",
     "text": [
      "55684\n"
     ]
    }
   ],
   "source": [
    "print(X_train.shape[1])"
   ]
  },
  {
   "cell_type": "markdown",
   "metadata": {
    "id": "YMYpI-lYFo4l"
   },
   "source": [
    "#### Implementando uma Rede Neural Parte 2"
   ]
  },
  {
   "cell_type": "code",
   "execution_count": null,
   "metadata": {
    "id": "1a8GtL3Q3RTS"
   },
   "outputs": [],
   "source": [
    "modelo = Sequential()\n",
    "modelo.add(Dense(units=10,activation=\"relu\",input_dim=X_train.shape[1]))\n",
    "modelo.add(Dropout(0.1))\n",
    "modelo.add(Dense(units=8,activation=\"relu\")) ##  0 0u 1\n",
    "modelo.add(Dropout(0.1))\n",
    "modelo.add(Dense(units=1,activation=\"sigmoid\")) #Camada de saida atua na probabilidade de ser 0 0u 1"
   ]
  },
  {
   "cell_type": "markdown",
   "metadata": {
    "id": "knxOHdVYGcXm"
   },
   "source": [
    "#### Implementando uma Rede Neural Parte 3"
   ]
  },
  {
   "cell_type": "code",
   "execution_count": null,
   "metadata": {
    "colab": {
     "base_uri": "https://localhost:8080/"
    },
    "id": "h04llmk-3Wqk",
    "outputId": "e9b8e288-1d4e-4542-9a55-351853e326e5"
   },
   "outputs": [
    {
     "name": "stdout",
     "output_type": "stream",
     "text": [
      "Model: \"sequential\"\n",
      "_________________________________________________________________\n",
      " Layer (type)                Output Shape              Param #   \n",
      "=================================================================\n",
      " dense (Dense)               (None, 10)                556850    \n",
      "                                                                 \n",
      " dropout (Dropout)           (None, 10)                0         \n",
      "                                                                 \n",
      " dense_1 (Dense)             (None, 8)                 88        \n",
      "                                                                 \n",
      " dropout_1 (Dropout)         (None, 8)                 0         \n",
      "                                                                 \n",
      " dense_2 (Dense)             (None, 1)                 9         \n",
      "                                                                 \n",
      "=================================================================\n",
      "Total params: 556,947\n",
      "Trainable params: 556,947\n",
      "Non-trainable params: 0\n",
      "_________________________________________________________________\n"
     ]
    }
   ],
   "source": [
    "modelo.compile(loss=\"mean_squared_error\", optimizer=\"adam\", metrics=[\"accuracy\"])\n",
    "modelo.summary()"
   ]
  },
  {
   "cell_type": "code",
   "execution_count": null,
   "metadata": {
    "colab": {
     "base_uri": "https://localhost:8080/"
    },
    "id": "ehpE_q8e3djT",
    "outputId": "a8ffabe7-3477-4895-a60c-942ec85d181c"
   },
   "outputs": [
    {
     "name": "stdout",
     "output_type": "stream",
     "text": [
      "Epoch 1/10\n",
      "6152/6152 [==============================] - 58s 9ms/step - loss: 0.0969 - accuracy: 0.8893 - val_loss: 0.0930 - val_accuracy: 0.8902\n",
      "Epoch 2/10\n",
      "6152/6152 [==============================] - 57s 9ms/step - loss: 0.0895 - accuracy: 0.8893 - val_loss: 0.0934 - val_accuracy: 0.8902\n",
      "Epoch 3/10\n",
      "6152/6152 [==============================] - 57s 9ms/step - loss: 0.0848 - accuracy: 0.8893 - val_loss: 0.0967 - val_accuracy: 0.8902\n",
      "Epoch 4/10\n",
      "6152/6152 [==============================] - 58s 9ms/step - loss: 0.0798 - accuracy: 0.8927 - val_loss: 0.1001 - val_accuracy: 0.8747\n",
      "Epoch 5/10\n",
      "6152/6152 [==============================] - 59s 10ms/step - loss: 0.0752 - accuracy: 0.8998 - val_loss: 0.1020 - val_accuracy: 0.8734\n",
      "Epoch 6/10\n",
      "6152/6152 [==============================] - 55s 9ms/step - loss: 0.0706 - accuracy: 0.9070 - val_loss: 0.1048 - val_accuracy: 0.8668\n",
      "Epoch 7/10\n",
      "6152/6152 [==============================] - 56s 9ms/step - loss: 0.0662 - accuracy: 0.9136 - val_loss: 0.1069 - val_accuracy: 0.8665\n",
      "Epoch 8/10\n",
      "6152/6152 [==============================] - 56s 9ms/step - loss: 0.0625 - accuracy: 0.9183 - val_loss: 0.1105 - val_accuracy: 0.8588\n",
      "Epoch 9/10\n",
      "6152/6152 [==============================] - 57s 9ms/step - loss: 0.0591 - accuracy: 0.9221 - val_loss: 0.1159 - val_accuracy: 0.8478\n",
      "Epoch 10/10\n",
      "6152/6152 [==============================] - 62s 10ms/step - loss: 0.0569 - accuracy: 0.9247 - val_loss: 0.1116 - val_accuracy: 0.8589\n"
     ]
    },
    {
     "data": {
      "text/plain": [
       "<keras.callbacks.History at 0x7f79348f9360>"
      ]
     },
     "execution_count": 91,
     "metadata": {},
     "output_type": "execute_result"
    }
   ],
   "source": [
    "modelo.fit(X_train, y_train,epochs=10,batch_size=10, verbose=True, validation_data=(X_test, y_test))"
   ]
  },
  {
   "cell_type": "code",
   "execution_count": null,
   "metadata": {
    "colab": {
     "base_uri": "https://localhost:8080/"
    },
    "id": "WZVegqHd3jTC",
    "outputId": "9531c467-84c9-42dd-8920-6b2a95325a74"
   },
   "outputs": [
    {
     "name": "stdout",
     "output_type": "stream",
     "text": [
      "824/824 [==============================] - 2s 2ms/step - loss: 0.1116 - accuracy: 0.8589\n",
      "Loss:  0.11162768304347992\n",
      "Acurácia:  0.8589091897010803\n"
     ]
    }
   ],
   "source": [
    "loss, accuracy = modelo.evaluate(X_test,y_test)\n",
    "print(\"Loss: \", loss)\n",
    "print(\"Acurácia: \", accuracy)"
   ]
  },
  {
   "cell_type": "code",
   "execution_count": null,
   "metadata": {
    "id": "XP3UQZWG3k8d"
   },
   "outputs": [],
   "source": [
    "nova_previsao = modelo.predict(X_test)\n",
    "#print(nova_previsao)"
   ]
  },
  {
   "cell_type": "code",
   "execution_count": null,
   "metadata": {
    "id": "ZhQUGCPQ3pI-"
   },
   "outputs": [],
   "source": [
    "prev = (nova_previsao > 0.5)\n",
    "#print(prev)"
   ]
  },
  {
   "cell_type": "code",
   "execution_count": null,
   "metadata": {
    "colab": {
     "base_uri": "https://localhost:8080/"
    },
    "id": "omJiQ2TO3tu-",
    "outputId": "60362b96-9c27-476a-ff6d-b4a283e85415"
   },
   "outputs": [
    {
     "name": "stdout",
     "output_type": "stream",
     "text": [
      "[[  313  2583]\n",
      " [ 1137 22333]]\n"
     ]
    }
   ],
   "source": [
    "cm = confusion_matrix(y_test, prev)\n",
    "print(cm)\n",
    "\n",
    " #20 [[  729  2138]\n",
    " #[ 2772 20727]]"
   ]
  },
  {
   "cell_type": "markdown",
   "metadata": {
    "id": "HtwyQYvepbmC"
   },
   "source": [
    "#### Criando seu próprio Embeddings"
   ]
  },
  {
   "cell_type": "markdown",
   "metadata": {
    "id": "7HZ3_7pjra06"
   },
   "source": [
    "##### Implementando uma Rede Neural com Embeddings Parte 1"
   ]
  },
  {
   "cell_type": "code",
   "execution_count": null,
   "metadata": {
    "id": "uGPASAUvsD4a"
   },
   "outputs": [],
   "source": [
    "import pandas as pd\n",
    "from sklearn.model_selection import train_test_split\n",
    "from sklearn.preprocessing import LabelEncoder\n",
    "#from sklearn.feature_extraction.text import CountVectorizer\n",
    "from sklearn.metrics import confusion_matrix\n",
    "from keras.models import Sequential\n",
    "from keras.layers import Dense, Dropout, Flatten, Embedding\n",
    "from google.colab import files\n",
    "\n",
    "from keras.preprocessing.text import Tokenizer\n",
    "from keras.utils import pad_sequences\n",
    "from sklearn.metrics import classification_report\n"
   ]
  },
  {
   "cell_type": "code",
   "execution_count": null,
   "metadata": {
    "colab": {
     "base_uri": "https://localhost:8080/",
     "height": 206
    },
    "id": "iiMSgLAvx462",
    "outputId": "ac4c5ac3-ad99-42a7-8e07-05bbeed2a41f"
   },
   "outputs": [],
   "source": [
    "df_02.head()"
   ]
  },
  {
   "cell_type": "code",
   "execution_count": null,
   "metadata": {
    "colab": {
     "base_uri": "https://localhost:8080/"
    },
    "id": "QEaSMzrd0mnf",
    "outputId": "5fd28ba9-37e3-499f-b43d-bd2c0d7a9db7"
   },
   "outputs": [],
   "source": [
    "labelencoder = LabelEncoder()\n",
    "y = labelencoder.fit_transform(df_02['DESCRICAO'])\n",
    "print(y)"
   ]
  },
  {
   "cell_type": "code",
   "execution_count": null,
   "metadata": {
    "id": "5GosjGDA0QlC"
   },
   "outputs": [],
   "source": [
    "mensagens = df_02['DESCRICAO'].values\n",
    "X_train, X_test, y_train, y_test = train_test_split(mensagens, y, test_size=0.3)"
   ]
  },
  {
   "cell_type": "code",
   "execution_count": null,
   "metadata": {
    "id": "kc419Tvbt5cE"
   },
   "outputs": [],
   "source": [
    "#print('Relatório de classificação:\\n', classification_report(y_train, X_test, digits=4))\n"
   ]
  },
  {
   "cell_type": "code",
   "execution_count": null,
   "metadata": {
    "id": "Wyk6jXI-0RVf"
   },
   "outputs": [],
   "source": [
    "token = Tokenizer(num_words=1000)\n",
    "token.fit_on_texts(X_train)\n",
    "\n",
    "X_train = token.texts_to_sequences(X_train)\n",
    "X_test = token.texts_to_sequences(X_test)"
   ]
  },
  {
   "cell_type": "code",
   "execution_count": null,
   "metadata": {
    "colab": {
     "base_uri": "https://localhost:8080/"
    },
    "id": "8O7WX0Li05Xc",
    "outputId": "8735b720-2565-438f-d8b3-52b06fd07edb"
   },
   "outputs": [
    {
     "name": "stderr",
     "output_type": "stream",
     "text": [
      "IOPub data rate exceeded.\n",
      "The notebook server will temporarily stop sending output\n",
      "to the client in order to avoid crashing it.\n",
      "To change this limit, set the config variable\n",
      "`--NotebookApp.iopub_data_rate_limit`.\n",
      "\n",
      "Current values:\n",
      "NotebookApp.iopub_data_rate_limit=1000000.0 (bytes/sec)\n",
      "NotebookApp.rate_limit_window=3.0 (secs)\n",
      "\n"
     ]
    }
   ],
   "source": [
    "print(X_train)"
   ]
  },
  {
   "cell_type": "code",
   "execution_count": null,
   "metadata": {
    "colab": {
     "base_uri": "https://localhost:8080/"
    },
    "id": "Ez0iyKAp1BHH",
    "outputId": "a7cf47f9-09d6-40d6-a36f-8a30835af67a"
   },
   "outputs": [
    {
     "name": "stderr",
     "output_type": "stream",
     "text": [
      "IOPub data rate exceeded.\n",
      "The notebook server will temporarily stop sending output\n",
      "to the client in order to avoid crashing it.\n",
      "To change this limit, set the config variable\n",
      "`--NotebookApp.iopub_data_rate_limit`.\n",
      "\n",
      "Current values:\n",
      "NotebookApp.iopub_data_rate_limit=1000000.0 (bytes/sec)\n",
      "NotebookApp.rate_limit_window=3.0 (secs)\n",
      "\n"
     ]
    }
   ],
   "source": [
    "X_train = pad_sequences(X_train, padding=\"post\", maxlen=500) ## tamanho maximo para cada vetor\n",
    "X_test = pad_sequences(X_test, padding=\"post\", maxlen=500)\n",
    "print(X_train) # Matriz Densa"
   ]
  },
  {
   "cell_type": "code",
   "execution_count": null,
   "metadata": {
    "id": "ORXB3R6QiHdr"
   },
   "outputs": [],
   "source": []
  },
  {
   "cell_type": "code",
   "execution_count": null,
   "metadata": {
    "colab": {
     "base_uri": "https://localhost:8080/"
    },
    "id": "0d1ITPoU1Koj",
    "outputId": "552626f6-7786-4781-d45e-ac074a283408"
   },
   "outputs": [
    {
     "name": "stdout",
     "output_type": "stream",
     "text": [
      "55663\n"
     ]
    }
   ],
   "source": [
    "print(len(token.word_index))"
   ]
  },
  {
   "cell_type": "markdown",
   "metadata": {
    "id": "60BQLLQP9cNR"
   },
   "source": [
    "##### Implementando uma Rede Neural com Embeddings Parte 2"
   ]
  },
  {
   "cell_type": "code",
   "execution_count": null,
   "metadata": {
    "id": "qah2aUYA1Ym8"
   },
   "outputs": [],
   "source": [
    "modelo = Sequential()\n",
    "modelo.add(Embedding(input_dim=len(token.word_index), output_dim=50,input_length=500)) #output_dim tamanho do vetor denso/input_length comprimento da sequencia\n",
    "modelo.add(Flatten())\n",
    "\n",
    "modelo.add(Dense(units=10,activation=\"relu\"))\n",
    "modelo.add(Dropout(0.1))\n",
    "modelo.add(Dense(units=1,activation=\"sigmoid\"))"
   ]
  },
  {
   "cell_type": "code",
   "execution_count": null,
   "metadata": {
    "colab": {
     "base_uri": "https://localhost:8080/"
    },
    "id": "YXO-Okgm1Mat",
    "outputId": "280e1b80-c976-4e45-803d-0f19ddcdcebc"
   },
   "outputs": [
    {
     "name": "stdout",
     "output_type": "stream",
     "text": [
      "Model: \"sequential_1\"\n",
      "_________________________________________________________________\n",
      " Layer (type)                Output Shape              Param #   \n",
      "=================================================================\n",
      " embedding (Embedding)       (None, 500, 50)           2783150   \n",
      "                                                                 \n",
      " flatten (Flatten)           (None, 25000)             0         \n",
      "                                                                 \n",
      " dense_3 (Dense)             (None, 10)                250010    \n",
      "                                                                 \n",
      " dropout_2 (Dropout)         (None, 10)                0         \n",
      "                                                                 \n",
      " dense_4 (Dense)             (None, 1)                 11        \n",
      "                                                                 \n",
      "=================================================================\n",
      "Total params: 3,033,171\n",
      "Trainable params: 3,033,171\n",
      "Non-trainable params: 0\n",
      "_________________________________________________________________\n"
     ]
    }
   ],
   "source": [
    "modelo.compile(loss=\"mean_squared_error\", optimizer=\"adam\", metrics=[\"accuracy\"])\n",
    "modelo.summary()"
   ]
  },
  {
   "cell_type": "code",
   "execution_count": null,
   "metadata": {
    "colab": {
     "base_uri": "https://localhost:8080/"
    },
    "id": "MVbOX-Ks1gjo",
    "outputId": "dd64fa93-f843-49f2-bd34-009e42c7fb42"
   },
   "outputs": [
    {
     "name": "stdout",
     "output_type": "stream",
     "text": [
      "Epoch 1/10\n",
      "6152/6152 [==============================] - 277s 45ms/step - loss: 2491456256.0000 - accuracy: 1.6255e-05 - val_loss: 2477511936.0000 - val_accuracy: 0.0000e+00\n",
      "Epoch 2/10\n",
      "6152/6152 [==============================] - 273s 44ms/step - loss: 2491460608.0000 - accuracy: 1.6255e-05 - val_loss: 2477511936.0000 - val_accuracy: 0.0000e+00\n",
      "Epoch 3/10\n",
      "6152/6152 [==============================] - 278s 45ms/step - loss: 2491457792.0000 - accuracy: 1.6255e-05 - val_loss: 2477511936.0000 - val_accuracy: 0.0000e+00\n",
      "Epoch 4/10\n",
      "6152/6152 [==============================] - 274s 44ms/step - loss: 2491457792.0000 - accuracy: 1.6255e-05 - val_loss: 2477511936.0000 - val_accuracy: 0.0000e+00\n",
      "Epoch 5/10\n",
      "6152/6152 [==============================] - 273s 44ms/step - loss: 2491453696.0000 - accuracy: 1.6255e-05 - val_loss: 2477511936.0000 - val_accuracy: 0.0000e+00\n",
      "Epoch 6/10\n",
      "6152/6152 [==============================] - 275s 45ms/step - loss: 2491458048.0000 - accuracy: 1.6255e-05 - val_loss: 2477511936.0000 - val_accuracy: 0.0000e+00\n",
      "Epoch 7/10\n",
      "6152/6152 [==============================] - 273s 44ms/step - loss: 2491456768.0000 - accuracy: 1.6255e-05 - val_loss: 2477511936.0000 - val_accuracy: 0.0000e+00\n",
      "Epoch 8/10\n",
      "6152/6152 [==============================] - 280s 46ms/step - loss: 2491459584.0000 - accuracy: 1.6255e-05 - val_loss: 2477511936.0000 - val_accuracy: 0.0000e+00\n",
      "Epoch 9/10\n",
      "6152/6152 [==============================] - 288s 47ms/step - loss: 2491456512.0000 - accuracy: 1.6255e-05 - val_loss: 2477511936.0000 - val_accuracy: 0.0000e+00\n",
      "Epoch 10/10\n",
      "6152/6152 [==============================] - 281s 46ms/step - loss: 2491463680.0000 - accuracy: 1.6255e-05 - val_loss: 2477511936.0000 - val_accuracy: 0.0000e+00\n"
     ]
    },
    {
     "data": {
      "text/plain": [
       "<keras.callbacks.History at 0x7f78da593190>"
      ]
     },
     "execution_count": 107,
     "metadata": {},
     "output_type": "execute_result"
    }
   ],
   "source": [
    "modelo.fit(X_train, y_train,epochs=10,batch_size=10, verbose=True, validation_data=(X_test, y_test))"
   ]
  },
  {
   "cell_type": "code",
   "execution_count": null,
   "metadata": {
    "colab": {
     "base_uri": "https://localhost:8080/"
    },
    "id": "_aoPuvQe1lLu",
    "outputId": "a5969393-39e9-4085-b1da-d6e300d234ab"
   },
   "outputs": [
    {
     "name": "stdout",
     "output_type": "stream",
     "text": [
      "824/824 [==============================] - 3s 3ms/step - loss: 2477509120.0000 - accuracy: 0.0000e+00\n",
      "Loss:  2477509120.0\n",
      "Acurácia:  0.0\n"
     ]
    }
   ],
   "source": [
    "loss, accuracy = modelo.evaluate(X_test,y_test)\n",
    "print(\"Loss: \", loss)\n",
    "print(\"Acurácia: \", accuracy)"
   ]
  },
  {
   "cell_type": "code",
   "execution_count": null,
   "metadata": {
    "id": "UplyXExT1ozO"
   },
   "outputs": [],
   "source": [
    "nova_previsao = modelo.predict(X_test)\n",
    "print(nova_previsao)"
   ]
  },
  {
   "cell_type": "code",
   "execution_count": null,
   "metadata": {
    "colab": {
     "base_uri": "https://localhost:8080/"
    },
    "id": "PA8vVU8x1sQu",
    "outputId": "b9e11076-6856-41c4-c7cc-e5ac216282a0"
   },
   "outputs": [],
   "source": [
    "prev = (nova_previsao > 0.5)\n",
    "#print(prev)"
   ]
  },
  {
   "cell_type": "code",
   "execution_count": null,
   "metadata": {
    "colab": {
     "base_uri": "https://localhost:8080/",
     "height": 360
    },
    "id": "uCyADTq-1xNN",
    "outputId": "21c00af5-4154-4161-bd1e-43e6634cb353"
   },
   "outputs": [],
   "source": [
    "cm = confusion_matrix(y_test, prev)\n",
    "#print(cm)"
   ]
  },
  {
   "cell_type": "code",
   "execution_count": null,
   "metadata": {
    "colab": {
     "base_uri": "https://localhost:8080/",
     "height": 341
    },
    "id": "TKNPdcy5hc5H",
    "outputId": "016a571d-8b36-4e69-d443-dd12c6dae2ae"
   },
   "outputs": [],
   "source": [
    "#print(classification_report(X_test,y_test))"
   ]
  },
  {
   "cell_type": "code",
   "execution_count": null,
   "metadata": {
    "colab": {
     "base_uri": "https://localhost:8080/"
    },
    "id": "2ZWHKDcQodlT",
    "outputId": "5aa3c7ca-2afd-494e-8cdf-5abea6e1d54e"
   },
   "outputs": [
    {
     "name": "stdout",
     "output_type": "stream",
     "text": [
      "Collecting transformers\n",
      "  Downloading transformers-4.31.0-py3-none-any.whl (7.4 MB)\n",
      "\u001b[2K     \u001b[90m━━━━━━━━━━━━━━━━━━━━━━━━━━━━━━━━━━━━━━━━\u001b[0m \u001b[32m7.4/7.4 MB\u001b[0m \u001b[31m13.1 MB/s\u001b[0m eta \u001b[36m0:00:00\u001b[0m\n",
      "\u001b[?25hRequirement already satisfied: filelock in /usr/local/lib/python3.10/dist-packages (from transformers) (3.12.2)\n",
      "Collecting huggingface-hub<1.0,>=0.14.1 (from transformers)\n",
      "  Downloading huggingface_hub-0.16.4-py3-none-any.whl (268 kB)\n",
      "\u001b[2K     \u001b[90m━━━━━━━━━━━━━━━━━━━━━━━━━━━━━━━━━━━━━━\u001b[0m \u001b[32m268.8/268.8 kB\u001b[0m \u001b[31m23.5 MB/s\u001b[0m eta \u001b[36m0:00:00\u001b[0m\n",
      "\u001b[?25hRequirement already satisfied: numpy>=1.17 in /usr/local/lib/python3.10/dist-packages (from transformers) (1.23.5)\n",
      "Requirement already satisfied: packaging>=20.0 in /usr/local/lib/python3.10/dist-packages (from transformers) (23.1)\n",
      "Requirement already satisfied: pyyaml>=5.1 in /usr/local/lib/python3.10/dist-packages (from transformers) (6.0.1)\n",
      "Requirement already satisfied: regex!=2019.12.17 in /usr/local/lib/python3.10/dist-packages (from transformers) (2022.10.31)\n",
      "Requirement already satisfied: requests in /usr/local/lib/python3.10/dist-packages (from transformers) (2.31.0)\n",
      "Collecting tokenizers!=0.11.3,<0.14,>=0.11.1 (from transformers)\n",
      "  Downloading tokenizers-0.13.3-cp310-cp310-manylinux_2_17_x86_64.manylinux2014_x86_64.whl (7.8 MB)\n",
      "\u001b[2K     \u001b[90m━━━━━━━━━━━━━━━━━━━━━━━━━━━━━━━━━━━━━━━━\u001b[0m \u001b[32m7.8/7.8 MB\u001b[0m \u001b[31m36.8 MB/s\u001b[0m eta \u001b[36m0:00:00\u001b[0m\n",
      "\u001b[?25hCollecting safetensors>=0.3.1 (from transformers)\n",
      "  Downloading safetensors-0.3.2-cp310-cp310-manylinux_2_17_x86_64.manylinux2014_x86_64.whl (1.3 MB)\n",
      "\u001b[2K     \u001b[90m━━━━━━━━━━━━━━━━━━━━━━━━━━━━━━━━━━━━━━━━\u001b[0m \u001b[32m1.3/1.3 MB\u001b[0m \u001b[31m39.7 MB/s\u001b[0m eta \u001b[36m0:00:00\u001b[0m\n",
      "\u001b[?25hRequirement already satisfied: tqdm>=4.27 in /usr/local/lib/python3.10/dist-packages (from transformers) (4.65.0)\n",
      "Requirement already satisfied: fsspec in /usr/local/lib/python3.10/dist-packages (from huggingface-hub<1.0,>=0.14.1->transformers) (2023.6.0)\n",
      "Requirement already satisfied: typing-extensions>=3.7.4.3 in /usr/local/lib/python3.10/dist-packages (from huggingface-hub<1.0,>=0.14.1->transformers) (4.7.1)\n",
      "Requirement already satisfied: charset-normalizer<4,>=2 in /usr/local/lib/python3.10/dist-packages (from requests->transformers) (3.2.0)\n",
      "Requirement already satisfied: idna<4,>=2.5 in /usr/local/lib/python3.10/dist-packages (from requests->transformers) (3.4)\n",
      "Requirement already satisfied: urllib3<3,>=1.21.1 in /usr/local/lib/python3.10/dist-packages (from requests->transformers) (1.26.16)\n",
      "Requirement already satisfied: certifi>=2017.4.17 in /usr/local/lib/python3.10/dist-packages (from requests->transformers) (2023.7.22)\n",
      "Installing collected packages: tokenizers, safetensors, huggingface-hub, transformers\n",
      "Successfully installed huggingface-hub-0.16.4 safetensors-0.3.2 tokenizers-0.13.3 transformers-4.31.0\n"
     ]
    }
   ],
   "source": [
    "pip install transformers"
   ]
  },
  {
   "cell_type": "code",
   "execution_count": null,
   "metadata": {
    "id": "W9MZEHPVmkz3"
   },
   "outputs": [],
   "source": [
    "from sklearn.pipeline import Pipeline"
   ]
  },
  {
   "cell_type": "code",
   "execution_count": null,
   "metadata": {
    "colab": {
     "base_uri": "https://localhost:8080/"
    },
    "id": "kqUmYGY1lxMU",
    "outputId": "7e2e33ad-9e64-4398-bd85-7cfa24e1c357"
   },
   "outputs": [
    {
     "name": "stdout",
     "output_type": "stream",
     "text": [
      "1923/1923 [==============================] - 106s 55ms/step - loss: 2491457792.0000 - accuracy: 1.6255e-05\n",
      "824/824 [==============================] - 3s 3ms/step\n"
     ]
    }
   ],
   "source": [
    "\n",
    "modelo.fit(X_train,y_train)\n",
    "y_preds = modelo.predict(X_test)"
   ]
  }
 ],
 "metadata": {
  "colab": {
   "collapsed_sections": [
    "9eTna6oOxIB8",
    "LwjTAuuo5vYe",
    "LU1N6vlyL758",
    "WzMxKFxxRSAn",
    "YQcmWsaeWbL1"
   ],
   "provenance": []
  },
  "kernelspec": {
   "display_name": "Python 3 (ipykernel)",
   "language": "python",
   "name": "python3"
  },
  "language_info": {
   "codemirror_mode": {
    "name": "ipython",
    "version": 3
   },
   "file_extension": ".py",
   "mimetype": "text/x-python",
   "name": "python",
   "nbconvert_exporter": "python",
   "pygments_lexer": "ipython3",
   "version": "3.11.6"
  }
 },
 "nbformat": 4,
 "nbformat_minor": 4
}
