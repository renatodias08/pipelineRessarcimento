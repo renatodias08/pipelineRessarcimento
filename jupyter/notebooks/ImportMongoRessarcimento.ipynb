{
 "cells": [
  {
   "cell_type": "markdown",
   "metadata": {
    "id": "FsLDf46o22NM"
   },
   "source": [
    "### Instalação"
   ]
  },
  {
   "cell_type": "code",
   "execution_count": 61,
   "metadata": {
    "colab": {
     "base_uri": "https://localhost:8080/"
    },
    "executionInfo": {
     "elapsed": 21253,
     "status": "ok",
     "timestamp": 1690558138201,
     "user": {
      "displayName": "Renato Dias",
      "userId": "13885054091250670265"
     },
     "user_tz": 180
    },
    "id": "-TefG8pHq7f8",
    "outputId": "1376060d-d173-4e8b-b742-c925d862f954"
   },
   "outputs": [
    {
     "name": "stdout",
     "output_type": "stream",
     "text": [
      "Requirement already satisfied: pymongo in /opt/conda/lib/python3.11/site-packages (4.6.1)\n",
      "Requirement already satisfied: dnspython<3.0.0,>=1.16.0 in /opt/conda/lib/python3.11/site-packages (from pymongo) (2.4.2)\n",
      "Note: you may need to restart the kernel to use updated packages.\n"
     ]
    }
   ],
   "source": [
    "pip install pymongo"
   ]
  },
  {
   "cell_type": "code",
   "execution_count": 62,
   "metadata": {
    "id": "cBDDgQbHrWcM"
   },
   "outputs": [
    {
     "name": "stdout",
     "output_type": "stream",
     "text": [
      "Requirement already satisfied: python-dotenv in /opt/conda/lib/python3.11/site-packages (1.0.0)\n",
      "Note: you may need to restart the kernel to use updated packages.\n"
     ]
    }
   ],
   "source": [
    "pip install python-dotenv"
   ]
  },
  {
   "cell_type": "code",
   "execution_count": 63,
   "metadata": {},
   "outputs": [
    {
     "name": "stdout",
     "output_type": "stream",
     "text": [
      "Requirement already satisfied: folium in /opt/conda/lib/python3.11/site-packages (0.15.1)\n",
      "Requirement already satisfied: branca>=0.6.0 in /opt/conda/lib/python3.11/site-packages (from folium) (0.7.0)\n",
      "Requirement already satisfied: jinja2>=2.9 in /opt/conda/lib/python3.11/site-packages (from folium) (3.1.2)\n",
      "Requirement already satisfied: numpy in /opt/conda/lib/python3.11/site-packages (from folium) (1.24.4)\n",
      "Requirement already satisfied: requests in /opt/conda/lib/python3.11/site-packages (from folium) (2.31.0)\n",
      "Requirement already satisfied: xyzservices in /opt/conda/lib/python3.11/site-packages (from folium) (2023.10.0)\n",
      "Requirement already satisfied: MarkupSafe>=2.0 in /opt/conda/lib/python3.11/site-packages (from jinja2>=2.9->folium) (2.1.3)\n",
      "Requirement already satisfied: charset-normalizer<4,>=2 in /opt/conda/lib/python3.11/site-packages (from requests->folium) (3.3.0)\n",
      "Requirement already satisfied: idna<4,>=2.5 in /opt/conda/lib/python3.11/site-packages (from requests->folium) (3.4)\n",
      "Requirement already satisfied: urllib3<3,>=1.21.1 in /opt/conda/lib/python3.11/site-packages (from requests->folium) (2.0.7)\n",
      "Requirement already satisfied: certifi>=2017.4.17 in /opt/conda/lib/python3.11/site-packages (from requests->folium) (2023.7.22)\n",
      "Note: you may need to restart the kernel to use updated packages.\n"
     ]
    }
   ],
   "source": [
    "pip install folium"
   ]
  },
  {
   "cell_type": "code",
   "execution_count": 64,
   "metadata": {},
   "outputs": [],
   "source": [
    "#pip install --upgrade pandas"
   ]
  },
  {
   "cell_type": "markdown",
   "metadata": {
    "id": "L-5QFTTSYyTR"
   },
   "source": [
    "https://github.com/Giffy/MongoDB_PyMongo_Tutorial/blob/master/1_1_First_steps_with_MongoDB_PyMongo.ipynb"
   ]
  },
  {
   "cell_type": "markdown",
   "metadata": {
    "id": "RQJbpNQQ2_Tz"
   },
   "source": [
    "### Carraegar Dados"
   ]
  },
  {
   "cell_type": "code",
   "execution_count": 65,
   "metadata": {
    "id": "nEs-gRTgZN6r"
   },
   "outputs": [],
   "source": [
    "import pymongo                            # Library to access MongoDB\n",
    "from pymongo import MongoClient           # Imports MongoClient\n",
    "import pandas as pd                       # Library to work with dataframes\n",
    "import folium                             # Library to create the map\n",
    "from folium import plugins                # plugin to create a heatmap\n",
    "import json\n",
    "#from pandas.io.json import json_normalize"
   ]
  },
  {
   "cell_type": "code",
   "execution_count": 66,
   "metadata": {},
   "outputs": [
    {
     "name": "stdout",
     "output_type": "stream",
     "text": [
      "Valor das credenciais: no arquivo .env\n"
     ]
    }
   ],
   "source": [
    "from dotenv import load_dotenv\n",
    "import os\n",
    "\n",
    "# Carregue as variáveis do arquivo .env\n",
    "load_dotenv()\n",
    "\n",
    "os.getenv(\"MINHAS_CREDENCIAIS_V1\")\n",
    "# Acesse as variáveis de ambiente\n",
    "valor_das_credenciais = os.getenv(\"MINHAS_CREDENCIAIS_V1\")\n",
    "MINIO_ROOT_URL= os.getenv(\"MINIO_ROOT_URL\")\n",
    "print(f\"Valor das credenciais: {valor_das_credenciais}\")\n"
   ]
  },
  {
   "cell_type": "code",
   "execution_count": null,
   "metadata": {
    "colab": {
     "base_uri": "https://localhost:8080/"
    },
    "executionInfo": {
     "elapsed": 1366,
     "status": "ok",
     "timestamp": 1690558141243,
     "user": {
      "displayName": "Renato Dias",
      "userId": "13885054091250670265"
     },
     "user_tz": 180
    },
    "id": "rQ02N1tjqp49",
    "outputId": "383c59d0-d7ee-48f4-ee3d-5b9dcbaf23f3"
   },
   "outputs": [],
   "source": [
    "client = MongoClient({MINIO_ROOT_URL})\n",
    "db = client.my_database\n",
    "\n",
    "server_info = client.server_info()\n",
    "print (server_info)"
   ]
  },
  {
   "cell_type": "code",
   "execution_count": 68,
   "metadata": {
    "colab": {
     "base_uri": "https://localhost:8080/"
    },
    "executionInfo": {
     "elapsed": 365,
     "status": "ok",
     "timestamp": 1690558141603,
     "user": {
      "displayName": "Renato Dias",
      "userId": "13885054091250670265"
     },
     "user_tz": 180
    },
    "id": "jyY7cVVltfjA",
    "outputId": "0718738b-28a7-4ef9-fde6-2e589d5eeb61"
   },
   "outputs": [],
   "source": [
    "\n",
    "database_names = client.list_database_names()\n",
    "#print (\"\\ndatabases:\", database_names)\n",
    "\n",
    "\n",
    "# Show existing database names\n",
    "client.list_database_names()\n",
    "\n",
    "# Set database name to work with. If it doesn't exist, it will be created as soon as one document is added.\n",
    "db = client.cargarecuperadb\n",
    "\n",
    "# Show Collections. Query returns a Cursor [ ] ,  list it to see the content\n",
    "list (db.list_collections())\n",
    "# empty list '[]' means that there are not collections in database\n",
    "\n",
    "# Set the collection to work with\n",
    "collection = db.dadosRecuperaDTO"
   ]
  },
  {
   "cell_type": "code",
   "execution_count": null,
   "metadata": {
    "colab": {
     "base_uri": "https://localhost:8080/"
    },
    "executionInfo": {
     "elapsed": 515,
     "status": "ok",
     "timestamp": 1690558142115,
     "user": {
      "displayName": "Renato Dias",
      "userId": "13885054091250670265"
     },
     "user_tz": 180
    },
    "id": "Hj79uVw_bzsv",
    "outputId": "71379bc6-b347-4736-c2fd-2171dc156f07"
   },
   "outputs": [],
   "source": [
    "\n",
    "list( collection.find().limit(1) )                      # To know how many documents are stored in the database"
   ]
  },
  {
   "cell_type": "code",
   "execution_count": 70,
   "metadata": {
    "colab": {
     "base_uri": "https://localhost:8080/"
    },
    "executionInfo": {
     "elapsed": 326,
     "status": "ok",
     "timestamp": 1690558142438,
     "user": {
      "displayName": "Renato Dias",
      "userId": "13885054091250670265"
     },
     "user_tz": 180
    },
    "id": "ZRTr8_CIZW7M",
    "outputId": "dad7b2c6-4ed7-4e05-a1a8-897d49ef6c3e"
   },
   "outputs": [],
   "source": [
    "#list ( collection.find( {'dataConsumer' : \"2023_06_12_14_43_26\"} ))  # Find the inserted document using the objectID"
   ]
  },
  {
   "cell_type": "code",
   "execution_count": 71,
   "metadata": {
    "colab": {
     "base_uri": "https://localhost:8080/"
    },
    "executionInfo": {
     "elapsed": 241,
     "status": "ok",
     "timestamp": 1690558142677,
     "user": {
      "displayName": "Renato Dias",
      "userId": "13885054091250670265"
     },
     "user_tz": 180
    },
    "id": "IqcO3Ql1i7sf",
    "outputId": "db40fdbb-57ad-4463-9f12-6ab5d334f475"
   },
   "outputs": [],
   "source": [
    "#collection.count_documents({'_id' : {'$exists' : 1} })           # contar os documentos com '_id' é uma forma de t"
   ]
  },
  {
   "cell_type": "code",
   "execution_count": 72,
   "metadata": {
    "colab": {
     "base_uri": "https://localhost:8080/"
    },
    "executionInfo": {
     "elapsed": 1947,
     "status": "ok",
     "timestamp": 1690558144623,
     "user": {
      "displayName": "Renato Dias",
      "userId": "13885054091250670265"
     },
     "user_tz": 180
    },
    "id": "IhUJI4aMjYlq",
    "outputId": "e1c59959-3e1a-4928-811a-b201c9a802bf"
   },
   "outputs": [],
   "source": [
    "fields = { '_id' : 0,\n",
    "          'dataConsumer' : 1\n",
    "           , 'requestChassiRessarcimento.chassiRessarcimento.operacao': 2          }\n",
    "\n",
    "\n",
    "filters = {'dataConsumer' : {'$exists' : 1}}\n",
    "\n",
    "query =   list ( collection.find( filters , fields ) )   #  Hide _id in reply\n",
    "       # finally the pipeline is sent to mongoDB with collection.aggregate\n",
    "#query"
   ]
  },
  {
   "cell_type": "markdown",
   "metadata": {
    "id": "OcR4WlBw0R1q"
   },
   "source": [
    "### Análise Exploratória e Limpeza"
   ]
  },
  {
   "cell_type": "code",
   "execution_count": 73,
   "metadata": {
    "colab": {
     "base_uri": "https://localhost:8080/"
    },
    "executionInfo": {
     "elapsed": 17530,
     "status": "ok",
     "timestamp": 1690558162150,
     "user": {
      "displayName": "Renato Dias",
      "userId": "13885054091250670265"
     },
     "user_tz": 180
    },
    "id": "01DygH7E0vXT",
    "outputId": "29b01344-c987-4bb0-c515-b3de8138dac7"
   },
   "outputs": [
    {
     "data": {
      "text/plain": [
       "Index(['_id', 'tagAuditoria', 'errors', 'links', '_class',\n",
       "       'requestChassiRessarcimento.chassiRessarcimento.operacao',\n",
       "       'requestChassiRessarcimento.chassiRessarcimento.codigoEmpresa',\n",
       "       'requestChassiRessarcimento.chassiRessarcimento.atributosSinistro.numero',\n",
       "       'requestChassiRessarcimento.chassiRessarcimento.atributosSinistro.ano',\n",
       "       'requestChassiRessarcimento.chassiRessarcimento.atributosSinistro.ramo',\n",
       "       'requestChassiRessarcimento.chassiRessarcimento.atributosSinistro.flagBaseHistoricaItau',\n",
       "       'requestChassiRessarcimento.chassiRessarcimento.atributosSinistro.dataAviso',\n",
       "       'requestChassiRessarcimento.chassiRessarcimento.atributosMotorDeRegra.tipoPerda',\n",
       "       'requestChassiRessarcimento.chassiRessarcimento.atributosMotorDeRegra.naturezaSinistro',\n",
       "       'requestChassiRessarcimento.chassiRessarcimento.atributosMotorDeRegra.seguradoAssumeCulpa',\n",
       "       'requestChassiRessarcimento.chassiRessarcimento.atributosMotorDeRegra.razaoLiberacaoCodigo531',\n",
       "       'requestChassiRessarcimento.chassiRessarcimento.atributosMotorDeRegra.razaoLiberacaoCodigo553',\n",
       "       'requestChassiRessarcimento.chassiRessarcimento.atributosMotorDeRegra.descricaoAvisoSinistro',\n",
       "       'requestChassiRessarcimento.chassiRessarcimento.atributosMotorDeRegra.territorioSinistro',\n",
       "       'requestChassiRessarcimento.chassiRessarcimento.atributosMotorDeRegra.tipoLogradouroSinistro',\n",
       "       'requestChassiRessarcimento.chassiRessarcimento.atributosMotorDeRegra.enderecoSinistro',\n",
       "       'requestChassiRessarcimento.chassiRessarcimento.atributosMotorDeRegra.numeroEnderecoSinistro',\n",
       "       'requestChassiRessarcimento.chassiRessarcimento.atributosMotorDeRegra.complementoEnderecoSinistro',\n",
       "       'requestChassiRessarcimento.chassiRessarcimento.atributosMotorDeRegra.descricaoCruzamentoSinistro',\n",
       "       'requestChassiRessarcimento.chassiRessarcimento.atributosMotorDeRegra.pontoReferenciaSinistro',\n",
       "       'requestChassiRessarcimento.chassiRessarcimento.atributosMotorDeRegra.flagPosssuiOrcamento',\n",
       "       'requestChassiRessarcimento.chassiRessarcimento.atributosApolice.codigoSucursal',\n",
       "       'requestChassiRessarcimento.chassiRessarcimento.atributosApolice.numero',\n",
       "       'requestChassiRessarcimento.chassiRessarcimento.atributosApolice.item',\n",
       "       'requestChassiRessarcimento.uuid',\n",
       "       'requestChassiRessarcimento.dataProducer',\n",
       "       'requestChassiRessarcimento.chassiRessarcimento.atributosMotorDeRegra.objetosAfetadosDescritivo',\n",
       "       'requestChassiRessarcimento.chassiRessarcimento.atributosSinistro.flagSeguradoUtilizaraSeguro',\n",
       "       'requestChassiRessarcimento.chassiRessarcimento.atributosMotorDeRegra.pontosImpacto',\n",
       "       'requestChassiRessarcimento.chassiRessarcimento.atributosMotorDeRegra.ufSinistro',\n",
       "       'requestChassiRessarcimento.chassiRessarcimento.atributosMotorDeRegra.cidadeSinistro',\n",
       "       'requestChassiRessarcimento.chassiRessarcimento.atributosMotorDeRegra.bairroSinistro',\n",
       "       'requestChassiRessarcimento.chassiRessarcimento.atributosMotorDeRegra.cepSinistro',\n",
       "       'requestChassiRessarcimento.chassiRessarcimento.atributosMotorDeRegra.flagEstabelecimentoComercial',\n",
       "       'dataConsumer', 'ressarcimentoNLP.faixa', 'ressarcimentoNLP.predito',\n",
       "       'ressarcimentoNLP.ressarcivel', 'ressarcimentoNLP.status',\n",
       "       'ressarcimentoMotorDeRegra.decisionID_',\n",
       "       'ressarcimentoMotorDeRegra.regras',\n",
       "       'ressarcimentoMotorDeRegra.ressarcivel', 'tokenRecupera.accessToken',\n",
       "       'tokenRecupera.expiresIn',\n",
       "       'requestChassiRessarcimento.chassiRessarcimento.atributosMotorDeRegra.flagRessarcimentoSinistro',\n",
       "       'requestChassiRessarcimento.chassiRessarcimento.atributosMotorDeRegra.motivoRecusaCodigo',\n",
       "       'requestChassiRessarcimento.chassiRessarcimento.atributosMotorDeRegra.flagPossuiOrcamento',\n",
       "       'ressarcimentoMotorDeRegra.recepciona',\n",
       "       'requestChassiRessarcimento.chassiRessarcimento.atributosMotorDeRegra.motivoRecusa553Codigo'],\n",
       "      dtype='object')"
      ]
     },
     "execution_count": 73,
     "metadata": {},
     "output_type": "execute_result"
    }
   ],
   "source": [
    "#datapoints = list ( collection.find( {'dataConsumer' : \"2023_06_12_14_43_26\"} ))\n",
    "datapoints = list ( collection.find())\n",
    "df = pd.json_normalize(datapoints)\n",
    "#df.head()\n",
    "df.columns"
   ]
  },
  {
   "cell_type": "code",
   "execution_count": 74,
   "metadata": {
    "colab": {
     "base_uri": "https://localhost:8080/"
    },
    "executionInfo": {
     "elapsed": 52,
     "status": "ok",
     "timestamp": 1690558162151,
     "user": {
      "displayName": "Renato Dias",
      "userId": "13885054091250670265"
     },
     "user_tz": 180
    },
    "id": "-aNfsbUSsGGv",
    "outputId": "1ab956b5-5132-4f0a-df5d-818dafcf6cfa"
   },
   "outputs": [
    {
     "data": {
      "text/html": [
       "<div>\n",
       "<style scoped>\n",
       "    .dataframe tbody tr th:only-of-type {\n",
       "        vertical-align: middle;\n",
       "    }\n",
       "\n",
       "    .dataframe tbody tr th {\n",
       "        vertical-align: top;\n",
       "    }\n",
       "\n",
       "    .dataframe thead th {\n",
       "        text-align: right;\n",
       "    }\n",
       "</style>\n",
       "<table border=\"1\" class=\"dataframe\">\n",
       "  <thead>\n",
       "    <tr style=\"text-align: right;\">\n",
       "      <th></th>\n",
       "      <th>0</th>\n",
       "    </tr>\n",
       "  </thead>\n",
       "  <tbody>\n",
       "    <tr>\n",
       "      <th>0</th>\n",
       "      <td>requestChassiRessarcimento.chassiRessarcimento...</td>\n",
       "    </tr>\n",
       "    <tr>\n",
       "      <th>1</th>\n",
       "      <td>requestChassiRessarcimento.chassiRessarcimento...</td>\n",
       "    </tr>\n",
       "    <tr>\n",
       "      <th>2</th>\n",
       "      <td>requestChassiRessarcimento.chassiRessarcimento...</td>\n",
       "    </tr>\n",
       "    <tr>\n",
       "      <th>3</th>\n",
       "      <td>ressarcimentoNLP.ressarcivel</td>\n",
       "    </tr>\n",
       "  </tbody>\n",
       "</table>\n",
       "</div>"
      ],
      "text/plain": [
       "                                                   0\n",
       "0  requestChassiRessarcimento.chassiRessarcimento...\n",
       "1  requestChassiRessarcimento.chassiRessarcimento...\n",
       "2  requestChassiRessarcimento.chassiRessarcimento...\n",
       "3                       ressarcimentoNLP.ressarcivel"
      ]
     },
     "execution_count": 74,
     "metadata": {},
     "output_type": "execute_result"
    }
   ],
   "source": [
    "mapa = {\n",
    "    'requestChassiRessarcimento.chassiRessarcimento.atributosSinistro.ano': 'ANO'\n",
    "    ,'requestChassiRessarcimento.chassiRessarcimento.atributosMotorDeRegra.descricaoAvisoSinistro': 'DESCRICAO'\n",
    "    , 'requestChassiRessarcimento.chassiRessarcimento.atributosMotorDeRegra.naturezaSinistro': 'GRAU'\n",
    "    , 'ressarcimentoNLP.ressarcivel': 'SITUACAO'\n",
    "}\n",
    "\n",
    "#datapoints = list(collection.find({'ressarcimentoNLP.ressarcivel': {'$in': ['SIM', 'NAO']}}))\n",
    "mapaList = list ( mapa)\n",
    "df_mapa = pd.DataFrame(mapaList)\n",
    "df_mapa"
   ]
  },
  {
   "cell_type": "code",
   "execution_count": null,
   "metadata": {
    "colab": {
     "base_uri": "https://localhost:8080/",
     "height": 423
    },
    "executionInfo": {
     "elapsed": 32,
     "status": "ok",
     "timestamp": 1690558162151,
     "user": {
      "displayName": "Renato Dias",
      "userId": "13885054091250670265"
     },
     "user_tz": 180
    },
    "id": "ALzn04pvM3fs",
    "outputId": "34abe63f-9a8c-4df4-a969-4f1935edcf5c"
   },
   "outputs": [],
   "source": [
    "df_subset = df[mapaList].rename(columns=mapa)\n",
    "df_subset"
   ]
  },
  {
   "cell_type": "code",
   "execution_count": null,
   "metadata": {},
   "outputs": [],
   "source": [
    "df_subset['SINISTRO'] = range(1, len(df_subset) + 1)\n",
    "df_subset"
   ]
  },
  {
   "cell_type": "code",
   "execution_count": null,
   "metadata": {
    "colab": {
     "base_uri": "https://localhost:8080/",
     "height": 423
    },
    "executionInfo": {
     "elapsed": 15,
     "status": "ok",
     "timestamp": 1690558162152,
     "user": {
      "displayName": "Renato Dias",
      "userId": "13885054091250670265"
     },
     "user_tz": 180
    },
    "id": "Q4qugXnOV4xJ",
    "outputId": "b6927b5b-6241-4113-b55b-7290a6498172"
   },
   "outputs": [],
   "source": [
    "df_subset"
   ]
  },
  {
   "cell_type": "code",
   "execution_count": null,
   "metadata": {
    "colab": {
     "base_uri": "https://localhost:8080/",
     "height": 423
    },
    "executionInfo": {
     "elapsed": 14,
     "status": "ok",
     "timestamp": 1690558162152,
     "user": {
      "displayName": "Renato Dias",
      "userId": "13885054091250670265"
     },
     "user_tz": 180
    },
    "id": "8_Ub7D2uGz5X",
    "outputId": "342fdb76-ea81-4933-b02c-e6aed8dbbc1e"
   },
   "outputs": [],
   "source": [
    "\n",
    "filtered_df = df_subset[(df_subset['SITUACAO'] == 'NAO')]\n",
    "filtered_df"
   ]
  },
  {
   "cell_type": "code",
   "execution_count": 79,
   "metadata": {
    "colab": {
     "base_uri": "https://localhost:8080/",
     "height": 519
    },
    "executionInfo": {
     "elapsed": 14,
     "status": "ok",
     "timestamp": 1690558162153,
     "user": {
      "displayName": "Renato Dias",
      "userId": "13885054091250670265"
     },
     "user_tz": 180
    },
    "id": "9BTxjMgbwVLH",
    "outputId": "a3084991-e944-466d-86de-60ec4e0b2bbc"
   },
   "outputs": [],
   "source": [
    "#df_subset.drop_duplicates(subset=['pontosImpacto'], inplace=True)\n",
    "#df_subset"
   ]
  },
  {
   "cell_type": "code",
   "execution_count": 80,
   "metadata": {
    "colab": {
     "base_uri": "https://localhost:8080/",
     "height": 519
    },
    "executionInfo": {
     "elapsed": 14,
     "status": "ok",
     "timestamp": 1690558162517,
     "user": {
      "displayName": "Renato Dias",
      "userId": "13885054091250670265"
     },
     "user_tz": 180
    },
    "id": "G5ccH9LSwnUh",
    "outputId": "ef4db18f-c4b0-430c-8ec5-c8161242186f"
   },
   "outputs": [
    {
     "data": {
      "text/html": [
       "<div>\n",
       "<style scoped>\n",
       "    .dataframe tbody tr th:only-of-type {\n",
       "        vertical-align: middle;\n",
       "    }\n",
       "\n",
       "    .dataframe tbody tr th {\n",
       "        vertical-align: top;\n",
       "    }\n",
       "\n",
       "    .dataframe thead th {\n",
       "        text-align: right;\n",
       "    }\n",
       "</style>\n",
       "<table border=\"1\" class=\"dataframe\">\n",
       "  <thead>\n",
       "    <tr style=\"text-align: right;\">\n",
       "      <th></th>\n",
       "      <th>SINISTRO</th>\n",
       "    </tr>\n",
       "  </thead>\n",
       "  <tbody>\n",
       "    <tr>\n",
       "      <th>0</th>\n",
       "      <td>1</td>\n",
       "    </tr>\n",
       "    <tr>\n",
       "      <th>1</th>\n",
       "      <td>2</td>\n",
       "    </tr>\n",
       "    <tr>\n",
       "      <th>2</th>\n",
       "      <td>3</td>\n",
       "    </tr>\n",
       "    <tr>\n",
       "      <th>3</th>\n",
       "      <td>4</td>\n",
       "    </tr>\n",
       "    <tr>\n",
       "      <th>4</th>\n",
       "      <td>5</td>\n",
       "    </tr>\n",
       "    <tr>\n",
       "      <th>...</th>\n",
       "      <td>...</td>\n",
       "    </tr>\n",
       "    <tr>\n",
       "      <th>51413</th>\n",
       "      <td>51414</td>\n",
       "    </tr>\n",
       "    <tr>\n",
       "      <th>51414</th>\n",
       "      <td>51415</td>\n",
       "    </tr>\n",
       "    <tr>\n",
       "      <th>51415</th>\n",
       "      <td>51416</td>\n",
       "    </tr>\n",
       "    <tr>\n",
       "      <th>51416</th>\n",
       "      <td>51417</td>\n",
       "    </tr>\n",
       "    <tr>\n",
       "      <th>51417</th>\n",
       "      <td>51418</td>\n",
       "    </tr>\n",
       "  </tbody>\n",
       "</table>\n",
       "<p>51418 rows × 1 columns</p>\n",
       "</div>"
      ],
      "text/plain": [
       "       SINISTRO\n",
       "0             1\n",
       "1             2\n",
       "2             3\n",
       "3             4\n",
       "4             5\n",
       "...         ...\n",
       "51413     51414\n",
       "51414     51415\n",
       "51415     51416\n",
       "51416     51417\n",
       "51417     51418\n",
       "\n",
       "[51418 rows x 1 columns]"
      ]
     },
     "execution_count": 80,
     "metadata": {},
     "output_type": "execute_result"
    }
   ],
   "source": [
    "#Remove the NaN values using dropna() method\n",
    "df_subset.dropna(axis=1)"
   ]
  },
  {
   "cell_type": "markdown",
   "metadata": {
    "id": "TEUClBVp0qLr"
   },
   "source": [
    "##### Bibliotecas"
   ]
  },
  {
   "cell_type": "code",
   "execution_count": 81,
   "metadata": {
    "id": "2o8dN6Ey0twl"
   },
   "outputs": [],
   "source": [
    "import pandas as pd\n",
    "import numpy as np\n",
    "from datetime import datetime\n",
    "from sklearn.preprocessing import MinMaxScaler\n",
    "from sklearn.cluster import KMeans\n",
    "from IPython.display import Image\n",
    "import seaborn as sns\n",
    "import matplotlib.pyplot as plt\n",
    "from matplotlib.gridspec import GridSpec\n",
    "from functools import reduce\n",
    "import pickle\n",
    "import warnings\n",
    "warnings.filterwarnings(\"ignore\")"
   ]
  },
  {
   "cell_type": "markdown",
   "metadata": {
    "id": "QhzfUIgS01pI"
   },
   "source": [
    "### Análise Exploratória e Limpeza\n",
    "\n",
    "> Bloco com recuo\n",
    "\n"
   ]
  },
  {
   "cell_type": "code",
   "execution_count": 97,
   "metadata": {
    "colab": {
     "base_uri": "https://localhost:8080/"
    },
    "executionInfo": {
     "elapsed": 50,
     "status": "ok",
     "timestamp": 1690558165021,
     "user": {
      "displayName": "Renato Dias",
      "userId": "13885054091250670265"
     },
     "user_tz": 180
    },
    "id": "8nDUu42205BL",
    "outputId": "348373de-1c5d-4a5b-a3a3-015405467723"
   },
   "outputs": [
    {
     "data": {
      "text/plain": [
       "Index(['ANO', 'DESCRICAO', 'GRAU', 'SITUACAO', 'SINISTRO'], dtype='object')"
      ]
     },
     "execution_count": 97,
     "metadata": {},
     "output_type": "execute_result"
    }
   ],
   "source": [
    "df_sinisitro=df_subset\n",
    "df_sinisitro.columns"
   ]
  },
  {
   "cell_type": "code",
   "execution_count": 98,
   "metadata": {
    "id": "fzUQCj4E1N0_"
   },
   "outputs": [],
   "source": [
    "#Image(filename='Tipos_de_Variaveis.png', width=1000, height=1000)"
   ]
  },
  {
   "cell_type": "code",
   "execution_count": 99,
   "metadata": {
    "id": "xCzEHvGB0h9t"
   },
   "outputs": [],
   "source": [
    "def show_null(df):\n",
    "    null_columns = (df.isnull().sum(axis=0)/len(df)).sort_values(ascending=False).index\n",
    "\n",
    "    null_data = pd.concat([df.isnull().sum(axis=0),\n",
    "                           (df.isnull().sum(axis=0)/len(df)).sort_values(ascending=False),\n",
    "                           df.loc[:, df.columns.isin(list(null_columns))].dtypes],\n",
    "                          axis=1)\n",
    "\n",
    "    null_data = null_data.rename(columns={0: '#',\n",
    "                                          1: '% null',\n",
    "                                          2: 'type'}).sort_values(ascending=False,\n",
    "                                                                  by='% null')\n",
    "\n",
    "    return null_data"
   ]
  },
  {
   "cell_type": "code",
   "execution_count": 100,
   "metadata": {
    "id": "rQ8OKtdJdpml"
   },
   "outputs": [],
   "source": [
    "def plot_num(df, feature):\n",
    "    fig = plt.figure(figsize=(12,8))\n",
    "    gs = GridSpec(1,2)\n",
    "    sns.countplot(x=feature, data=df, color='firebrick', ax=fig.add_subplot(gs[0,0]))\n",
    "    plt.xlabel(feature)\n",
    "    sns.stripplot(x=df[feature], color='darkcyan', ax=fig.add_subplot(gs[0,1]))\n",
    "    plt.xlabel(None)\n",
    "    plt.show()\n",
    "\n",
    "    #sns.countplot(x='seguradoAssumeCulpa', data=df_subset2);"
   ]
  },
  {
   "cell_type": "code",
   "execution_count": 101,
   "metadata": {
    "id": "VWMr-baj2CND"
   },
   "outputs": [],
   "source": [
    "def plot_cat(df, feature):\n",
    "    fig = plt.figure(figsize=(12,8))\n",
    "    ax = sns.countplot(data=df, x=feature)\n",
    "    for p in ax.patches:\n",
    "\n",
    "        ax.annotate(f'\\n{p.get_height()}',\n",
    "                    (p.get_x()+0.4, p.get_height()+5),\n",
    "                    ha='center',\n",
    "                    color='black')\n",
    "\n",
    "    plt.xlabel('\\n' + feature)\n",
    "    plt.ylabel('Quantidade de Clientes')\n",
    "    plt.show()"
   ]
  },
  {
   "cell_type": "code",
   "execution_count": null,
   "metadata": {
    "colab": {
     "base_uri": "https://localhost:8080/",
     "height": 206
    },
    "executionInfo": {
     "elapsed": 32,
     "status": "ok",
     "timestamp": 1690558165026,
     "user": {
      "displayName": "Renato Dias",
      "userId": "13885054091250670265"
     },
     "user_tz": 180
    },
    "id": "Q16wtDzE2LGc",
    "outputId": "115655ed-efd8-44ce-9074-23abff090336"
   },
   "outputs": [],
   "source": [
    "df_subset.head()"
   ]
  },
  {
   "cell_type": "code",
   "execution_count": 103,
   "metadata": {
    "colab": {
     "base_uri": "https://localhost:8080/",
     "height": 269
    },
    "executionInfo": {
     "elapsed": 31,
     "status": "ok",
     "timestamp": 1690558165027,
     "user": {
      "displayName": "Renato Dias",
      "userId": "13885054091250670265"
     },
     "user_tz": 180
    },
    "id": "e4ljS2En5IBf",
    "outputId": "8ea02b51-2c66-41de-a6a6-938167e8e31f"
   },
   "outputs": [
    {
     "data": {
      "text/html": [
       "<div>\n",
       "<style scoped>\n",
       "    .dataframe tbody tr th:only-of-type {\n",
       "        vertical-align: middle;\n",
       "    }\n",
       "\n",
       "    .dataframe tbody tr th {\n",
       "        vertical-align: top;\n",
       "    }\n",
       "\n",
       "    .dataframe thead th {\n",
       "        text-align: right;\n",
       "    }\n",
       "</style>\n",
       "<table border=\"1\" class=\"dataframe\">\n",
       "  <thead>\n",
       "    <tr style=\"text-align: right;\">\n",
       "      <th></th>\n",
       "      <th>#</th>\n",
       "      <th>% null</th>\n",
       "      <th>type</th>\n",
       "    </tr>\n",
       "  </thead>\n",
       "  <tbody>\n",
       "    <tr>\n",
       "      <th>ANO</th>\n",
       "      <td>0</td>\n",
       "      <td>0.0</td>\n",
       "      <td>object</td>\n",
       "    </tr>\n",
       "    <tr>\n",
       "      <th>DESCRICAO</th>\n",
       "      <td>0</td>\n",
       "      <td>0.0</td>\n",
       "      <td>object</td>\n",
       "    </tr>\n",
       "    <tr>\n",
       "      <th>GRAU</th>\n",
       "      <td>0</td>\n",
       "      <td>0.0</td>\n",
       "      <td>object</td>\n",
       "    </tr>\n",
       "    <tr>\n",
       "      <th>SITUACAO</th>\n",
       "      <td>0</td>\n",
       "      <td>0.0</td>\n",
       "      <td>object</td>\n",
       "    </tr>\n",
       "    <tr>\n",
       "      <th>SINISTRO</th>\n",
       "      <td>0</td>\n",
       "      <td>0.0</td>\n",
       "      <td>int64</td>\n",
       "    </tr>\n",
       "  </tbody>\n",
       "</table>\n",
       "</div>"
      ],
      "text/plain": [
       "           #  % null    type\n",
       "ANO        0     0.0  object\n",
       "DESCRICAO  0     0.0  object\n",
       "GRAU       0     0.0  object\n",
       "SITUACAO   0     0.0  object\n",
       "SINISTRO   0     0.0   int64"
      ]
     },
     "execution_count": 103,
     "metadata": {},
     "output_type": "execute_result"
    }
   ],
   "source": [
    "show_null(df_sinisitro)"
   ]
  },
  {
   "cell_type": "code",
   "execution_count": null,
   "metadata": {
    "colab": {
     "base_uri": "https://localhost:8080/",
     "height": 488
    },
    "executionInfo": {
     "elapsed": 474,
     "status": "ok",
     "timestamp": 1690558165473,
     "user": {
      "displayName": "Renato Dias",
      "userId": "13885054091250670265"
     },
     "user_tz": 180
    },
    "id": "r8_9zR-k5Peu",
    "outputId": "0bf21d6d-1d50-4934-ee4e-c07e72b08202"
   },
   "outputs": [],
   "source": [
    "df_sinisitro.dropna(inplace=True)\n",
    "df_sinisitro"
   ]
  },
  {
   "cell_type": "code",
   "execution_count": null,
   "metadata": {
    "colab": {
     "base_uri": "https://localhost:8080/",
     "height": 696
    },
    "executionInfo": {
     "elapsed": 464,
     "status": "ok",
     "timestamp": 1690558165904,
     "user": {
      "displayName": "Renato Dias",
      "userId": "13885054091250670265"
     },
     "user_tz": 180
    },
    "id": "CSKXeymKGIZy",
    "outputId": "e86b0d85-d2f3-4928-f427-edeb3d0a792c"
   },
   "outputs": [],
   "source": [
    "df_subset2 = df_sinisitro[(df_sinisitro['SITUACAO'] == 'NAO') | (df_sinisitro['SITUACAO'] == 'SIM')]\n",
    "df_subset2"
   ]
  },
  {
   "cell_type": "code",
   "execution_count": 106,
   "metadata": {
    "colab": {
     "base_uri": "https://localhost:8080/",
     "height": 712
    },
    "executionInfo": {
     "elapsed": 415,
     "status": "ok",
     "timestamp": 1690558166704,
     "user": {
      "displayName": "Renato Dias",
      "userId": "13885054091250670265"
     },
     "user_tz": 180
    },
    "id": "La8Hf3jD4zxN",
    "outputId": "96c7380b-87a5-459b-f238-4e51f78fd5d9"
   },
   "outputs": [
    {
     "data": {
      "image/png": "[encoded data removed]",
      "text/plain": [
       "<Figure size 1200x800 with 2 Axes>"
      ]
     },
     "metadata": {},
     "output_type": "display_data"
    }
   ],
   "source": [
    "plot_num(df_subset2, 'GRAU')"
   ]
  },
  {
   "cell_type": "code",
   "execution_count": 107,
   "metadata": {
    "colab": {
     "base_uri": "https://localhost:8080/",
     "height": 712
    },
    "executionInfo": {
     "elapsed": 375,
     "status": "ok",
     "timestamp": 1690558167074,
     "user": {
      "displayName": "Renato Dias",
      "userId": "13885054091250670265"
     },
     "user_tz": 180
    },
    "id": "dFWYdrlt5Wu_",
    "outputId": "79c0c974-4272-497d-b71b-b359dedafe5f"
   },
   "outputs": [
    {
     "data": {
      "image/png": "[encoded data removed]",
      "text/plain": [
       "<Figure size 1200x800 with 2 Axes>"
      ]
     },
     "metadata": {},
     "output_type": "display_data"
    }
   ],
   "source": [
    "plot_num(df_subset2, 'SITUACAO')"
   ]
  },
  {
   "cell_type": "code",
   "execution_count": null,
   "metadata": {
    "colab": {
     "base_uri": "https://localhost:8080/",
     "height": 488
    },
    "executionInfo": {
     "elapsed": 16,
     "status": "ok",
     "timestamp": 1690558167075,
     "user": {
      "displayName": "Renato Dias",
      "userId": "13885054091250670265"
     },
     "user_tz": 180
    },
    "id": "fBtZgBLF5f01",
    "outputId": "e20536cc-c0c8-4b8a-807b-b89de544a4fc"
   },
   "outputs": [],
   "source": [
    "df_subset2"
   ]
  },
  {
   "cell_type": "code",
   "execution_count": 109,
   "metadata": {},
   "outputs": [],
   "source": [
    "data = df_subset2"
   ]
  },
  {
   "cell_type": "code",
   "execution_count": 110,
   "metadata": {},
   "outputs": [],
   "source": [
    "import numpy as np\n",
    "import pandas as pd\n",
    "import pandas as pd\n",
    "import requests\n",
    "import json"
   ]
  },
  {
   "cell_type": "code",
   "execution_count": null,
   "metadata": {},
   "outputs": [],
   "source": [
    "# Suponha que 'df' seja o seu DataFrame\n",
    "for i, (index, row) in enumerate(data.iterrows()):\n",
    "    try:\n",
    "        if i >= 1:\n",
    "            break  # Sai do loop após 20 registros\n",
    "        # Seu código para processar cada linha aqui\n",
    "        descricao_sinistro = row['DESCRICAO']\n",
    "        numero_sinistro = row['SINISTRO']\n",
    "        # Montar o payload para a API como um objeto JSON\n",
    "        payload = {\n",
    "            \"descricaoSinistro\": descricao_sinistro,\n",
    "            \"numeroSinistro\": numero_sinistro\n",
    "        }\n",
    "        # Converter o dicionário em uma string JSON\n",
    "        payload_json = json.dumps(payload)\n",
    "        print(f\"Chamada para o sinistro {payload_json}\")\n",
    "\n",
    "            # Fazer a chamada à API\n",
    "        url_api = \"http://producer:8000/v1/ressarcimento\"\n",
    "        response = requests.post(url_api, json=payload)\n",
    "        jsonResponse = response.json()\n",
    "        uuid = jsonResponse['uuid']\n",
    "\n",
    "        # Verificar a resposta da API\n",
    "        if response.status_code == 200:\n",
    "            print(f\"##########INICIO########## {uuid}\\n Chamada para o sinistro {numero_sinistro} realizada com sucesso! response: {response.json()}\\n##########FIM##########\")\n",
    "        else:\n",
    "            print(f\"##########INICIO########## {uuid}\\n Erro na chamada para o sinistro {numero_sinistro}. Status code: {response.status_code} response: {response.json()}\\n####################\")\n",
    "    \n",
    "    except json.JSONDecodeError as err:\n",
    "        print(f\"Erro ao decodificar a string JSON: {err}\")\n",
    "        print(err.response.status_code)\n",
    "        print(err.response.text)\n",
    "    except requests.exceptions.HTTPError as err:\n",
    "        print(f\"Erro HTTP: {err}\")\n",
    "        print(err.response.status_code)\n",
    "        print(err.response.text)\n",
    "    except requests.exceptions.ConnectionError as err:\n",
    "        print(f\"Erro de conexão: {err}\")\n",
    "        print(err.response.status_code)\n",
    "        print(err.response.text)\n",
    "    except requests.exceptions.Timeout as err:\n",
    "        print(f\"Erro de tempo limite: {err}\")\n",
    "        print(err.response.status_code)\n",
    "        print(err.response.text)\n",
    "    except requests.exceptions.RequestException as err:\n",
    "        print(f\"Erro desconhecido: {err}\")   \n",
    "        print(err.response.status_code)\n",
    "        print(err.response.text)\n",
    "\n",
    "    \n"
   ]
  },
  {
   "cell_type": "code",
   "execution_count": null,
   "metadata": {},
   "outputs": [],
   "source": []
  },
  {
   "cell_type": "code",
   "execution_count": null,
   "metadata": {},
   "outputs": [],
   "source": []
  }
 ],
 "metadata": {
  "colab": {
   "authorship_tag": "ABX9TyPsLhx6ccYnW8uJ24PUb4Ml",
   "provenance": [],
   "toc_visible": true
  },
  "kernelspec": {
   "display_name": "Python 3 (ipykernel)",
   "language": "python",
   "name": "python3"
  },
  "language_info": {
   "codemirror_mode": {
    "name": "ipython",
    "version": 3
   },
   "file_extension": ".py",
   "mimetype": "text/x-python",
   "name": "python",
   "nbconvert_exporter": "python",
   "pygments_lexer": "ipython3",
   "version": "3.11.6"
  }
 },
 "nbformat": 4,
 "nbformat_minor": 4
}
