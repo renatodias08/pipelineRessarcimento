{
 "cells": [
  {
   "cell_type": "markdown",
   "metadata": {
    "id": "9eTna6oOxIB8"
   },
   "source": [
    "#### Carraegar Dados"
   ]
  },
  {
   "cell_type": "code",
   "execution_count": 48,
   "metadata": {},
   "outputs": [
    {
     "name": "stdout",
     "output_type": "stream",
     "text": [
      "Collecting keras\n",
      "  Downloading keras-3.0.1-py3-none-any.whl.metadata (4.8 kB)\n",
      "Collecting absl-py (from keras)\n",
      "  Downloading absl_py-2.0.0-py3-none-any.whl.metadata (2.3 kB)\n",
      "Requirement already satisfied: numpy in /opt/conda/lib/python3.11/site-packages (from keras) (1.24.4)\n",
      "Collecting rich (from keras)\n",
      "  Downloading rich-13.7.0-py3-none-any.whl.metadata (18 kB)\n",
      "Collecting namex (from keras)\n",
      "  Downloading namex-0.0.7-py3-none-any.whl (5.8 kB)\n",
      "Requirement already satisfied: h5py in /opt/conda/lib/python3.11/site-packages (from keras) (3.10.0)\n",
      "Collecting dm-tree (from keras)\n",
      "  Downloading dm_tree-0.1.8-cp311-cp311-manylinux_2_17_x86_64.manylinux2014_x86_64.whl (152 kB)\n",
      "\u001b[2K     \u001b[90m━━━━━━━━━━━━━━━━━━━━━━━━━━━━━━━━━━━━━━━\u001b[0m \u001b[32m152.8/152.8 kB\u001b[0m \u001b[31m5.2 MB/s\u001b[0m eta \u001b[36m0:00:00\u001b[0m\n",
      "\u001b[?25hCollecting markdown-it-py>=2.2.0 (from rich->keras)\n",
      "  Downloading markdown_it_py-3.0.0-py3-none-any.whl.metadata (6.9 kB)\n",
      "Requirement already satisfied: pygments<3.0.0,>=2.13.0 in /opt/conda/lib/python3.11/site-packages (from rich->keras) (2.16.1)\n",
      "Collecting mdurl~=0.1 (from markdown-it-py>=2.2.0->rich->keras)\n",
      "  Downloading mdurl-0.1.2-py3-none-any.whl (10.0 kB)\n",
      "Downloading keras-3.0.1-py3-none-any.whl (999 kB)\n",
      "\u001b[2K   \u001b[90m━━━━━━━━━━━━━━━━━━━━━━━━━━━━━━━━━━━━━━━━\u001b[0m \u001b[32m999.1/999.1 kB\u001b[0m \u001b[31m5.6 MB/s\u001b[0m eta \u001b[36m0:00:00\u001b[0m00:01\u001b[0m00:01\u001b[0m\n",
      "\u001b[?25hDownloading absl_py-2.0.0-py3-none-any.whl (130 kB)\n",
      "\u001b[2K   \u001b[90m━━━━━━━━━━━━━━━━━━━━━━━━━━━━━━━━━━━━━━━━\u001b[0m \u001b[32m130.2/130.2 kB\u001b[0m \u001b[31m5.3 MB/s\u001b[0m eta \u001b[36m0:00:00\u001b[0m\n",
      "\u001b[?25hDownloading rich-13.7.0-py3-none-any.whl (240 kB)\n",
      "\u001b[2K   \u001b[90m━━━━━━━━━━━━━━━━━━━━━━━━━━━━━━━━━━━━━━━━\u001b[0m \u001b[32m240.6/240.6 kB\u001b[0m \u001b[31m5.7 MB/s\u001b[0m eta \u001b[36m0:00:00\u001b[0ma \u001b[36m0:00:01\u001b[0m\n",
      "\u001b[?25hDownloading markdown_it_py-3.0.0-py3-none-any.whl (87 kB)\n",
      "\u001b[2K   \u001b[90m━━━━━━━━━━━━━━━━━━━━━━━━━━━━━━━━━━━━━━━━\u001b[0m \u001b[32m87.5/87.5 kB\u001b[0m \u001b[31m5.7 MB/s\u001b[0m eta \u001b[36m0:00:00\u001b[0m\n",
      "\u001b[?25hInstalling collected packages: namex, dm-tree, mdurl, absl-py, markdown-it-py, rich, keras\n",
      "Successfully installed absl-py-2.0.0 dm-tree-0.1.8 keras-3.0.1 markdown-it-py-3.0.0 mdurl-0.1.2 namex-0.0.7 rich-13.7.0\n",
      "Note: you may need to restart the kernel to use updated packages.\n"
     ]
    }
   ],
   "source": [
    "pip install keras"
   ]
  },
  {
   "cell_type": "code",
   "execution_count": 56,
   "metadata": {},
   "outputs": [
    {
     "name": "stdout",
     "output_type": "stream",
     "text": [
      "Requirement already satisfied: tensorflow in /opt/conda/lib/python3.11/site-packages (2.15.0.post1)\n",
      "Requirement already satisfied: absl-py>=1.0.0 in /opt/conda/lib/python3.11/site-packages (from tensorflow) (2.0.0)\n",
      "Requirement already satisfied: astunparse>=1.6.0 in /opt/conda/lib/python3.11/site-packages (from tensorflow) (1.6.3)\n",
      "Requirement already satisfied: flatbuffers>=23.5.26 in /opt/conda/lib/python3.11/site-packages (from tensorflow) (23.5.26)\n",
      "Requirement already satisfied: gast!=0.5.0,!=0.5.1,!=0.5.2,>=0.2.1 in /opt/conda/lib/python3.11/site-packages (from tensorflow) (0.5.4)\n",
      "Requirement already satisfied: google-pasta>=0.1.1 in /opt/conda/lib/python3.11/site-packages (from tensorflow) (0.2.0)\n",
      "Requirement already satisfied: h5py>=2.9.0 in /opt/conda/lib/python3.11/site-packages (from tensorflow) (3.10.0)\n",
      "Requirement already satisfied: libclang>=13.0.0 in /opt/conda/lib/python3.11/site-packages (from tensorflow) (16.0.6)\n",
      "Requirement already satisfied: ml-dtypes~=0.2.0 in /opt/conda/lib/python3.11/site-packages (from tensorflow) (0.2.0)\n",
      "Requirement already satisfied: numpy<2.0.0,>=1.23.5 in /opt/conda/lib/python3.11/site-packages (from tensorflow) (1.24.4)\n",
      "Requirement already satisfied: opt-einsum>=2.3.2 in /opt/conda/lib/python3.11/site-packages (from tensorflow) (3.3.0)\n",
      "Requirement already satisfied: packaging in /opt/conda/lib/python3.11/site-packages (from tensorflow) (23.2)\n",
      "Requirement already satisfied: protobuf!=4.21.0,!=4.21.1,!=4.21.2,!=4.21.3,!=4.21.4,!=4.21.5,<5.0.0dev,>=3.20.3 in /opt/conda/lib/python3.11/site-packages (from tensorflow) (4.23.4)\n",
      "Requirement already satisfied: setuptools in /opt/conda/lib/python3.11/site-packages (from tensorflow) (68.2.2)\n",
      "Requirement already satisfied: six>=1.12.0 in /opt/conda/lib/python3.11/site-packages (from tensorflow) (1.16.0)\n",
      "Requirement already satisfied: termcolor>=1.1.0 in /opt/conda/lib/python3.11/site-packages (from tensorflow) (2.4.0)\n",
      "Requirement already satisfied: typing-extensions>=3.6.6 in /opt/conda/lib/python3.11/site-packages (from tensorflow) (3.10.0.0)\n",
      "Requirement already satisfied: wrapt<1.15,>=1.11.0 in /opt/conda/lib/python3.11/site-packages (from tensorflow) (1.14.1)\n",
      "Requirement already satisfied: tensorflow-io-gcs-filesystem>=0.23.1 in /opt/conda/lib/python3.11/site-packages (from tensorflow) (0.34.0)\n",
      "Requirement already satisfied: grpcio<2.0,>=1.24.3 in /opt/conda/lib/python3.11/site-packages (from tensorflow) (1.60.0)\n",
      "Requirement already satisfied: tensorboard<2.16,>=2.15 in /opt/conda/lib/python3.11/site-packages (from tensorflow) (2.15.1)\n",
      "Requirement already satisfied: tensorflow-estimator<2.16,>=2.15.0 in /opt/conda/lib/python3.11/site-packages (from tensorflow) (2.15.0)\n",
      "Requirement already satisfied: keras<2.16,>=2.15.0 in /opt/conda/lib/python3.11/site-packages (from tensorflow) (2.15.0)\n",
      "Requirement already satisfied: wheel<1.0,>=0.23.0 in /opt/conda/lib/python3.11/site-packages (from astunparse>=1.6.0->tensorflow) (0.41.2)\n",
      "Requirement already satisfied: google-auth<3,>=1.6.3 in /opt/conda/lib/python3.11/site-packages (from tensorboard<2.16,>=2.15->tensorflow) (2.25.2)\n",
      "Requirement already satisfied: google-auth-oauthlib<2,>=0.5 in /opt/conda/lib/python3.11/site-packages (from tensorboard<2.16,>=2.15->tensorflow) (1.2.0)\n",
      "Requirement already satisfied: markdown>=2.6.8 in /opt/conda/lib/python3.11/site-packages (from tensorboard<2.16,>=2.15->tensorflow) (3.5.1)\n",
      "Requirement already satisfied: requests<3,>=2.21.0 in /opt/conda/lib/python3.11/site-packages (from tensorboard<2.16,>=2.15->tensorflow) (2.31.0)\n",
      "Requirement already satisfied: tensorboard-data-server<0.8.0,>=0.7.0 in /opt/conda/lib/python3.11/site-packages (from tensorboard<2.16,>=2.15->tensorflow) (0.7.2)\n",
      "Requirement already satisfied: werkzeug>=1.0.1 in /opt/conda/lib/python3.11/site-packages (from tensorboard<2.16,>=2.15->tensorflow) (3.0.1)\n",
      "Requirement already satisfied: cachetools<6.0,>=2.0.0 in /opt/conda/lib/python3.11/site-packages (from google-auth<3,>=1.6.3->tensorboard<2.16,>=2.15->tensorflow) (5.3.2)\n",
      "Requirement already satisfied: pyasn1-modules>=0.2.1 in /opt/conda/lib/python3.11/site-packages (from google-auth<3,>=1.6.3->tensorboard<2.16,>=2.15->tensorflow) (0.3.0)\n",
      "Requirement already satisfied: rsa<5,>=3.1.4 in /opt/conda/lib/python3.11/site-packages (from google-auth<3,>=1.6.3->tensorboard<2.16,>=2.15->tensorflow) (4.9)\n",
      "Requirement already satisfied: requests-oauthlib>=0.7.0 in /opt/conda/lib/python3.11/site-packages (from google-auth-oauthlib<2,>=0.5->tensorboard<2.16,>=2.15->tensorflow) (1.3.1)\n",
      "Requirement already satisfied: charset-normalizer<4,>=2 in /opt/conda/lib/python3.11/site-packages (from requests<3,>=2.21.0->tensorboard<2.16,>=2.15->tensorflow) (3.3.0)\n",
      "Requirement already satisfied: idna<4,>=2.5 in /opt/conda/lib/python3.11/site-packages (from requests<3,>=2.21.0->tensorboard<2.16,>=2.15->tensorflow) (3.4)\n",
      "Requirement already satisfied: urllib3<3,>=1.21.1 in /opt/conda/lib/python3.11/site-packages (from requests<3,>=2.21.0->tensorboard<2.16,>=2.15->tensorflow) (2.0.7)\n",
      "Requirement already satisfied: certifi>=2017.4.17 in /opt/conda/lib/python3.11/site-packages (from requests<3,>=2.21.0->tensorboard<2.16,>=2.15->tensorflow) (2023.7.22)\n",
      "Requirement already satisfied: MarkupSafe>=2.1.1 in /opt/conda/lib/python3.11/site-packages (from werkzeug>=1.0.1->tensorboard<2.16,>=2.15->tensorflow) (2.1.3)\n",
      "Requirement already satisfied: pyasn1<0.6.0,>=0.4.6 in /opt/conda/lib/python3.11/site-packages (from pyasn1-modules>=0.2.1->google-auth<3,>=1.6.3->tensorboard<2.16,>=2.15->tensorflow) (0.5.1)\n",
      "Requirement already satisfied: oauthlib>=3.0.0 in /opt/conda/lib/python3.11/site-packages (from requests-oauthlib>=0.7.0->google-auth-oauthlib<2,>=0.5->tensorboard<2.16,>=2.15->tensorflow) (3.2.2)\n",
      "Note: you may need to restart the kernel to use updated packages.\n"
     ]
    }
   ],
   "source": [
    "pip install -U tensorflow"
   ]
  },
  {
   "cell_type": "code",
   "execution_count": 57,
   "metadata": {},
   "outputs": [
    {
     "name": "stdout",
     "output_type": "stream",
     "text": [
      "Requirement already satisfied: numpy in /opt/conda/lib/python3.11/site-packages (1.24.4)\n",
      "Collecting numpy\n",
      "  Downloading numpy-1.26.2-cp311-cp311-manylinux_2_17_x86_64.manylinux2014_x86_64.whl.metadata (61 kB)\n",
      "\u001b[2K     \u001b[90m━━━━━━━━━━━━━━━━━━━━━━━━━━━━━━━━━━━━━━━━\u001b[0m \u001b[32m61.2/61.2 kB\u001b[0m \u001b[31m4.3 MB/s\u001b[0m eta \u001b[36m0:00:00\u001b[0m\n",
      "\u001b[?25hDownloading numpy-1.26.2-cp311-cp311-manylinux_2_17_x86_64.manylinux2014_x86_64.whl (18.2 MB)\n",
      "\u001b[2K   \u001b[90m━━━━━━━━━━━━━━━━━━━━━━━━━━━━━━━━━━━━━━━━\u001b[0m \u001b[32m18.2/18.2 MB\u001b[0m \u001b[31m7.1 MB/s\u001b[0m eta \u001b[36m0:00:00\u001b[0m00:01\u001b[0m00:01\u001b[0m\n",
      "\u001b[?25hInstalling collected packages: numpy\n",
      "  Attempting uninstall: numpy\n",
      "    Found existing installation: numpy 1.24.4\n",
      "    Uninstalling numpy-1.24.4:\n",
      "      Successfully uninstalled numpy-1.24.4\n",
      "\u001b[31mERROR: pip's dependency resolver does not currently take into account all the packages that are installed. This behaviour is the source of the following dependency conflicts.\n",
      "numba 0.57.1 requires numpy<1.25,>=1.21, but you have numpy 1.26.2 which is incompatible.\u001b[0m\u001b[31m\n",
      "\u001b[0mSuccessfully installed numpy-1.26.2\n",
      "Note: you may need to restart the kernel to use updated packages.\n"
     ]
    }
   ],
   "source": [
    "pip install -U numpy"
   ]
  },
  {
   "cell_type": "code",
   "execution_count": 5,
   "metadata": {
    "id": "xm0jgdzIZ43k"
   },
   "outputs": [],
   "source": [
    "import pandas as pd\n",
    "from sklearn.model_selection import train_test_split\n",
    "from sklearn import metrics\n",
    "from sklearn.metrics import confusion_matrix, accuracy_score\n",
    "from sklearn.ensemble import RandomForestClassifier\n",
    "from sklearn.feature_extraction.text import TfidfVectorizer\n",
    "from datetime import datetime\n",
    "from sklearn.preprocessing import MinMaxScaler\n",
    "from sklearn.cluster import KMeans\n",
    "from IPython.display import Image\n",
    "import seaborn as sns\n",
    "import matplotlib.pyplot as plt\n",
    "from matplotlib.gridspec import GridSpec\n",
    "from functools import reduce\n",
    "import pickle\n",
    "import warnings\n",
    "warnings.filterwarnings(\"ignore\")"
   ]
  },
  {
   "cell_type": "code",
   "execution_count": 6,
   "metadata": {
    "id": "Q-hk7lEJyHPy"
   },
   "outputs": [],
   "source": [
    "##from google.colab import files\n",
    "#uploaded = files.upload()"
   ]
  },
  {
   "cell_type": "code",
   "execution_count": 7,
   "metadata": {
    "colab": {
     "base_uri": "https://localhost:8080/",
     "height": 73
    },
    "id": "3Ml6b78ea9gF",
    "outputId": "3b2c6e58-c164-4f5b-f7c5-346221da7562"
   },
   "outputs": [],
   "source": [
    "#from google.colab import files\n",
    "#uploaded = files.upload()"
   ]
  },
  {
   "cell_type": "code",
   "execution_count": 8,
   "metadata": {
    "colab": {
     "base_uri": "https://localhost:8080/"
    },
    "id": "bHoNSS4-s3My",
    "outputId": "1a2a6b14-9300-45bc-e7d0-241ea035b46c"
   },
   "outputs": [
    {
     "name": "stdout",
     "output_type": "stream",
     "text": [
      "                 RAS                                          DESCRICAO  RAMO  \\\n",
      "0      5312021432135  - A CONDUTORA DO VEICULO SEGURADO CONDUZIA SEU...   531   \n",
      "1      5312022143365  - A CONDUTORA DO VEICULO SEGURADO CONDUZIA SEU...   531   \n",
      "2      5312022148942  - A CONDUTORA DO VEICULO SEGURADO CONDUZIA SEU...   531   \n",
      "3       531202028008   Ao virar a esquina da rua Gentil de Mora com ...   531   \n",
      "4       531202163576   CONDUTORA TRAFEGAVA NA AVENIDA EUCLIDES DA CU...   531   \n",
      "...              ...                                                ...   ...   \n",
      "87990   531202012566                                                NaN   531   \n",
      "87991  5312011123882                      Descrição não obtida por erro   531   \n",
      "87992  5312020123877  SEGURADO TRAFEGAVA AO PASSAR A ROTATORIA SAIDA...   531   \n",
      "87993    53120128953                                                NaN   531   \n",
      "87994   531202289529                                                NaN   531   \n",
      "\n",
      "       SINISTRO   ANO                            GRAU  \\\n",
      "0        432135  2021  COLISAO EM VEICULO ESTACIONADO   \n",
      "1        143365  2022  COLISAO EM VEICULO ESTACIONADO   \n",
      "2        148942  2022                ANIMAIS NA PISTA   \n",
      "3         28008  2020  COLISAO EM VEICULO ESTACIONADO   \n",
      "4         63576  2021     INTERCEPTAÇÃO DE TRAJETORIA   \n",
      "...         ...   ...                             ...   \n",
      "87990     12566  2020                 QUEDA DE ARVORE   \n",
      "87991    123882  2011             COLISAO NA TRASEIRA   \n",
      "87992    123877  2020                PERDA DE DIRECAO   \n",
      "87993      8953  2012             COLISAO NA TRASEIRA   \n",
      "87994     89529  2022             COLISAO NA TRASEIRA   \n",
      "\n",
      "            SITUAÇÃO DO SINISTRO DATA DA BAIXA  ANO DA BAIXA  \n",
      "0      BAIXADO SEM RESSARCIMENTO           NaT           NaN  \n",
      "1      BAIXADO SEM RESSARCIMENTO           NaT           NaN  \n",
      "2      BAIXADO SEM RESSARCIMENTO           NaT           NaN  \n",
      "3               SEGURADO CULPADO           NaT           NaN  \n",
      "4      BAIXADO COM RESSARCIMENTO           NaT           NaN  \n",
      "...                          ...           ...           ...  \n",
      "87990  BAIXADO SEM RESSARCIMENTO    2020-01-14        2020.0  \n",
      "87991  BAIXADO SEM RESSARCIMENTO    2020-07-31        2020.0  \n",
      "87992  BAIXADO SEM RESSARCIMENTO    2020-04-30        2020.0  \n",
      "87993  BAIXADO SEM RESSARCIMENTO           NaT           NaN  \n",
      "87994  BAIXADO SEM RESSARCIMENTO           NaT           NaN  \n",
      "\n",
      "[87995 rows x 9 columns]\n"
     ]
    }
   ],
   "source": [
    "read_file = pd.read_excel('base de descrições.xlsx')\n",
    "#print(read_file)\n"
   ]
  },
  {
   "cell_type": "markdown",
   "metadata": {
    "id": "Bj1D-Wv8xR8P"
   },
   "source": [
    "###### Ler excel"
   ]
  },
  {
   "cell_type": "code",
   "execution_count": 9,
   "metadata": {
    "id": "wrTjwP_wt2cU"
   },
   "outputs": [],
   "source": [
    "read_file.to_csv (r'base_de_descricoes.csv', index = None, header=True)"
   ]
  },
  {
   "cell_type": "markdown",
   "metadata": {
    "id": "FQAM8ruQxajD"
   },
   "source": [
    "###### Gerar csv"
   ]
  },
  {
   "cell_type": "code",
   "execution_count": 10,
   "metadata": {
    "colab": {
     "base_uri": "https://localhost:8080/",
     "height": 1000
    },
    "id": "GU5EyMfwbkXL",
    "outputId": "985a19cb-4fd5-4e9f-89d8-926b5bf76b3f"
   },
   "outputs": [
    {
     "data": {
      "text/html": [
       "<div>\n",
       "<style scoped>\n",
       "    .dataframe tbody tr th:only-of-type {\n",
       "        vertical-align: middle;\n",
       "    }\n",
       "\n",
       "    .dataframe tbody tr th {\n",
       "        vertical-align: top;\n",
       "    }\n",
       "\n",
       "    .dataframe thead th {\n",
       "        text-align: right;\n",
       "    }\n",
       "</style>\n",
       "<table border=\"1\" class=\"dataframe\">\n",
       "  <thead>\n",
       "    <tr style=\"text-align: right;\">\n",
       "      <th></th>\n",
       "      <th>DESCRICAO</th>\n",
       "      <th>GRAU</th>\n",
       "      <th>SITUAÇÃO DO SINISTRO</th>\n",
       "    </tr>\n",
       "  </thead>\n",
       "  <tbody>\n",
       "    <tr>\n",
       "      <th>0</th>\n",
       "      <td>- A CONDUTORA DO VEICULO SEGURADO CONDUZIA SEU...</td>\n",
       "      <td>COLISAO EM VEICULO ESTACIONADO</td>\n",
       "      <td>BAIXADO SEM RESSARCIMENTO</td>\n",
       "    </tr>\n",
       "    <tr>\n",
       "      <th>1</th>\n",
       "      <td>- A CONDUTORA DO VEICULO SEGURADO CONDUZIA SEU...</td>\n",
       "      <td>COLISAO EM VEICULO ESTACIONADO</td>\n",
       "      <td>BAIXADO SEM RESSARCIMENTO</td>\n",
       "    </tr>\n",
       "    <tr>\n",
       "      <th>2</th>\n",
       "      <td>- A CONDUTORA DO VEICULO SEGURADO CONDUZIA SEU...</td>\n",
       "      <td>ANIMAIS NA PISTA</td>\n",
       "      <td>BAIXADO SEM RESSARCIMENTO</td>\n",
       "    </tr>\n",
       "    <tr>\n",
       "      <th>3</th>\n",
       "      <td>Ao virar a esquina da rua Gentil de Mora com ...</td>\n",
       "      <td>COLISAO EM VEICULO ESTACIONADO</td>\n",
       "      <td>SEGURADO CULPADO</td>\n",
       "    </tr>\n",
       "    <tr>\n",
       "      <th>4</th>\n",
       "      <td>CONDUTORA TRAFEGAVA NA AVENIDA EUCLIDES DA CU...</td>\n",
       "      <td>INTERCEPTAÇÃO DE TRAJETORIA</td>\n",
       "      <td>BAIXADO COM RESSARCIMENTO</td>\n",
       "    </tr>\n",
       "    <tr>\n",
       "      <th>5</th>\n",
       "      <td>Estava parada   Na Rua Cantagalo na Vila Carr...</td>\n",
       "      <td>INTERCEPTAÇÃO DE TRAJETORIA</td>\n",
       "      <td>BAIXADO COM RESSARCIMENTO</td>\n",
       "    </tr>\n",
       "    <tr>\n",
       "      <th>6</th>\n",
       "      <td>Meu veiculo estava estacionado em frente a mi...</td>\n",
       "      <td>COLISAO EM VEICULO ESTACIONADO</td>\n",
       "      <td>BAIXADO SEM RESSARCIMENTO</td>\n",
       "    </tr>\n",
       "    <tr>\n",
       "      <th>7</th>\n",
       "      <td>Motorista da kombi manobrava na garagem do en...</td>\n",
       "      <td>COLISAO EM VEICULO ESTACIONADO</td>\n",
       "      <td>SEGURADO CULPADO</td>\n",
       "    </tr>\n",
       "    <tr>\n",
       "      <th>8</th>\n",
       "      <td>NO DIA 18-05 O ONIBUS PLACA EZU1656 AVIACAO B...</td>\n",
       "      <td>COLISAO EM VEICULO ESTACIONADO</td>\n",
       "      <td>BAIXADO SEM RESSARCIMENTO</td>\n",
       "    </tr>\n",
       "    <tr>\n",
       "      <th>9</th>\n",
       "      <td>- O CONDUTOR DO VEICULO SEGURADO CONDUZIA SEU ...</td>\n",
       "      <td>COLISAO EM VEICULO ESTACIONADO</td>\n",
       "      <td>BAIXADO SEM RESSARCIMENTO</td>\n",
       "    </tr>\n",
       "    <tr>\n",
       "      <th>10</th>\n",
       "      <td>- O CONDUTOR DO VEICULO SEGURADO CONDUZIA SEU ...</td>\n",
       "      <td>COLISAO EM VEICULO ESTACIONADO</td>\n",
       "      <td>BAIXADO SEM RESSARCIMENTO</td>\n",
       "    </tr>\n",
       "    <tr>\n",
       "      <th>11</th>\n",
       "      <td>- O CONDUTOR DO VEICULO SEGURADO CONDUZIA SEU ...</td>\n",
       "      <td>COLISAO EM VEICULO ESTACIONADO</td>\n",
       "      <td>BAIXADO SEM RESSARCIMENTO</td>\n",
       "    </tr>\n",
       "    <tr>\n",
       "      <th>12</th>\n",
       "      <td>\"CAMINHAO SEGUIA INSPECAO, PELA BR153/SP, EM S...</td>\n",
       "      <td>ANIMAIS NA PISTA</td>\n",
       "      <td>BAIXADO SEM RESSARCIMENTO</td>\n",
       "    </tr>\n",
       "    <tr>\n",
       "      <th>13</th>\n",
       "      <td>\"CONDUTOR DO VEICULO SEGURADO SR. DURVAL LOPES...</td>\n",
       "      <td>ANIMAIS NA PISTA</td>\n",
       "      <td>BAIXADO SEM RESSARCIMENTO</td>\n",
       "    </tr>\n",
       "    <tr>\n",
       "      <th>14</th>\n",
       "      <td>\"NO DIA, 12.10.2021 PELA MANHA TRANSITAVA NA R...</td>\n",
       "      <td>COLISAO NA TRASEIRA</td>\n",
       "      <td>SEGURADO CULPADO</td>\n",
       "    </tr>\n",
       "    <tr>\n",
       "      <th>15</th>\n",
       "      <td>(CONFORME RELATO DO CONDUTOR VEICULO SEGURADO)...</td>\n",
       "      <td>COLISAO NA TRASEIRA</td>\n",
       "      <td>SEGURADO CULPADO</td>\n",
       "    </tr>\n",
       "    <tr>\n",
       "      <th>16</th>\n",
       "      <td>(HB20-PWW1297) MOTORISTA: LUIS SERGIO COELHO G...</td>\n",
       "      <td>INTERCEPTAÇÃO DE TRAJETORIA</td>\n",
       "      <td>BAIXADO COM RESSARCIMENTO</td>\n",
       "    </tr>\n",
       "    <tr>\n",
       "      <th>17</th>\n",
       "      <td>*********SEGURADA RELATA QUE ESTACIONOU SEU VE...</td>\n",
       "      <td>COLISAO EM VEICULO ESTACIONADO</td>\n",
       "      <td>BAIXADO SEM RESSARCIMENTO</td>\n",
       "    </tr>\n",
       "    <tr>\n",
       "      <th>18</th>\n",
       "      <td>*B 21 ENVOLVENDO POLICIAL MILITAR*============...</td>\n",
       "      <td>COLISAO NA TRASEIRA</td>\n",
       "      <td>SEGURADO CULPADO</td>\n",
       "    </tr>\n",
       "    <tr>\n",
       "      <th>19</th>\n",
       "      <td>.</td>\n",
       "      <td>INTERCEPTAÇÃO DE TRAJETORIA</td>\n",
       "      <td>SEGURADO CULPADO</td>\n",
       "    </tr>\n",
       "    <tr>\n",
       "      <th>20</th>\n",
       "      <td>.</td>\n",
       "      <td>INTERCEPTAÇÃO DE TRAJETORIA</td>\n",
       "      <td>SEGURADO CULPADO</td>\n",
       "    </tr>\n",
       "    <tr>\n",
       "      <th>21</th>\n",
       "      <td>................SEGURADO ESTAVA MANOBRANDO NO ...</td>\n",
       "      <td>COLISAO EM VEICULO ESTACIONADO</td>\n",
       "      <td>BAIXADO SEM RESSARCIMENTO</td>\n",
       "    </tr>\n",
       "    <tr>\n",
       "      <th>22</th>\n",
       "      <td>.SEGURADA SEGUIA NA VIA CITADA, SENDO UMA RUA ...</td>\n",
       "      <td>COLISAO EM VEICULO ESTACIONADO</td>\n",
       "      <td>BAIXADO SEM RESSARCIMENTO</td>\n",
       "    </tr>\n",
       "    <tr>\n",
       "      <th>23</th>\n",
       "      <td>: DEIXEI O CARRO ESTACIONADO NA RUA DIONYSIA A...</td>\n",
       "      <td>COLISAO EM VEICULO ESTACIONADO</td>\n",
       "      <td>BAIXADO SEM RESSARCIMENTO</td>\n",
       "    </tr>\n",
       "    <tr>\n",
       "      <th>24</th>\n",
       "      <td>: ESTAVA SAINDO DO SUPERMERCADO PAREI QUANDO V...</td>\n",
       "      <td>INTERCEPTAÇÃO DE TRAJETORIA</td>\n",
       "      <td>SEGURADO CULPADO</td>\n",
       "    </tr>\n",
       "    <tr>\n",
       "      <th>25</th>\n",
       "      <td>: TRANSITAVA EM SENTIDO PORTO BELO AS 10:10 DA...</td>\n",
       "      <td>COLISAO NA TRASEIRA</td>\n",
       "      <td>BAIXADO COM RESSARCIMENTO</td>\n",
       "    </tr>\n",
       "    <tr>\n",
       "      <th>26</th>\n",
       "      <td>05:30 DESVIEI DE UM CAMINHAO E ACERTEI UM BURA...</td>\n",
       "      <td>BURACO NA PISTA</td>\n",
       "      <td>BAIXADO SEM RESSARCIMENTO</td>\n",
       "    </tr>\n",
       "    <tr>\n",
       "      <th>27</th>\n",
       "      <td>1. A EQUIPE FOI ACIONADA PARA ATENDIMENTO DE A...</td>\n",
       "      <td>COLISAO NA TRASEIRA</td>\n",
       "      <td>BAIXADO COM RESSARCIMENTO</td>\n",
       "    </tr>\n",
       "    <tr>\n",
       "      <th>28</th>\n",
       "      <td>11 DE FEVEREIRO  POR VOLTA DAS 19.00 HORAS, NA...</td>\n",
       "      <td>COLISAO NA TRASEIRA</td>\n",
       "      <td>SEGURADO CULPADO</td>\n",
       "    </tr>\n",
       "    <tr>\n",
       "      <th>29</th>\n",
       "      <td>2 VEICULOS,SEM PROJECAO ,NO ENDERECO CITADO  S...</td>\n",
       "      <td>COLISAO EM VEICULO ESTACIONADO</td>\n",
       "      <td>BAIXADO SEM RESSARCIMENTO</td>\n",
       "    </tr>\n",
       "    <tr>\n",
       "      <th>30</th>\n",
       "      <td>30/10/2021 - SABADONESSA DATA APOS LONGO TRAJE...</td>\n",
       "      <td>COLISAO EM VEICULO ESTACIONADO</td>\n",
       "      <td>BAIXADO SEM RESSARCIMENTO</td>\n",
       "    </tr>\n",
       "    <tr>\n",
       "      <th>31</th>\n",
       "      <td>A  SEGURADA ESTACIONOU PROXIMO AO NUMERO 193 E...</td>\n",
       "      <td>COLISAO EM VEICULO ESTACIONADO</td>\n",
       "      <td>BAIXADO SEM RESSARCIMENTO</td>\n",
       "    </tr>\n",
       "    <tr>\n",
       "      <th>32</th>\n",
       "      <td>A AMIGA RELATA QUE O SEGURADO ESTAVA TRAFEGAND...</td>\n",
       "      <td>ANIMAIS NA PISTA</td>\n",
       "      <td>BAIXADO SEM RESSARCIMENTO</td>\n",
       "    </tr>\n",
       "    <tr>\n",
       "      <th>33</th>\n",
       "      <td>A ANDRESSA, ESPOSA DO SEGURADO QUE ESTAVA NA G...</td>\n",
       "      <td>COLISAO FRONTAL (NAO USAR)</td>\n",
       "      <td>BAIXADO SEM RESSARCIMENTO</td>\n",
       "    </tr>\n",
       "    <tr>\n",
       "      <th>34</th>\n",
       "      <td>A CAMIONETE DUSTER PLACA  QEZ-3217 SOFREU UMA ...</td>\n",
       "      <td>COLISAO NA TRASEIRA</td>\n",
       "      <td>BAIXADO COM RESSARCIMENTO</td>\n",
       "    </tr>\n",
       "    <tr>\n",
       "      <th>35</th>\n",
       "      <td>A CLIENTE ESTAVA NESTE ENDERECO MENCIONADO JUN...</td>\n",
       "      <td>COLISAO EM VEICULO ESTACIONADO</td>\n",
       "      <td>BAIXADO SEM RESSARCIMENTO</td>\n",
       "    </tr>\n",
       "    <tr>\n",
       "      <th>36</th>\n",
       "      <td>A CLIENTE ESTAVA TRANSITANDO NA RUA ESCONDE DE...</td>\n",
       "      <td>ANIMAIS NA PISTA</td>\n",
       "      <td>BAIXADO SEM RESSARCIMENTO</td>\n",
       "    </tr>\n",
       "    <tr>\n",
       "      <th>37</th>\n",
       "      <td>A CLIENTE INFORMA QUE PAROU O CARRO NA ZONA AZ...</td>\n",
       "      <td>COLISAO EM VEICULO ESTACIONADO</td>\n",
       "      <td>BAIXADO SEM RESSARCIMENTO</td>\n",
       "    </tr>\n",
       "    <tr>\n",
       "      <th>38</th>\n",
       "      <td>A CLIENTE, JULIANA NONAKA, INFORMA QUE ESTAVA ...</td>\n",
       "      <td>COLISAO NA TRASEIRA</td>\n",
       "      <td>BAIXADO COM RESSARCIMENTO</td>\n",
       "    </tr>\n",
       "    <tr>\n",
       "      <th>39</th>\n",
       "      <td>A colisao foi ao estacionar o carro. A moto es...</td>\n",
       "      <td>COLISAO EM VEICULO ESTACIONADO</td>\n",
       "      <td>SEGURADO CULPADO</td>\n",
       "    </tr>\n",
       "    <tr>\n",
       "      <th>40</th>\n",
       "      <td>A COLISAO FOI EM VIRTUDE DE ESTAR NA AGULHA DA...</td>\n",
       "      <td>COLISAO NA TRASEIRA</td>\n",
       "      <td>SEGURADO CULPADO</td>\n",
       "    </tr>\n",
       "    <tr>\n",
       "      <th>41</th>\n",
       "      <td>A COLISAO FOI NA RUA EUCLIDES DA CUNHA PERTO N...</td>\n",
       "      <td>INTERCEPTAÇÃO DE TRAJETORIA</td>\n",
       "      <td>SEGURADO CULPADO</td>\n",
       "    </tr>\n",
       "    <tr>\n",
       "      <th>42</th>\n",
       "      <td>A COLISAO OCORREU NA BR 282, N6259 PROXIMO A H...</td>\n",
       "      <td>INTERCEPTAÇÃO DE TRAJETORIA</td>\n",
       "      <td>SEGURADO CULPADO</td>\n",
       "    </tr>\n",
       "    <tr>\n",
       "      <th>43</th>\n",
       "      <td>A COLISAO OCORREU NA ESTRADA FERNANDO NOBRE, A...</td>\n",
       "      <td>INTERCEPTAÇÃO DE TRAJETORIA</td>\n",
       "      <td>SEGURADO CULPADO</td>\n",
       "    </tr>\n",
       "    <tr>\n",
       "      <th>44</th>\n",
       "      <td>A COND. SEGUIU A VIA INFORMADA QUANDO  ACABOU ...</td>\n",
       "      <td>ANIMAIS NA PISTA</td>\n",
       "      <td>BAIXADO SEM RESSARCIMENTO</td>\n",
       "    </tr>\n",
       "    <tr>\n",
       "      <th>45</th>\n",
       "      <td>A CONDUTOR A DO VEICULO SEGURADO  ESTACIONOU O...</td>\n",
       "      <td>COLISAO EM VEICULO ESTACIONADO</td>\n",
       "      <td>BAIXADO SEM RESSARCIMENTO</td>\n",
       "    </tr>\n",
       "    <tr>\n",
       "      <th>46</th>\n",
       "      <td>A CONDUTORA DEIXOU O VEICULO ESTACIONADO EM VI...</td>\n",
       "      <td>COLISAO EM VEICULO ESTACIONADO</td>\n",
       "      <td>BAIXADO SEM RESSARCIMENTO</td>\n",
       "    </tr>\n",
       "    <tr>\n",
       "      <th>47</th>\n",
       "      <td>A CONDUTORA DO VEICULO  SEGURADO TRAFEGAVA PEL...</td>\n",
       "      <td>COLISAO FRONTAL (NAO USAR)</td>\n",
       "      <td>BAIXADO SEM RESSARCIMENTO</td>\n",
       "    </tr>\n",
       "    <tr>\n",
       "      <th>48</th>\n",
       "      <td>A CONDUTORA DO VEICULO DO SEGURADO ESTAVA SAIN...</td>\n",
       "      <td>COLISAO EM VEICULO ESTACIONADO</td>\n",
       "      <td>SEGURADO CULPADO</td>\n",
       "    </tr>\n",
       "    <tr>\n",
       "      <th>49</th>\n",
       "      <td>A CONDUTORA DO VEICULO RELATA QUE ESTAVA TRAFE...</td>\n",
       "      <td>BURACO NA PISTA</td>\n",
       "      <td>BAIXADO SEM RESSARCIMENTO</td>\n",
       "    </tr>\n",
       "  </tbody>\n",
       "</table>\n",
       "</div>"
      ],
      "text/plain": [
       "                                            DESCRICAO  \\\n",
       "0   - A CONDUTORA DO VEICULO SEGURADO CONDUZIA SEU...   \n",
       "1   - A CONDUTORA DO VEICULO SEGURADO CONDUZIA SEU...   \n",
       "2   - A CONDUTORA DO VEICULO SEGURADO CONDUZIA SEU...   \n",
       "3    Ao virar a esquina da rua Gentil de Mora com ...   \n",
       "4    CONDUTORA TRAFEGAVA NA AVENIDA EUCLIDES DA CU...   \n",
       "5    Estava parada   Na Rua Cantagalo na Vila Carr...   \n",
       "6    Meu veiculo estava estacionado em frente a mi...   \n",
       "7    Motorista da kombi manobrava na garagem do en...   \n",
       "8    NO DIA 18-05 O ONIBUS PLACA EZU1656 AVIACAO B...   \n",
       "9   - O CONDUTOR DO VEICULO SEGURADO CONDUZIA SEU ...   \n",
       "10  - O CONDUTOR DO VEICULO SEGURADO CONDUZIA SEU ...   \n",
       "11  - O CONDUTOR DO VEICULO SEGURADO CONDUZIA SEU ...   \n",
       "12  \"CAMINHAO SEGUIA INSPECAO, PELA BR153/SP, EM S...   \n",
       "13  \"CONDUTOR DO VEICULO SEGURADO SR. DURVAL LOPES...   \n",
       "14  \"NO DIA, 12.10.2021 PELA MANHA TRANSITAVA NA R...   \n",
       "15  (CONFORME RELATO DO CONDUTOR VEICULO SEGURADO)...   \n",
       "16  (HB20-PWW1297) MOTORISTA: LUIS SERGIO COELHO G...   \n",
       "17  *********SEGURADA RELATA QUE ESTACIONOU SEU VE...   \n",
       "18  *B 21 ENVOLVENDO POLICIAL MILITAR*============...   \n",
       "19                                                  .   \n",
       "20                                                  .   \n",
       "21  ................SEGURADO ESTAVA MANOBRANDO NO ...   \n",
       "22  .SEGURADA SEGUIA NA VIA CITADA, SENDO UMA RUA ...   \n",
       "23  : DEIXEI O CARRO ESTACIONADO NA RUA DIONYSIA A...   \n",
       "24  : ESTAVA SAINDO DO SUPERMERCADO PAREI QUANDO V...   \n",
       "25  : TRANSITAVA EM SENTIDO PORTO BELO AS 10:10 DA...   \n",
       "26  05:30 DESVIEI DE UM CAMINHAO E ACERTEI UM BURA...   \n",
       "27  1. A EQUIPE FOI ACIONADA PARA ATENDIMENTO DE A...   \n",
       "28  11 DE FEVEREIRO  POR VOLTA DAS 19.00 HORAS, NA...   \n",
       "29  2 VEICULOS,SEM PROJECAO ,NO ENDERECO CITADO  S...   \n",
       "30  30/10/2021 - SABADONESSA DATA APOS LONGO TRAJE...   \n",
       "31  A  SEGURADA ESTACIONOU PROXIMO AO NUMERO 193 E...   \n",
       "32  A AMIGA RELATA QUE O SEGURADO ESTAVA TRAFEGAND...   \n",
       "33  A ANDRESSA, ESPOSA DO SEGURADO QUE ESTAVA NA G...   \n",
       "34  A CAMIONETE DUSTER PLACA  QEZ-3217 SOFREU UMA ...   \n",
       "35  A CLIENTE ESTAVA NESTE ENDERECO MENCIONADO JUN...   \n",
       "36  A CLIENTE ESTAVA TRANSITANDO NA RUA ESCONDE DE...   \n",
       "37  A CLIENTE INFORMA QUE PAROU O CARRO NA ZONA AZ...   \n",
       "38  A CLIENTE, JULIANA NONAKA, INFORMA QUE ESTAVA ...   \n",
       "39  A colisao foi ao estacionar o carro. A moto es...   \n",
       "40  A COLISAO FOI EM VIRTUDE DE ESTAR NA AGULHA DA...   \n",
       "41  A COLISAO FOI NA RUA EUCLIDES DA CUNHA PERTO N...   \n",
       "42  A COLISAO OCORREU NA BR 282, N6259 PROXIMO A H...   \n",
       "43  A COLISAO OCORREU NA ESTRADA FERNANDO NOBRE, A...   \n",
       "44  A COND. SEGUIU A VIA INFORMADA QUANDO  ACABOU ...   \n",
       "45  A CONDUTOR A DO VEICULO SEGURADO  ESTACIONOU O...   \n",
       "46  A CONDUTORA DEIXOU O VEICULO ESTACIONADO EM VI...   \n",
       "47  A CONDUTORA DO VEICULO  SEGURADO TRAFEGAVA PEL...   \n",
       "48  A CONDUTORA DO VEICULO DO SEGURADO ESTAVA SAIN...   \n",
       "49  A CONDUTORA DO VEICULO RELATA QUE ESTAVA TRAFE...   \n",
       "\n",
       "                              GRAU       SITUAÇÃO DO SINISTRO  \n",
       "0   COLISAO EM VEICULO ESTACIONADO  BAIXADO SEM RESSARCIMENTO  \n",
       "1   COLISAO EM VEICULO ESTACIONADO  BAIXADO SEM RESSARCIMENTO  \n",
       "2                 ANIMAIS NA PISTA  BAIXADO SEM RESSARCIMENTO  \n",
       "3   COLISAO EM VEICULO ESTACIONADO           SEGURADO CULPADO  \n",
       "4      INTERCEPTAÇÃO DE TRAJETORIA  BAIXADO COM RESSARCIMENTO  \n",
       "5      INTERCEPTAÇÃO DE TRAJETORIA  BAIXADO COM RESSARCIMENTO  \n",
       "6   COLISAO EM VEICULO ESTACIONADO  BAIXADO SEM RESSARCIMENTO  \n",
       "7   COLISAO EM VEICULO ESTACIONADO           SEGURADO CULPADO  \n",
       "8   COLISAO EM VEICULO ESTACIONADO  BAIXADO SEM RESSARCIMENTO  \n",
       "9   COLISAO EM VEICULO ESTACIONADO  BAIXADO SEM RESSARCIMENTO  \n",
       "10  COLISAO EM VEICULO ESTACIONADO  BAIXADO SEM RESSARCIMENTO  \n",
       "11  COLISAO EM VEICULO ESTACIONADO  BAIXADO SEM RESSARCIMENTO  \n",
       "12                ANIMAIS NA PISTA  BAIXADO SEM RESSARCIMENTO  \n",
       "13                ANIMAIS NA PISTA  BAIXADO SEM RESSARCIMENTO  \n",
       "14             COLISAO NA TRASEIRA           SEGURADO CULPADO  \n",
       "15             COLISAO NA TRASEIRA           SEGURADO CULPADO  \n",
       "16     INTERCEPTAÇÃO DE TRAJETORIA  BAIXADO COM RESSARCIMENTO  \n",
       "17  COLISAO EM VEICULO ESTACIONADO  BAIXADO SEM RESSARCIMENTO  \n",
       "18             COLISAO NA TRASEIRA           SEGURADO CULPADO  \n",
       "19     INTERCEPTAÇÃO DE TRAJETORIA           SEGURADO CULPADO  \n",
       "20     INTERCEPTAÇÃO DE TRAJETORIA           SEGURADO CULPADO  \n",
       "21  COLISAO EM VEICULO ESTACIONADO  BAIXADO SEM RESSARCIMENTO  \n",
       "22  COLISAO EM VEICULO ESTACIONADO  BAIXADO SEM RESSARCIMENTO  \n",
       "23  COLISAO EM VEICULO ESTACIONADO  BAIXADO SEM RESSARCIMENTO  \n",
       "24     INTERCEPTAÇÃO DE TRAJETORIA           SEGURADO CULPADO  \n",
       "25             COLISAO NA TRASEIRA  BAIXADO COM RESSARCIMENTO  \n",
       "26                 BURACO NA PISTA  BAIXADO SEM RESSARCIMENTO  \n",
       "27             COLISAO NA TRASEIRA  BAIXADO COM RESSARCIMENTO  \n",
       "28             COLISAO NA TRASEIRA           SEGURADO CULPADO  \n",
       "29  COLISAO EM VEICULO ESTACIONADO  BAIXADO SEM RESSARCIMENTO  \n",
       "30  COLISAO EM VEICULO ESTACIONADO  BAIXADO SEM RESSARCIMENTO  \n",
       "31  COLISAO EM VEICULO ESTACIONADO  BAIXADO SEM RESSARCIMENTO  \n",
       "32                ANIMAIS NA PISTA  BAIXADO SEM RESSARCIMENTO  \n",
       "33      COLISAO FRONTAL (NAO USAR)  BAIXADO SEM RESSARCIMENTO  \n",
       "34             COLISAO NA TRASEIRA  BAIXADO COM RESSARCIMENTO  \n",
       "35  COLISAO EM VEICULO ESTACIONADO  BAIXADO SEM RESSARCIMENTO  \n",
       "36                ANIMAIS NA PISTA  BAIXADO SEM RESSARCIMENTO  \n",
       "37  COLISAO EM VEICULO ESTACIONADO  BAIXADO SEM RESSARCIMENTO  \n",
       "38             COLISAO NA TRASEIRA  BAIXADO COM RESSARCIMENTO  \n",
       "39  COLISAO EM VEICULO ESTACIONADO           SEGURADO CULPADO  \n",
       "40             COLISAO NA TRASEIRA           SEGURADO CULPADO  \n",
       "41     INTERCEPTAÇÃO DE TRAJETORIA           SEGURADO CULPADO  \n",
       "42     INTERCEPTAÇÃO DE TRAJETORIA           SEGURADO CULPADO  \n",
       "43     INTERCEPTAÇÃO DE TRAJETORIA           SEGURADO CULPADO  \n",
       "44                ANIMAIS NA PISTA  BAIXADO SEM RESSARCIMENTO  \n",
       "45  COLISAO EM VEICULO ESTACIONADO  BAIXADO SEM RESSARCIMENTO  \n",
       "46  COLISAO EM VEICULO ESTACIONADO  BAIXADO SEM RESSARCIMENTO  \n",
       "47      COLISAO FRONTAL (NAO USAR)  BAIXADO SEM RESSARCIMENTO  \n",
       "48  COLISAO EM VEICULO ESTACIONADO           SEGURADO CULPADO  \n",
       "49                 BURACO NA PISTA  BAIXADO SEM RESSARCIMENTO  "
      ]
     },
     "execution_count": 10,
     "metadata": {},
     "output_type": "execute_result"
    }
   ],
   "source": [
    "colnames=['DESCRICAO', 'GRAU', 'SITUAÇÃO DO SINISTRO']\n",
    "df_01 = pd.read_csv(\"base_de_descricoes.csv\" , usecols=colnames)\n",
    "df_01.head(2)"
   ]
  },
  {
   "cell_type": "code",
   "execution_count": 11,
   "metadata": {
    "colab": {
     "base_uri": "https://localhost:8080/"
    },
    "id": "Ol2uzoFzcB0-",
    "outputId": "e6c4cae7-4a1e-434e-fa37-51e11d761776"
   },
   "outputs": [
    {
     "data": {
      "text/plain": [
       "(87995, 3)"
      ]
     },
     "execution_count": 11,
     "metadata": {},
     "output_type": "execute_result"
    }
   ],
   "source": [
    "df_01.shape"
   ]
  },
  {
   "cell_type": "markdown",
   "metadata": {},
   "source": [
    "##### Agrupar as categorias"
   ]
  },
  {
   "cell_type": "code",
   "execution_count": 12,
   "metadata": {
    "colab": {
     "base_uri": "https://localhost:8080/"
    },
    "id": "KlixHSM6hJTR",
    "outputId": "a5764d84-8fa1-4faf-cfb2-a44002b5122d"
   },
   "outputs": [
    {
     "data": {
      "text/plain": [
       "SITUAÇÃO DO SINISTRO\n",
       "BAIXADO SEM RESSARCIMENTO    78268\n",
       "BAIXADO COM RESSARCIMENTO     7611\n",
       "SEGURADO CULPADO              2116\n",
       "Name: count, dtype: int64"
      ]
     },
     "execution_count": 12,
     "metadata": {},
     "output_type": "execute_result"
    }
   ],
   "source": [
    "#Agrupar as categorias\n",
    "df_01['SITUAÇÃO DO SINISTRO'].value_counts()"
   ]
  },
  {
   "cell_type": "code",
   "execution_count": 13,
   "metadata": {
    "id": "AaJVPEhVjL5m"
   },
   "outputs": [],
   "source": [
    "df_02 = df_01"
   ]
  },
  {
   "cell_type": "code",
   "execution_count": 14,
   "metadata": {
    "id": "TEXOrFUkjKI8"
   },
   "outputs": [],
   "source": [
    "df_02['SITUAÇÃO DO SINISTRO'] = df_02['SITUAÇÃO DO SINISTRO'].replace('SEGURADO CULPADO', 'BAIXADO COM RESSARCIMENTO')"
   ]
  },
  {
   "cell_type": "code",
   "execution_count": 15,
   "metadata": {
    "colab": {
     "base_uri": "https://localhost:8080/"
    },
    "id": "vVEpE73kgZku",
    "outputId": "89884882-79eb-4cf1-ca7d-5a1dcc6ee019"
   },
   "outputs": [
    {
     "data": {
      "text/plain": [
       "SITUAÇÃO DO SINISTRO\n",
       "BAIXADO SEM RESSARCIMENTO    78268\n",
       "BAIXADO COM RESSARCIMENTO     9727\n",
       "Name: count, dtype: int64"
      ]
     },
     "execution_count": 15,
     "metadata": {},
     "output_type": "execute_result"
    }
   ],
   "source": [
    "df_02['SITUAÇÃO DO SINISTRO'].value_counts()"
   ]
  },
  {
   "cell_type": "markdown",
   "metadata": {
    "id": "LwjTAuuo5vYe"
   },
   "source": [
    "### Análise Exploratória e Limpeza"
   ]
  },
  {
   "cell_type": "code",
   "execution_count": 16,
   "metadata": {
    "id": "qVAkqB3-6Jzm"
   },
   "outputs": [],
   "source": [
    "def show_null(df):\n",
    "    null_columns = (df.isnull().sum(axis=0)/len(df)).sort_values(ascending=False).index\n",
    "\n",
    "    null_data = pd.concat([df.isnull().sum(axis=0),\n",
    "                           (df.isnull().sum(axis=0)/len(df)).sort_values(ascending=False),\n",
    "                           df.loc[:, df.columns.isin(list(null_columns))].dtypes],\n",
    "                          axis=1)\n",
    "\n",
    "    null_data = null_data.rename(columns={0: '#',\n",
    "                                          1: '% null',\n",
    "                                          2: 'type'}).sort_values(ascending=False,\n",
    "                                                                  by='% null')\n",
    "\n",
    "    return null_data"
   ]
  },
  {
   "cell_type": "code",
   "execution_count": 17,
   "metadata": {
    "id": "EBLrSlg6y0QF"
   },
   "outputs": [],
   "source": [
    "def plot_num(df, feature):\n",
    "    fig = plt.figure(figsize=(12,8))\n",
    "    gs = GridSpec(1,2)\n",
    "    sns.countplot(x=feature, data=df, color='firebrick', ax=fig.add_subplot(gs[0,0]))\n",
    "    plt.xlabel(feature)\n",
    "    sns.stripplot(x=df[feature], color='darkcyan', ax=fig.add_subplot(gs[0,1]))\n",
    "    plt.xlabel(None)\n",
    "    plt.show()\n"
   ]
  },
  {
   "cell_type": "code",
   "execution_count": 18,
   "metadata": {
    "id": "ybB4l9VvcLj0"
   },
   "outputs": [],
   "source": [
    "def plot_cat(df, feature):\n",
    "    fig = plt.figure(figsize=(12,8))\n",
    "    ax = sns.countplot(data=df, x=feature)\n",
    "    for p in ax.patches:\n",
    "\n",
    "        ax.annotate(f'\\n{p.get_height()}',\n",
    "                    (p.get_x()+0.4, p.get_height()+5),\n",
    "                    ha='center',\n",
    "                    color='black')\n",
    "\n",
    "    plt.xlabel('\\n' + feature)\n",
    "    plt.ylabel('Quantidade de Clientes')\n",
    "    plt.show()"
   ]
  },
  {
   "cell_type": "code",
   "execution_count": 19,
   "metadata": {
    "colab": {
     "base_uri": "https://localhost:8080/",
     "height": 144
    },
    "id": "so5lOVhjcZwG",
    "outputId": "bc88632d-ab88-46ec-a3cd-841d0cff5a06"
   },
   "outputs": [
    {
     "data": {
      "text/html": [
       "<div>\n",
       "<style scoped>\n",
       "    .dataframe tbody tr th:only-of-type {\n",
       "        vertical-align: middle;\n",
       "    }\n",
       "\n",
       "    .dataframe tbody tr th {\n",
       "        vertical-align: top;\n",
       "    }\n",
       "\n",
       "    .dataframe thead th {\n",
       "        text-align: right;\n",
       "    }\n",
       "</style>\n",
       "<table border=\"1\" class=\"dataframe\">\n",
       "  <thead>\n",
       "    <tr style=\"text-align: right;\">\n",
       "      <th></th>\n",
       "      <th>#</th>\n",
       "      <th>% null</th>\n",
       "      <th>type</th>\n",
       "    </tr>\n",
       "  </thead>\n",
       "  <tbody>\n",
       "    <tr>\n",
       "      <th>DESCRICAO</th>\n",
       "      <td>110</td>\n",
       "      <td>0.00125</td>\n",
       "      <td>object</td>\n",
       "    </tr>\n",
       "    <tr>\n",
       "      <th>GRAU</th>\n",
       "      <td>0</td>\n",
       "      <td>0.00000</td>\n",
       "      <td>object</td>\n",
       "    </tr>\n",
       "    <tr>\n",
       "      <th>SITUAÇÃO DO SINISTRO</th>\n",
       "      <td>0</td>\n",
       "      <td>0.00000</td>\n",
       "      <td>object</td>\n",
       "    </tr>\n",
       "  </tbody>\n",
       "</table>\n",
       "</div>"
      ],
      "text/plain": [
       "                        #   % null    type\n",
       "DESCRICAO             110  0.00125  object\n",
       "GRAU                    0  0.00000  object\n",
       "SITUAÇÃO DO SINISTRO    0  0.00000  object"
      ]
     },
     "execution_count": 19,
     "metadata": {},
     "output_type": "execute_result"
    }
   ],
   "source": [
    "show_null(df_02)"
   ]
  },
  {
   "cell_type": "code",
   "execution_count": 20,
   "metadata": {
    "id": "XzeA17iDTRaT"
   },
   "outputs": [],
   "source": [
    "df_02.dropna(inplace=True)"
   ]
  },
  {
   "cell_type": "code",
   "execution_count": 21,
   "metadata": {
    "colab": {
     "base_uri": "https://localhost:8080/",
     "height": 144
    },
    "id": "oZg2Us1TTMYr",
    "outputId": "07e4edea-6481-4e58-8b9f-aee57892981d"
   },
   "outputs": [
    {
     "data": {
      "text/html": [
       "<div>\n",
       "<style scoped>\n",
       "    .dataframe tbody tr th:only-of-type {\n",
       "        vertical-align: middle;\n",
       "    }\n",
       "\n",
       "    .dataframe tbody tr th {\n",
       "        vertical-align: top;\n",
       "    }\n",
       "\n",
       "    .dataframe thead th {\n",
       "        text-align: right;\n",
       "    }\n",
       "</style>\n",
       "<table border=\"1\" class=\"dataframe\">\n",
       "  <thead>\n",
       "    <tr style=\"text-align: right;\">\n",
       "      <th></th>\n",
       "      <th>#</th>\n",
       "      <th>% null</th>\n",
       "      <th>type</th>\n",
       "    </tr>\n",
       "  </thead>\n",
       "  <tbody>\n",
       "    <tr>\n",
       "      <th>DESCRICAO</th>\n",
       "      <td>0</td>\n",
       "      <td>0.0</td>\n",
       "      <td>object</td>\n",
       "    </tr>\n",
       "    <tr>\n",
       "      <th>GRAU</th>\n",
       "      <td>0</td>\n",
       "      <td>0.0</td>\n",
       "      <td>object</td>\n",
       "    </tr>\n",
       "    <tr>\n",
       "      <th>SITUAÇÃO DO SINISTRO</th>\n",
       "      <td>0</td>\n",
       "      <td>0.0</td>\n",
       "      <td>object</td>\n",
       "    </tr>\n",
       "  </tbody>\n",
       "</table>\n",
       "</div>"
      ],
      "text/plain": [
       "                      #  % null    type\n",
       "DESCRICAO             0     0.0  object\n",
       "GRAU                  0     0.0  object\n",
       "SITUAÇÃO DO SINISTRO  0     0.0  object"
      ]
     },
     "execution_count": 21,
     "metadata": {},
     "output_type": "execute_result"
    }
   ],
   "source": [
    "show_null(df_02)"
   ]
  },
  {
   "cell_type": "code",
   "execution_count": 22,
   "metadata": {
    "colab": {
     "base_uri": "https://localhost:8080/",
     "height": 687
    },
    "id": "dWILqr3yfQjG",
    "outputId": "600cf6b8-a235-463d-bc3d-7a6a8094de6f"
   },
   "outputs": [
    {
     "data": {
      "image/png": "[encoded data removed]",
      "text/plain": [
       "<Figure size 1200x800 with 2 Axes>"
      ]
     },
     "metadata": {},
     "output_type": "display_data"
    }
   ],
   "source": [
    "plot_num(df_02, 'GRAU')"
   ]
  },
  {
   "cell_type": "code",
   "execution_count": 23,
   "metadata": {
    "colab": {
     "base_uri": "https://localhost:8080/",
     "height": 698
    },
    "id": "iDLMpgHCf5G6",
    "outputId": "24830b1a-38fb-4855-b8b2-046b7bdf5596"
   },
   "outputs": [
    {
     "data": {
      "image/png": "[encoded data removed]",
      "text/plain": [
       "<Figure size 1200x800 with 2 Axes>"
      ]
     },
     "metadata": {},
     "output_type": "display_data"
    }
   ],
   "source": [
    "plot_num(df_02, 'SITUAÇÃO DO SINISTRO')"
   ]
  },
  {
   "cell_type": "code",
   "execution_count": 24,
   "metadata": {
    "colab": {
     "base_uri": "https://localhost:8080/",
     "height": 687
    },
    "id": "yLMTXy3TmrwD",
    "outputId": "2169a197-f73f-439a-eede-b93bb60c3426"
   },
   "outputs": [
    {
     "data": {
      "image/png": "[encoded data removed]",
      "text/plain": [
       "<Figure size 1200x800 with 2 Axes>"
      ]
     },
     "metadata": {},
     "output_type": "display_data"
    }
   ],
   "source": [
    "plot_num(df_02, 'GRAU')"
   ]
  },
  {
   "cell_type": "code",
   "execution_count": 25,
   "metadata": {
    "colab": {
     "base_uri": "https://localhost:8080/",
     "height": 714
    },
    "id": "1XDdhP1q81zS",
    "outputId": "522cbce9-cf8e-4774-b2f7-58c3b16ac12f"
   },
   "outputs": [
    {
     "data": {
      "image/png": "[encoded data removed]",
      "text/plain": [
       "<Figure size 1200x800 with 1 Axes>"
      ]
     },
     "metadata": {},
     "output_type": "display_data"
    }
   ],
   "source": [
    "plot_cat(df_02, 'SITUAÇÃO DO SINISTRO')"
   ]
  },
  {
   "cell_type": "markdown",
   "metadata": {
    "id": "sFc6omFjMh57"
   },
   "source": [
    "### Machine Learning e Deep Learning para NLP na Prática"
   ]
  },
  {
   "cell_type": "markdown",
   "metadata": {
    "id": "LU1N6vlyL758"
   },
   "source": [
    "#### Introdução: classificação de texto"
   ]
  },
  {
   "cell_type": "code",
   "execution_count": 27,
   "metadata": {
    "colab": {
     "base_uri": "https://localhost:8080/",
     "height": 517
    },
    "id": "fQ9SaZd89Lp7",
    "outputId": "bdf249f5-63d9-4e17-bbf3-0ee222f56b3d"
   },
   "outputs": [
    {
     "data": {
      "image/png": "[encoded data removed]",
      "text/plain": [
       "<IPython.core.display.Image object>"
      ]
     },
     "execution_count": 27,
     "metadata": {
      "image/png": {
       "height": 500,
       "width": 1000
      }
     },
     "output_type": "execute_result"
    }
   ],
   "source": [
    "Image(filename='classificacoo de texto.png', width=1000, height=500)"
   ]
  },
  {
   "cell_type": "markdown",
   "metadata": {
    "id": "xeTBC4UTNnGn"
   },
   "source": [
    "##### Imports"
   ]
  },
  {
   "cell_type": "code",
   "execution_count": 28,
   "metadata": {
    "id": "hP3rNHXkNy_5"
   },
   "outputs": [],
   "source": [
    "import pandas as pd\n",
    "from sklearn.model_selection import train_test_split\n",
    "from sklearn import metrics\n",
    "from sklearn.metrics import confusion_matrix, accuracy_score\n",
    "from sklearn.ensemble import RandomForestClassifier\n",
    "from sklearn.feature_extraction.text import TfidfVectorizer"
   ]
  },
  {
   "cell_type": "code",
   "execution_count": 29,
   "metadata": {
    "colab": {
     "base_uri": "https://localhost:8080/"
    },
    "id": "UUSsWHRLTisw",
    "outputId": "f776653e-de24-47d6-a3f4-5e89362002ed"
   },
   "outputs": [
    {
     "data": {
      "text/plain": [
       "(87885, 3)"
      ]
     },
     "execution_count": 29,
     "metadata": {},
     "output_type": "execute_result"
    }
   ],
   "source": [
    "df_02.shape"
   ]
  },
  {
   "cell_type": "markdown",
   "metadata": {
    "id": "WzMxKFxxRSAn"
   },
   "source": [
    "#### Classificação de ressarcimento parte 1"
   ]
  },
  {
   "cell_type": "code",
   "execution_count": 30,
   "metadata": {
    "colab": {
     "base_uri": "https://localhost:8080/"
    },
    "id": "t9KeZSMRPBU2",
    "outputId": "d5542f05-dcd0-4a9d-f910-fe2b9423a1b2"
   },
   "outputs": [
    {
     "data": {
      "text/plain": [
       "SITUAÇÃO DO SINISTRO\n",
       "BAIXADO SEM RESSARCIMENTO    78181\n",
       "BAIXADO COM RESSARCIMENTO     9704\n",
       "Name: count, dtype: int64"
      ]
     },
     "execution_count": 30,
     "metadata": {},
     "output_type": "execute_result"
    }
   ],
   "source": [
    "#Agrupar as categorias\n",
    "df_02['SITUAÇÃO DO SINISTRO'].value_counts()"
   ]
  },
  {
   "cell_type": "code",
   "execution_count": 31,
   "metadata": {
    "id": "SNx0wP1WPt9B"
   },
   "outputs": [],
   "source": [
    "previ = df_02['DESCRICAO']\n",
    "classe = df_02['SITUAÇÃO DO SINISTRO']"
   ]
  },
  {
   "cell_type": "code",
   "execution_count": 32,
   "metadata": {
    "colab": {
     "base_uri": "https://localhost:8080/"
    },
    "id": "1EcgmGJbQF1F",
    "outputId": "bd1d44a3-83e9-40ec-93d7-5b584a7512f3"
   },
   "outputs": [
    {
     "name": "stdout",
     "output_type": "stream",
     "text": [
      "(87885, 69860)\n"
     ]
    }
   ],
   "source": [
    "vetorizador = TfidfVectorizer()\n",
    "previsores = vetorizador.fit_transform(previ)\n",
    "print(previsores.shape)"
   ]
  },
  {
   "cell_type": "code",
   "execution_count": 33,
   "metadata": {
    "colab": {
     "base_uri": "https://localhost:8080/"
    },
    "id": "g97iDdviT5aQ",
    "outputId": "d6de2b75-8a2b-427a-e0bf-7c0f232b53a5"
   },
   "outputs": [
    {
     "name": "stdout",
     "output_type": "stream",
     "text": [
      "['0000323495' '0000325240' '0000365519' '0000390725' '0000419109'\n",
      " '0000511917' '0000535042' '0000598831' '0000609680' '0000619896'\n",
      " '000064627' '0000654389' '0000691361' '0000717866' '0000801063'\n",
      " '0000922925' '0000949470' '00009562662019' '0000966231' '0001'\n",
      " '0001009593' '0001040524' '0001075127' '0001080589' '0001083271'\n",
      " '0001121920' '0001232142' '0001264154' '0001559658' '0001621908'\n",
      " '0001678792' '0001778309' '0001784259' '00017890162021' '0001837129'\n",
      " '0002' '0002013474' '0002152743' '0002321540' '0002492606' '0003'\n",
      " '0003982' '00074' '000segurado' '001' '0010' '00115400621' '00123154395'\n",
      " '001272' '0016' '0017' '0019' '00196545780' '002' '0021' '002138738'\n",
      " '0022' '00220717702' '0023' '00233637265' '0024' '0025' '0027' '0028'\n",
      " '00281147316' '00287608646' '003' '00304217050' '00304751751'\n",
      " '00328328642' '00328864760' '0033' '00341' '0035' '0036' '00374334269'\n",
      " '0038' '00389278106' '0039' '004' '0040' '0041' '00411638777' '0042'\n",
      " '0044' '00450526879' '00456104216' '0046' '0049' '005']\n"
     ]
    }
   ],
   "source": [
    "print(vetorizador.get_feature_names_out()[10:100])"
   ]
  },
  {
   "cell_type": "markdown",
   "metadata": {
    "id": "YQcmWsaeWbL1"
   },
   "source": [
    "#### Classificação de ressarcimento parte 2"
   ]
  },
  {
   "cell_type": "code",
   "execution_count": 34,
   "metadata": {
    "id": "9UH7ykxcWYwY"
   },
   "outputs": [],
   "source": [
    "#X_treinamento, X_teste, y_treinamento, y_teste = train_test_split(previsores, classe, test_size=0.3)"
   ]
  },
  {
   "cell_type": "code",
   "execution_count": 35,
   "metadata": {
    "id": "SW3iebMNWmYM"
   },
   "outputs": [],
   "source": [
    "#X_teste.shape"
   ]
  },
  {
   "cell_type": "code",
   "execution_count": 36,
   "metadata": {
    "id": "65iPgFtTWsKc"
   },
   "outputs": [],
   "source": [
    "#floresta = RandomForestClassifier(n_estimators=500)\n",
    "#floresta.fit(X_treinamento,y_treinamento)"
   ]
  },
  {
   "cell_type": "code",
   "execution_count": 37,
   "metadata": {
    "id": "g9BcucsYYFgS"
   },
   "outputs": [],
   "source": [
    "#previsoes = floresta.predict(X_teste)\n",
    "#print(previsoes)"
   ]
  },
  {
   "cell_type": "code",
   "execution_count": 38,
   "metadata": {
    "id": "-DAdGeA1YPos"
   },
   "outputs": [],
   "source": [
    "#print(confusion_matrix(y_teste, previsoes))"
   ]
  },
  {
   "cell_type": "code",
   "execution_count": 39,
   "metadata": {
    "id": "TdxDughHYRmI"
   },
   "outputs": [],
   "source": [
    "#print(accuracy_score(y_teste, previsoes))\n",
    "#print(metrics.classification_report(y_teste, previsoes))"
   ]
  },
  {
   "cell_type": "code",
   "execution_count": 40,
   "metadata": {
    "id": "DLwF0zl4dq9I"
   },
   "outputs": [],
   "source": [
    "#df_02.head(100)"
   ]
  },
  {
   "cell_type": "code",
   "execution_count": 41,
   "metadata": {
    "id": "Qbi71VmBYhBJ"
   },
   "outputs": [],
   "source": [
    "#mensagem = df_02['DESCRICAO'][99]\n",
    "#mensagem"
   ]
  },
  {
   "cell_type": "code",
   "execution_count": 42,
   "metadata": {
    "id": "QpUmVVEOYY99"
   },
   "outputs": [],
   "source": [
    "#mensagem = [mensagem]\n",
    "#mensagem = vetorizador.transform(mensagem)\n",
    "#previsao = floresta.predict(mensagem)\n",
    "#print(previsao)"
   ]
  },
  {
   "cell_type": "markdown",
   "metadata": {
    "id": "p02lmfsaooJN"
   },
   "source": [
    "#### Classificação com Redes Neurais\n"
   ]
  },
  {
   "cell_type": "markdown",
   "metadata": {
    "id": "PTMO1a2orrMP"
   },
   "source": [
    "#### Implementando uma Rede Neural Parte 1"
   ]
  },
  {
   "cell_type": "markdown",
   "metadata": {
    "id": "CwTttVZ1swEQ"
   },
   "source": [
    "##### Imports"
   ]
  },
  {
   "cell_type": "code",
   "execution_count": 64,
   "metadata": {
    "id": "i1ndOdqEoi8T"
   },
   "outputs": [],
   "source": [
    "import pandas as pd\n",
    "from sklearn.model_selection import train_test_split\n",
    "from sklearn.preprocessing import LabelEncoder\n",
    "from sklearn.feature_extraction.text import CountVectorizer\n",
    "from sklearn.metrics import confusion_matrix\n",
    "from tensorflow.python.keras.models import Sequential\n",
    "from tensorflow.python.keras.layers import Dense, Dropout\n",
    "import numpy as np"
   ]
  },
  {
   "cell_type": "markdown",
   "metadata": {
    "id": "IKvIb2LWuZsf"
   },
   "source": [
    "##### Transformar texto em numeros"
   ]
  },
  {
   "cell_type": "code",
   "execution_count": 65,
   "metadata": {
    "colab": {
     "base_uri": "https://localhost:8080/"
    },
    "id": "V0jgEPYosJNk",
    "outputId": "92e86ac8-0aa6-40de-f3fc-96d1b0f5b1a5"
   },
   "outputs": [
    {
     "name": "stdout",
     "output_type": "stream",
     "text": [
      "[1 1 1 ... 1 1 1]\n"
     ]
    }
   ],
   "source": [
    "labelencoder = LabelEncoder()\n",
    "y = labelencoder.fit_transform(df_02['SITUAÇÃO DO SINISTRO'])\n",
    "print(y)"
   ]
  },
  {
   "cell_type": "code",
   "execution_count": 71,
   "metadata": {
    "colab": {
     "base_uri": "https://localhost:8080/"
    },
    "id": "MU0xEF8ku6EP",
    "outputId": "b51b4d18-6c62-449b-94d5-e3fb4ab81c8e"
   },
   "outputs": [],
   "source": [
    "mensagens = df_02['DESCRICAO'].values\n",
    "X_train, X_test, y_train, y_test = train_test_split(mensagens, y, test_size=0.3)\n",
    "#print(X_train)"
   ]
  },
  {
   "cell_type": "code",
   "execution_count": null,
   "metadata": {
    "colab": {
     "base_uri": "https://localhost:8080/"
    },
    "id": "GojR6We1zJcQ",
    "outputId": "a1fee54f-8de6-4f4c-b59c-89ae54175201"
   },
   "outputs": [],
   "source": [
    "vetorizador = CountVectorizer()\n",
    "vetorizador.fit(X_train)\n",
    "X_train = vetorizador.transform(X_train)\n",
    "X_test = vetorizador.transform(X_test)\n",
    "print(X_train.toarray())"
   ]
  },
  {
   "cell_type": "code",
   "execution_count": null,
   "metadata": {
    "id": "iIWEHVdiz5DE"
   },
   "outputs": [],
   "source": [
    "np.set_printoptions(threshold=np.inf)"
   ]
  },
  {
   "cell_type": "code",
   "execution_count": null,
   "metadata": {
    "id": "uthsD_8K226Y"
   },
   "outputs": [],
   "source": [
    "#X_train.toarray()[0]"
   ]
  },
  {
   "cell_type": "code",
   "execution_count": null,
   "metadata": {
    "colab": {
     "base_uri": "https://localhost:8080/"
    },
    "id": "q8rL-0eP28bc",
    "outputId": "db5b10eb-a740-43e7-d535-e8cfa2bf7508"
   },
   "outputs": [],
   "source": [
    "print(X_train.shape[1])"
   ]
  },
  {
   "cell_type": "markdown",
   "metadata": {
    "id": "YMYpI-lYFo4l"
   },
   "source": [
    "#### Implementando uma Rede Neural Parte 2"
   ]
  },
  {
   "cell_type": "code",
   "execution_count": null,
   "metadata": {
    "id": "1a8GtL3Q3RTS"
   },
   "outputs": [],
   "source": [
    "modelo = Sequential()\n",
    "modelo.add(Dense(units=10,activation=\"relu\",input_dim=X_train.shape[1]))\n",
    "modelo.add(Dropout(0.1))\n",
    "modelo.add(Dense(units=8,activation=\"relu\")) ##  0 0u 1\n",
    "modelo.add(Dropout(0.1))\n",
    "modelo.add(Dense(units=1,activation=\"sigmoid\")) #Camada de saida atua na probabilidade de ser 0 0u 1"
   ]
  },
  {
   "cell_type": "markdown",
   "metadata": {
    "id": "knxOHdVYGcXm"
   },
   "source": [
    "#### Implementando uma Rede Neural Parte 3"
   ]
  },
  {
   "cell_type": "code",
   "execution_count": null,
   "metadata": {
    "colab": {
     "base_uri": "https://localhost:8080/"
    },
    "id": "h04llmk-3Wqk",
    "outputId": "e9b8e288-1d4e-4542-9a55-351853e326e5"
   },
   "outputs": [],
   "source": [
    "modelo.compile(loss=\"mean_squared_error\", optimizer=\"adam\", metrics=[\"accuracy\"])\n",
    "modelo.summary()"
   ]
  },
  {
   "cell_type": "code",
   "execution_count": null,
   "metadata": {
    "colab": {
     "base_uri": "https://localhost:8080/"
    },
    "id": "ehpE_q8e3djT",
    "outputId": "a8ffabe7-3477-4895-a60c-942ec85d181c"
   },
   "outputs": [],
   "source": [
    "modelo.fit(X_train, y_train,epochs=10,batch_size=10, verbose=True, validation_data=(X_test, y_test))"
   ]
  },
  {
   "cell_type": "code",
   "execution_count": null,
   "metadata": {
    "colab": {
     "base_uri": "https://localhost:8080/"
    },
    "id": "WZVegqHd3jTC",
    "outputId": "9531c467-84c9-42dd-8920-6b2a95325a74"
   },
   "outputs": [],
   "source": [
    "loss, accuracy = modelo.evaluate(X_test,y_test)\n",
    "print(\"Loss: \", loss)\n",
    "print(\"Acurácia: \", accuracy)"
   ]
  },
  {
   "cell_type": "code",
   "execution_count": null,
   "metadata": {
    "id": "XP3UQZWG3k8d"
   },
   "outputs": [],
   "source": [
    "nova_previsao = modelo.predict(X_test)\n",
    "#print(nova_previsao)"
   ]
  },
  {
   "cell_type": "code",
   "execution_count": null,
   "metadata": {
    "id": "ZhQUGCPQ3pI-"
   },
   "outputs": [],
   "source": [
    "prev = (nova_previsao > 0.5)\n",
    "#print(prev)"
   ]
  },
  {
   "cell_type": "code",
   "execution_count": null,
   "metadata": {
    "colab": {
     "base_uri": "https://localhost:8080/"
    },
    "id": "omJiQ2TO3tu-",
    "outputId": "60362b96-9c27-476a-ff6d-b4a283e85415"
   },
   "outputs": [],
   "source": [
    "cm = confusion_matrix(y_test, prev)\n",
    "print(cm)\n",
    "\n",
    " #20 [[  729  2138]\n",
    " #[ 2772 20727]]"
   ]
  },
  {
   "cell_type": "code",
   "execution_count": null,
   "metadata": {},
   "outputs": [],
   "source": [
    "cm = confusion_matrix(y_test, prev)\n",
    "plt.matshow(cm, cmap='Matriz de Confusão')\n",
    "plt.colorbar()\n",
    "plt.xlabel('Predicted')\n",
    "plt.ylabel('True')\n",
    "plt.show()"
   ]
  },
  {
   "cell_type": "markdown",
   "metadata": {
    "id": "HtwyQYvepbmC"
   },
   "source": [
    "#### Criando seu próprio Embeddings"
   ]
  },
  {
   "cell_type": "markdown",
   "metadata": {
    "id": "7HZ3_7pjra06"
   },
   "source": [
    "##### Implementando uma Rede Neural com Embeddings Parte 1"
   ]
  },
  {
   "cell_type": "code",
   "execution_count": null,
   "metadata": {
    "id": "uGPASAUvsD4a"
   },
   "outputs": [],
   "source": [
    "import pandas as pd\n",
    "from sklearn.model_selection import train_test_split\n",
    "from sklearn.preprocessing import LabelEncoder\n",
    "#from sklearn.feature_extraction.text import CountVectorizer\n",
    "from sklearn.metrics import confusion_matrix\n",
    "from keras.models import Sequential\n",
    "from keras.layers import Dense, Dropout, Flatten, Embedding\n",
    "\n",
    "\n",
    "from keras.preprocessing.text import Tokenizer\n",
    "from keras.utils import pad_sequences\n",
    "from sklearn.metrics import classification_report\n"
   ]
  },
  {
   "cell_type": "code",
   "execution_count": null,
   "metadata": {
    "colab": {
     "base_uri": "https://localhost:8080/",
     "height": 206
    },
    "id": "iiMSgLAvx462",
    "outputId": "ac4c5ac3-ad99-42a7-8e07-05bbeed2a41f"
   },
   "outputs": [],
   "source": [
    "df_02.head()"
   ]
  },
  {
   "cell_type": "code",
   "execution_count": null,
   "metadata": {
    "colab": {
     "base_uri": "https://localhost:8080/"
    },
    "id": "QEaSMzrd0mnf",
    "outputId": "5fd28ba9-37e3-499f-b43d-bd2c0d7a9db7"
   },
   "outputs": [],
   "source": [
    "labelencoder = LabelEncoder()\n",
    "y = labelencoder.fit_transform(df_02['DESCRICAO'])\n",
    "print(y)"
   ]
  },
  {
   "cell_type": "code",
   "execution_count": null,
   "metadata": {
    "id": "5GosjGDA0QlC"
   },
   "outputs": [],
   "source": [
    "mensagens = df_02['DESCRICAO'].values\n",
    "X_train, X_test, y_train, y_test = train_test_split(mensagens, y, test_size=0.3)"
   ]
  },
  {
   "cell_type": "code",
   "execution_count": null,
   "metadata": {
    "id": "kc419Tvbt5cE"
   },
   "outputs": [],
   "source": [
    "#print('Relatório de classificação:\\n', classification_report(y_train, X_test, digits=4))\n"
   ]
  },
  {
   "cell_type": "code",
   "execution_count": null,
   "metadata": {
    "id": "Wyk6jXI-0RVf"
   },
   "outputs": [],
   "source": [
    "token = Tokenizer(num_words=1000)\n",
    "token.fit_on_texts(X_train)\n",
    "\n",
    "X_train = token.texts_to_sequences(X_train)\n",
    "X_test = token.texts_to_sequences(X_test)"
   ]
  },
  {
   "cell_type": "code",
   "execution_count": null,
   "metadata": {
    "colab": {
     "base_uri": "https://localhost:8080/"
    },
    "id": "8O7WX0Li05Xc",
    "outputId": "8735b720-2565-438f-d8b3-52b06fd07edb"
   },
   "outputs": [],
   "source": [
    "print(X_train)"
   ]
  },
  {
   "cell_type": "code",
   "execution_count": null,
   "metadata": {
    "colab": {
     "base_uri": "https://localhost:8080/"
    },
    "id": "Ez0iyKAp1BHH",
    "outputId": "a7cf47f9-09d6-40d6-a36f-8a30835af67a"
   },
   "outputs": [],
   "source": [
    "X_train = pad_sequences(X_train, padding=\"post\", maxlen=500) ## tamanho maximo para cada vetor\n",
    "X_test = pad_sequences(X_test, padding=\"post\", maxlen=500)\n",
    "print(X_train) # Matriz Densa"
   ]
  },
  {
   "cell_type": "code",
   "execution_count": null,
   "metadata": {
    "id": "ORXB3R6QiHdr"
   },
   "outputs": [],
   "source": []
  },
  {
   "cell_type": "code",
   "execution_count": null,
   "metadata": {
    "colab": {
     "base_uri": "https://localhost:8080/"
    },
    "id": "0d1ITPoU1Koj",
    "outputId": "552626f6-7786-4781-d45e-ac074a283408"
   },
   "outputs": [],
   "source": [
    "print(len(token.word_index))"
   ]
  },
  {
   "cell_type": "markdown",
   "metadata": {
    "id": "60BQLLQP9cNR"
   },
   "source": [
    "##### Implementando uma Rede Neural com Embeddings Parte 2"
   ]
  },
  {
   "cell_type": "code",
   "execution_count": null,
   "metadata": {
    "id": "qah2aUYA1Ym8"
   },
   "outputs": [],
   "source": [
    "modelo = Sequential()\n",
    "modelo.add(Embedding(input_dim=len(token.word_index), output_dim=50,input_length=500)) #output_dim tamanho do vetor denso/input_length comprimento da sequencia\n",
    "modelo.add(Flatten())\n",
    "\n",
    "modelo.add(Dense(units=10,activation=\"relu\"))\n",
    "modelo.add(Dropout(0.1))\n",
    "modelo.add(Dense(units=1,activation=\"sigmoid\"))"
   ]
  },
  {
   "cell_type": "code",
   "execution_count": null,
   "metadata": {
    "colab": {
     "base_uri": "https://localhost:8080/"
    },
    "id": "YXO-Okgm1Mat",
    "outputId": "280e1b80-c976-4e45-803d-0f19ddcdcebc"
   },
   "outputs": [],
   "source": [
    "modelo.compile(loss=\"mean_squared_error\", optimizer=\"adam\", metrics=[\"accuracy\"])\n",
    "modelo.summary()"
   ]
  },
  {
   "cell_type": "code",
   "execution_count": null,
   "metadata": {
    "colab": {
     "base_uri": "https://localhost:8080/"
    },
    "id": "MVbOX-Ks1gjo",
    "outputId": "dd64fa93-f843-49f2-bd34-009e42c7fb42"
   },
   "outputs": [],
   "source": [
    "modelo.fit(X_train, y_train,epochs=10,batch_size=10, verbose=True, validation_data=(X_test, y_test))"
   ]
  },
  {
   "cell_type": "code",
   "execution_count": null,
   "metadata": {
    "colab": {
     "base_uri": "https://localhost:8080/"
    },
    "id": "_aoPuvQe1lLu",
    "outputId": "a5969393-39e9-4085-b1da-d6e300d234ab"
   },
   "outputs": [],
   "source": [
    "loss, accuracy = modelo.evaluate(X_test,y_test)\n",
    "print(\"Loss: \", loss)\n",
    "print(\"Acurácia: \", accuracy)"
   ]
  },
  {
   "cell_type": "code",
   "execution_count": null,
   "metadata": {
    "id": "UplyXExT1ozO"
   },
   "outputs": [],
   "source": [
    "nova_previsao = modelo.predict(X_test)\n",
    "print(nova_previsao)"
   ]
  },
  {
   "cell_type": "code",
   "execution_count": null,
   "metadata": {
    "colab": {
     "base_uri": "https://localhost:8080/"
    },
    "id": "PA8vVU8x1sQu",
    "outputId": "b9e11076-6856-41c4-c7cc-e5ac216282a0"
   },
   "outputs": [],
   "source": [
    "prev = (nova_previsao > 0.5)\n",
    "#print(prev)"
   ]
  },
  {
   "cell_type": "code",
   "execution_count": null,
   "metadata": {
    "colab": {
     "base_uri": "https://localhost:8080/",
     "height": 360
    },
    "id": "uCyADTq-1xNN",
    "outputId": "21c00af5-4154-4161-bd1e-43e6634cb353"
   },
   "outputs": [],
   "source": [
    "cm = confusion_matrix(y_test, prev)\n",
    "#print(cm)"
   ]
  },
  {
   "cell_type": "code",
   "execution_count": null,
   "metadata": {
    "colab": {
     "base_uri": "https://localhost:8080/",
     "height": 341
    },
    "id": "TKNPdcy5hc5H",
    "outputId": "016a571d-8b36-4e69-d443-dd12c6dae2ae"
   },
   "outputs": [],
   "source": [
    "#print(classification_report(X_test,y_test))"
   ]
  },
  {
   "cell_type": "code",
   "execution_count": null,
   "metadata": {
    "colab": {
     "base_uri": "https://localhost:8080/"
    },
    "id": "2ZWHKDcQodlT",
    "outputId": "5aa3c7ca-2afd-494e-8cdf-5abea6e1d54e"
   },
   "outputs": [],
   "source": [
    "pip install transformers"
   ]
  },
  {
   "cell_type": "code",
   "execution_count": null,
   "metadata": {
    "id": "W9MZEHPVmkz3"
   },
   "outputs": [],
   "source": [
    "from sklearn.pipeline import Pipeline"
   ]
  },
  {
   "cell_type": "code",
   "execution_count": null,
   "metadata": {
    "colab": {
     "base_uri": "https://localhost:8080/"
    },
    "id": "kqUmYGY1lxMU",
    "outputId": "7e2e33ad-9e64-4398-bd85-7cfa24e1c357"
   },
   "outputs": [],
   "source": [
    "\n",
    "modelo.fit(X_train,y_train)\n",
    "y_preds = modelo.predict(X_test)"
   ]
  }
 ],
 "metadata": {
  "colab": {
   "collapsed_sections": [
    "9eTna6oOxIB8",
    "LwjTAuuo5vYe",
    "LU1N6vlyL758",
    "WzMxKFxxRSAn",
    "YQcmWsaeWbL1"
   ],
   "provenance": []
  },
  "kernelspec": {
   "display_name": "Python 3 (ipykernel)",
   "language": "python",
   "name": "python3"
  },
  "language_info": {
   "codemirror_mode": {
    "name": "ipython",
    "version": 3
   },
   "file_extension": ".py",
   "mimetype": "text/x-python",
   "name": "python",
   "nbconvert_exporter": "python",
   "pygments_lexer": "ipython3",
   "version": "3.11.6"
  }
 },
 "nbformat": 4,
 "nbformat_minor": 4
}
