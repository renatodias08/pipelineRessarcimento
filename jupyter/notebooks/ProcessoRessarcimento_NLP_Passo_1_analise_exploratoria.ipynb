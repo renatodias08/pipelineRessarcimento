{
 "cells": [
  {
   "cell_type": "markdown",
   "metadata": {
    "id": "9eTna6oOxIB8"
   },
   "source": [
    "#### Carraegar Dados"
   ]
  },
  {
   "cell_type": "code",
   "execution_count": 52,
   "metadata": {},
   "outputs": [
    {
     "name": "stdout",
     "output_type": "stream",
     "text": [
      "Requirement already satisfied: keras in /opt/conda/lib/python3.11/site-packages (2.15.0)\n",
      "Note: you may need to restart the kernel to use updated packages.\n"
     ]
    }
   ],
   "source": [
    "pip install keras"
   ]
  },
  {
   "cell_type": "code",
   "execution_count": 53,
   "metadata": {},
   "outputs": [
    {
     "name": "stdout",
     "output_type": "stream",
     "text": [
      "Requirement already satisfied: tensorflow in /opt/conda/lib/python3.11/site-packages (2.15.0.post1)\n",
      "Requirement already satisfied: absl-py>=1.0.0 in /opt/conda/lib/python3.11/site-packages (from tensorflow) (2.0.0)\n",
      "Requirement already satisfied: astunparse>=1.6.0 in /opt/conda/lib/python3.11/site-packages (from tensorflow) (1.6.3)\n",
      "Requirement already satisfied: flatbuffers>=23.5.26 in /opt/conda/lib/python3.11/site-packages (from tensorflow) (23.5.26)\n",
      "Requirement already satisfied: gast!=0.5.0,!=0.5.1,!=0.5.2,>=0.2.1 in /opt/conda/lib/python3.11/site-packages (from tensorflow) (0.5.4)\n",
      "Requirement already satisfied: google-pasta>=0.1.1 in /opt/conda/lib/python3.11/site-packages (from tensorflow) (0.2.0)\n",
      "Requirement already satisfied: h5py>=2.9.0 in /opt/conda/lib/python3.11/site-packages (from tensorflow) (3.10.0)\n",
      "Requirement already satisfied: libclang>=13.0.0 in /opt/conda/lib/python3.11/site-packages (from tensorflow) (16.0.6)\n",
      "Requirement already satisfied: ml-dtypes~=0.2.0 in /opt/conda/lib/python3.11/site-packages (from tensorflow) (0.2.0)\n",
      "Requirement already satisfied: numpy<2.0.0,>=1.23.5 in /opt/conda/lib/python3.11/site-packages (from tensorflow) (1.26.2)\n",
      "Requirement already satisfied: opt-einsum>=2.3.2 in /opt/conda/lib/python3.11/site-packages (from tensorflow) (3.3.0)\n",
      "Requirement already satisfied: packaging in /opt/conda/lib/python3.11/site-packages (from tensorflow) (23.2)\n",
      "Requirement already satisfied: protobuf!=4.21.0,!=4.21.1,!=4.21.2,!=4.21.3,!=4.21.4,!=4.21.5,<5.0.0dev,>=3.20.3 in /opt/conda/lib/python3.11/site-packages (from tensorflow) (4.23.4)\n",
      "Requirement already satisfied: setuptools in /opt/conda/lib/python3.11/site-packages (from tensorflow) (68.2.2)\n",
      "Requirement already satisfied: six>=1.12.0 in /opt/conda/lib/python3.11/site-packages (from tensorflow) (1.16.0)\n",
      "Requirement already satisfied: termcolor>=1.1.0 in /opt/conda/lib/python3.11/site-packages (from tensorflow) (2.4.0)\n",
      "Requirement already satisfied: typing-extensions>=3.6.6 in /opt/conda/lib/python3.11/site-packages (from tensorflow) (3.10.0.0)\n",
      "Requirement already satisfied: wrapt<1.15,>=1.11.0 in /opt/conda/lib/python3.11/site-packages (from tensorflow) (1.14.1)\n",
      "Requirement already satisfied: tensorflow-io-gcs-filesystem>=0.23.1 in /opt/conda/lib/python3.11/site-packages (from tensorflow) (0.34.0)\n",
      "Requirement already satisfied: grpcio<2.0,>=1.24.3 in /opt/conda/lib/python3.11/site-packages (from tensorflow) (1.60.0)\n",
      "Requirement already satisfied: tensorboard<2.16,>=2.15 in /opt/conda/lib/python3.11/site-packages (from tensorflow) (2.15.1)\n",
      "Requirement already satisfied: tensorflow-estimator<2.16,>=2.15.0 in /opt/conda/lib/python3.11/site-packages (from tensorflow) (2.15.0)\n",
      "Requirement already satisfied: keras<2.16,>=2.15.0 in /opt/conda/lib/python3.11/site-packages (from tensorflow) (2.15.0)\n",
      "Requirement already satisfied: wheel<1.0,>=0.23.0 in /opt/conda/lib/python3.11/site-packages (from astunparse>=1.6.0->tensorflow) (0.41.2)\n",
      "Requirement already satisfied: google-auth<3,>=1.6.3 in /opt/conda/lib/python3.11/site-packages (from tensorboard<2.16,>=2.15->tensorflow) (2.25.2)\n",
      "Requirement already satisfied: google-auth-oauthlib<2,>=0.5 in /opt/conda/lib/python3.11/site-packages (from tensorboard<2.16,>=2.15->tensorflow) (1.2.0)\n",
      "Requirement already satisfied: markdown>=2.6.8 in /opt/conda/lib/python3.11/site-packages (from tensorboard<2.16,>=2.15->tensorflow) (3.5.1)\n",
      "Requirement already satisfied: requests<3,>=2.21.0 in /opt/conda/lib/python3.11/site-packages (from tensorboard<2.16,>=2.15->tensorflow) (2.31.0)\n",
      "Requirement already satisfied: tensorboard-data-server<0.8.0,>=0.7.0 in /opt/conda/lib/python3.11/site-packages (from tensorboard<2.16,>=2.15->tensorflow) (0.7.2)\n",
      "Requirement already satisfied: werkzeug>=1.0.1 in /opt/conda/lib/python3.11/site-packages (from tensorboard<2.16,>=2.15->tensorflow) (3.0.1)\n",
      "Requirement already satisfied: cachetools<6.0,>=2.0.0 in /opt/conda/lib/python3.11/site-packages (from google-auth<3,>=1.6.3->tensorboard<2.16,>=2.15->tensorflow) (5.3.2)\n",
      "Requirement already satisfied: pyasn1-modules>=0.2.1 in /opt/conda/lib/python3.11/site-packages (from google-auth<3,>=1.6.3->tensorboard<2.16,>=2.15->tensorflow) (0.3.0)\n",
      "Requirement already satisfied: rsa<5,>=3.1.4 in /opt/conda/lib/python3.11/site-packages (from google-auth<3,>=1.6.3->tensorboard<2.16,>=2.15->tensorflow) (4.9)\n",
      "Requirement already satisfied: requests-oauthlib>=0.7.0 in /opt/conda/lib/python3.11/site-packages (from google-auth-oauthlib<2,>=0.5->tensorboard<2.16,>=2.15->tensorflow) (1.3.1)\n",
      "Requirement already satisfied: charset-normalizer<4,>=2 in /opt/conda/lib/python3.11/site-packages (from requests<3,>=2.21.0->tensorboard<2.16,>=2.15->tensorflow) (3.3.0)\n",
      "Requirement already satisfied: idna<4,>=2.5 in /opt/conda/lib/python3.11/site-packages (from requests<3,>=2.21.0->tensorboard<2.16,>=2.15->tensorflow) (3.4)\n",
      "Requirement already satisfied: urllib3<3,>=1.21.1 in /opt/conda/lib/python3.11/site-packages (from requests<3,>=2.21.0->tensorboard<2.16,>=2.15->tensorflow) (2.0.7)\n",
      "Requirement already satisfied: certifi>=2017.4.17 in /opt/conda/lib/python3.11/site-packages (from requests<3,>=2.21.0->tensorboard<2.16,>=2.15->tensorflow) (2023.7.22)\n",
      "Requirement already satisfied: MarkupSafe>=2.1.1 in /opt/conda/lib/python3.11/site-packages (from werkzeug>=1.0.1->tensorboard<2.16,>=2.15->tensorflow) (2.1.3)\n",
      "Requirement already satisfied: pyasn1<0.6.0,>=0.4.6 in /opt/conda/lib/python3.11/site-packages (from pyasn1-modules>=0.2.1->google-auth<3,>=1.6.3->tensorboard<2.16,>=2.15->tensorflow) (0.5.1)\n",
      "Requirement already satisfied: oauthlib>=3.0.0 in /opt/conda/lib/python3.11/site-packages (from requests-oauthlib>=0.7.0->google-auth-oauthlib<2,>=0.5->tensorboard<2.16,>=2.15->tensorflow) (3.2.2)\n",
      "Note: you may need to restart the kernel to use updated packages.\n"
     ]
    }
   ],
   "source": [
    "pip install -U tensorflow"
   ]
  },
  {
   "cell_type": "code",
   "execution_count": 54,
   "metadata": {},
   "outputs": [
    {
     "name": "stdout",
     "output_type": "stream",
     "text": [
      "Requirement already satisfied: numpy in /opt/conda/lib/python3.11/site-packages (1.26.2)\n",
      "Note: you may need to restart the kernel to use updated packages.\n"
     ]
    }
   ],
   "source": [
    "pip install -U numpy"
   ]
  },
  {
   "cell_type": "code",
   "execution_count": 55,
   "metadata": {
    "id": "xm0jgdzIZ43k"
   },
   "outputs": [],
   "source": [
    "import pandas as pd\n",
    "from sklearn.model_selection import train_test_split\n",
    "from sklearn import metrics\n",
    "from sklearn.metrics import confusion_matrix, accuracy_score\n",
    "from sklearn.ensemble import RandomForestClassifier\n",
    "from sklearn.feature_extraction.text import TfidfVectorizer\n",
    "from datetime import datetime\n",
    "from sklearn.preprocessing import MinMaxScaler\n",
    "from sklearn.cluster import KMeans\n",
    "from IPython.display import Image\n",
    "import seaborn as sns\n",
    "import matplotlib.pyplot as plt\n",
    "from matplotlib.gridspec import GridSpec\n",
    "from functools import reduce\n",
    "import pickle\n",
    "import warnings\n",
    "warnings.filterwarnings(\"ignore\")"
   ]
  },
  {
   "cell_type": "code",
   "execution_count": 56,
   "metadata": {
    "id": "Q-hk7lEJyHPy"
   },
   "outputs": [],
   "source": [
    "##from google.colab import files\n",
    "#uploaded = files.upload()"
   ]
  },
  {
   "cell_type": "code",
   "execution_count": 57,
   "metadata": {
    "colab": {
     "base_uri": "https://localhost:8080/",
     "height": 73
    },
    "id": "3Ml6b78ea9gF",
    "outputId": "3b2c6e58-c164-4f5b-f7c5-346221da7562"
   },
   "outputs": [],
   "source": [
    "#from google.colab import files\n",
    "#uploaded = files.upload()"
   ]
  },
  {
   "cell_type": "code",
   "execution_count": 58,
   "metadata": {
    "colab": {
     "base_uri": "https://localhost:8080/"
    },
    "id": "bHoNSS4-s3My",
    "outputId": "1a2a6b14-9300-45bc-e7d0-241ea035b46c"
   },
   "outputs": [],
   "source": [
    "read_file = pd.read_excel('base de descrições.xlsx')\n",
    "#print(read_file)\n"
   ]
  },
  {
   "cell_type": "markdown",
   "metadata": {
    "id": "Bj1D-Wv8xR8P"
   },
   "source": [
    "###### Ler excel"
   ]
  },
  {
   "cell_type": "code",
   "execution_count": 59,
   "metadata": {
    "id": "wrTjwP_wt2cU"
   },
   "outputs": [],
   "source": [
    "read_file.to_csv (r'base_de_descricoes.csv', index = None, header=True)"
   ]
  },
  {
   "cell_type": "markdown",
   "metadata": {
    "id": "FQAM8ruQxajD"
   },
   "source": [
    "###### Gerar csv"
   ]
  },
  {
   "cell_type": "code",
   "execution_count": 60,
   "metadata": {
    "colab": {
     "base_uri": "https://localhost:8080/",
     "height": 1000
    },
    "id": "GU5EyMfwbkXL",
    "outputId": "985a19cb-4fd5-4e9f-89d8-926b5bf76b3f"
   },
   "outputs": [
    {
     "data": {
      "text/html": [
       "<div>\n",
       "<style scoped>\n",
       "    .dataframe tbody tr th:only-of-type {\n",
       "        vertical-align: middle;\n",
       "    }\n",
       "\n",
       "    .dataframe tbody tr th {\n",
       "        vertical-align: top;\n",
       "    }\n",
       "\n",
       "    .dataframe thead th {\n",
       "        text-align: right;\n",
       "    }\n",
       "</style>\n",
       "<table border=\"1\" class=\"dataframe\">\n",
       "  <thead>\n",
       "    <tr style=\"text-align: right;\">\n",
       "      <th></th>\n",
       "      <th>DESCRICAO</th>\n",
       "      <th>GRAU</th>\n",
       "      <th>SITUAÇÃO DO SINISTRO</th>\n",
       "    </tr>\n",
       "  </thead>\n",
       "  <tbody>\n",
       "    <tr>\n",
       "      <th>0</th>\n",
       "      <td>- A CONDUTORA DO VEICULO SEGURADO CONDUZIA SEU...</td>\n",
       "      <td>COLISAO EM VEICULO ESTACIONADO</td>\n",
       "      <td>BAIXADO SEM RESSARCIMENTO</td>\n",
       "    </tr>\n",
       "    <tr>\n",
       "      <th>1</th>\n",
       "      <td>- A CONDUTORA DO VEICULO SEGURADO CONDUZIA SEU...</td>\n",
       "      <td>COLISAO EM VEICULO ESTACIONADO</td>\n",
       "      <td>BAIXADO SEM RESSARCIMENTO</td>\n",
       "    </tr>\n",
       "  </tbody>\n",
       "</table>\n",
       "</div>"
      ],
      "text/plain": [
       "                                           DESCRICAO  \\\n",
       "0  - A CONDUTORA DO VEICULO SEGURADO CONDUZIA SEU...   \n",
       "1  - A CONDUTORA DO VEICULO SEGURADO CONDUZIA SEU...   \n",
       "\n",
       "                             GRAU       SITUAÇÃO DO SINISTRO  \n",
       "0  COLISAO EM VEICULO ESTACIONADO  BAIXADO SEM RESSARCIMENTO  \n",
       "1  COLISAO EM VEICULO ESTACIONADO  BAIXADO SEM RESSARCIMENTO  "
      ]
     },
     "execution_count": 60,
     "metadata": {},
     "output_type": "execute_result"
    }
   ],
   "source": [
    "colnames=['DESCRICAO', 'GRAU', 'SITUAÇÃO DO SINISTRO']\n",
    "df_01 = pd.read_csv(\"base_de_descricoes.csv\" , usecols=colnames)\n",
    "df_01.head(2)"
   ]
  },
  {
   "cell_type": "code",
   "execution_count": 61,
   "metadata": {
    "colab": {
     "base_uri": "https://localhost:8080/"
    },
    "id": "Ol2uzoFzcB0-",
    "outputId": "e6c4cae7-4a1e-434e-fa37-51e11d761776"
   },
   "outputs": [
    {
     "data": {
      "text/plain": [
       "(87995, 3)"
      ]
     },
     "execution_count": 61,
     "metadata": {},
     "output_type": "execute_result"
    }
   ],
   "source": [
    "df_01.shape"
   ]
  },
  {
   "cell_type": "markdown",
   "metadata": {},
   "source": [
    "##### Agrupar as categorias"
   ]
  },
  {
   "cell_type": "code",
   "execution_count": 62,
   "metadata": {
    "colab": {
     "base_uri": "https://localhost:8080/"
    },
    "id": "KlixHSM6hJTR",
    "outputId": "a5764d84-8fa1-4faf-cfb2-a44002b5122d"
   },
   "outputs": [
    {
     "data": {
      "text/plain": [
       "SITUAÇÃO DO SINISTRO\n",
       "BAIXADO SEM RESSARCIMENTO    78268\n",
       "BAIXADO COM RESSARCIMENTO     7611\n",
       "SEGURADO CULPADO              2116\n",
       "Name: count, dtype: int64"
      ]
     },
     "execution_count": 62,
     "metadata": {},
     "output_type": "execute_result"
    }
   ],
   "source": [
    "#Agrupar as categorias\n",
    "df_01['SITUAÇÃO DO SINISTRO'].value_counts()"
   ]
  },
  {
   "cell_type": "code",
   "execution_count": 63,
   "metadata": {
    "id": "AaJVPEhVjL5m"
   },
   "outputs": [],
   "source": [
    "df_02 = df_01"
   ]
  },
  {
   "cell_type": "code",
   "execution_count": 64,
   "metadata": {
    "id": "TEXOrFUkjKI8"
   },
   "outputs": [],
   "source": [
    "df_02['SITUAÇÃO DO SINISTRO'] = df_02['SITUAÇÃO DO SINISTRO'].replace('SEGURADO CULPADO', 'BAIXADO COM RESSARCIMENTO')"
   ]
  },
  {
   "cell_type": "code",
   "execution_count": 65,
   "metadata": {
    "colab": {
     "base_uri": "https://localhost:8080/"
    },
    "id": "vVEpE73kgZku",
    "outputId": "89884882-79eb-4cf1-ca7d-5a1dcc6ee019"
   },
   "outputs": [
    {
     "data": {
      "text/plain": [
       "SITUAÇÃO DO SINISTRO\n",
       "BAIXADO SEM RESSARCIMENTO    78268\n",
       "BAIXADO COM RESSARCIMENTO     9727\n",
       "Name: count, dtype: int64"
      ]
     },
     "execution_count": 65,
     "metadata": {},
     "output_type": "execute_result"
    }
   ],
   "source": [
    "df_02['SITUAÇÃO DO SINISTRO'].value_counts()"
   ]
  },
  {
   "cell_type": "markdown",
   "metadata": {
    "id": "LwjTAuuo5vYe"
   },
   "source": [
    "### Análise Exploratória e Limpeza"
   ]
  },
  {
   "cell_type": "code",
   "execution_count": 66,
   "metadata": {
    "id": "qVAkqB3-6Jzm"
   },
   "outputs": [],
   "source": [
    "def show_null(df):\n",
    "    null_columns = (df.isnull().sum(axis=0)/len(df)).sort_values(ascending=False).index\n",
    "\n",
    "    null_data = pd.concat([df.isnull().sum(axis=0),\n",
    "                           (df.isnull().sum(axis=0)/len(df)).sort_values(ascending=False),\n",
    "                           df.loc[:, df.columns.isin(list(null_columns))].dtypes],\n",
    "                          axis=1)\n",
    "\n",
    "    null_data = null_data.rename(columns={0: '#',\n",
    "                                          1: '% null',\n",
    "                                          2: 'type'}).sort_values(ascending=False,\n",
    "                                                                  by='% null')\n",
    "\n",
    "    return null_data"
   ]
  },
  {
   "cell_type": "code",
   "execution_count": 67,
   "metadata": {
    "id": "EBLrSlg6y0QF"
   },
   "outputs": [],
   "source": [
    "def plot_num(df, feature):\n",
    "    fig = plt.figure(figsize=(12,8))\n",
    "    gs = GridSpec(1,2)\n",
    "    sns.countplot(x=feature, data=df, color='firebrick', ax=fig.add_subplot(gs[0,0]))\n",
    "    plt.xlabel(feature)\n",
    "    sns.stripplot(x=df[feature], color='darkcyan', ax=fig.add_subplot(gs[0,1]))\n",
    "    plt.xlabel(None)\n",
    "    plt.show()\n"
   ]
  },
  {
   "cell_type": "code",
   "execution_count": 68,
   "metadata": {
    "id": "ybB4l9VvcLj0"
   },
   "outputs": [],
   "source": [
    "def plot_cat(df, feature):\n",
    "    fig = plt.figure(figsize=(12,8))\n",
    "    ax = sns.countplot(data=df, x=feature)\n",
    "    for p in ax.patches:\n",
    "\n",
    "        ax.annotate(f'\\n{p.get_height()}',\n",
    "                    (p.get_x()+0.4, p.get_height()+5),\n",
    "                    ha='center',\n",
    "                    color='black')\n",
    "\n",
    "    plt.xlabel('\\n' + feature)\n",
    "    plt.ylabel('Quantidade de Clientes')\n",
    "    plt.show()"
   ]
  },
  {
   "cell_type": "code",
   "execution_count": 69,
   "metadata": {
    "colab": {
     "base_uri": "https://localhost:8080/",
     "height": 144
    },
    "id": "so5lOVhjcZwG",
    "outputId": "bc88632d-ab88-46ec-a3cd-841d0cff5a06"
   },
   "outputs": [
    {
     "data": {
      "text/html": [
       "<div>\n",
       "<style scoped>\n",
       "    .dataframe tbody tr th:only-of-type {\n",
       "        vertical-align: middle;\n",
       "    }\n",
       "\n",
       "    .dataframe tbody tr th {\n",
       "        vertical-align: top;\n",
       "    }\n",
       "\n",
       "    .dataframe thead th {\n",
       "        text-align: right;\n",
       "    }\n",
       "</style>\n",
       "<table border=\"1\" class=\"dataframe\">\n",
       "  <thead>\n",
       "    <tr style=\"text-align: right;\">\n",
       "      <th></th>\n",
       "      <th>#</th>\n",
       "      <th>% null</th>\n",
       "      <th>type</th>\n",
       "    </tr>\n",
       "  </thead>\n",
       "  <tbody>\n",
       "    <tr>\n",
       "      <th>DESCRICAO</th>\n",
       "      <td>110</td>\n",
       "      <td>0.00125</td>\n",
       "      <td>object</td>\n",
       "    </tr>\n",
       "    <tr>\n",
       "      <th>GRAU</th>\n",
       "      <td>0</td>\n",
       "      <td>0.00000</td>\n",
       "      <td>object</td>\n",
       "    </tr>\n",
       "    <tr>\n",
       "      <th>SITUAÇÃO DO SINISTRO</th>\n",
       "      <td>0</td>\n",
       "      <td>0.00000</td>\n",
       "      <td>object</td>\n",
       "    </tr>\n",
       "  </tbody>\n",
       "</table>\n",
       "</div>"
      ],
      "text/plain": [
       "                        #   % null    type\n",
       "DESCRICAO             110  0.00125  object\n",
       "GRAU                    0  0.00000  object\n",
       "SITUAÇÃO DO SINISTRO    0  0.00000  object"
      ]
     },
     "execution_count": 69,
     "metadata": {},
     "output_type": "execute_result"
    }
   ],
   "source": [
    "show_null(df_02)"
   ]
  },
  {
   "cell_type": "code",
   "execution_count": 70,
   "metadata": {
    "id": "XzeA17iDTRaT"
   },
   "outputs": [],
   "source": [
    "df_02.dropna(inplace=True)"
   ]
  },
  {
   "cell_type": "code",
   "execution_count": 71,
   "metadata": {
    "colab": {
     "base_uri": "https://localhost:8080/",
     "height": 144
    },
    "id": "oZg2Us1TTMYr",
    "outputId": "07e4edea-6481-4e58-8b9f-aee57892981d"
   },
   "outputs": [
    {
     "data": {
      "text/html": [
       "<div>\n",
       "<style scoped>\n",
       "    .dataframe tbody tr th:only-of-type {\n",
       "        vertical-align: middle;\n",
       "    }\n",
       "\n",
       "    .dataframe tbody tr th {\n",
       "        vertical-align: top;\n",
       "    }\n",
       "\n",
       "    .dataframe thead th {\n",
       "        text-align: right;\n",
       "    }\n",
       "</style>\n",
       "<table border=\"1\" class=\"dataframe\">\n",
       "  <thead>\n",
       "    <tr style=\"text-align: right;\">\n",
       "      <th></th>\n",
       "      <th>#</th>\n",
       "      <th>% null</th>\n",
       "      <th>type</th>\n",
       "    </tr>\n",
       "  </thead>\n",
       "  <tbody>\n",
       "    <tr>\n",
       "      <th>DESCRICAO</th>\n",
       "      <td>0</td>\n",
       "      <td>0.0</td>\n",
       "      <td>object</td>\n",
       "    </tr>\n",
       "    <tr>\n",
       "      <th>GRAU</th>\n",
       "      <td>0</td>\n",
       "      <td>0.0</td>\n",
       "      <td>object</td>\n",
       "    </tr>\n",
       "    <tr>\n",
       "      <th>SITUAÇÃO DO SINISTRO</th>\n",
       "      <td>0</td>\n",
       "      <td>0.0</td>\n",
       "      <td>object</td>\n",
       "    </tr>\n",
       "  </tbody>\n",
       "</table>\n",
       "</div>"
      ],
      "text/plain": [
       "                      #  % null    type\n",
       "DESCRICAO             0     0.0  object\n",
       "GRAU                  0     0.0  object\n",
       "SITUAÇÃO DO SINISTRO  0     0.0  object"
      ]
     },
     "execution_count": 71,
     "metadata": {},
     "output_type": "execute_result"
    }
   ],
   "source": [
    "show_null(df_02)"
   ]
  },
  {
   "cell_type": "code",
   "execution_count": 72,
   "metadata": {
    "colab": {
     "base_uri": "https://localhost:8080/",
     "height": 687
    },
    "id": "dWILqr3yfQjG",
    "outputId": "600cf6b8-a235-463d-bc3d-7a6a8094de6f"
   },
   "outputs": [
    {
     "data": {
      "image/png": "[encoded data removed]",
      "text/plain": [
       "<Figure size 1200x800 with 2 Axes>"
      ]
     },
     "metadata": {},
     "output_type": "display_data"
    }
   ],
   "source": [
    "plot_num(df_02, 'GRAU')"
   ]
  },
  {
   "cell_type": "code",
   "execution_count": 73,
   "metadata": {
    "colab": {
     "base_uri": "https://localhost:8080/",
     "height": 698
    },
    "id": "iDLMpgHCf5G6",
    "outputId": "24830b1a-38fb-4855-b8b2-046b7bdf5596"
   },
   "outputs": [
    {
     "data": {
      "image/png": "[encoded data removed]",
      "text/plain": [
       "<Figure size 1200x800 with 2 Axes>"
      ]
     },
     "metadata": {},
     "output_type": "display_data"
    }
   ],
   "source": [
    "plot_num(df_02, 'SITUAÇÃO DO SINISTRO')"
   ]
  },
  {
   "cell_type": "code",
   "execution_count": 74,
   "metadata": {
    "colab": {
     "base_uri": "https://localhost:8080/",
     "height": 687
    },
    "id": "yLMTXy3TmrwD",
    "outputId": "2169a197-f73f-439a-eede-b93bb60c3426"
   },
   "outputs": [
    {
     "data": {
      "image/png": "[encoded data removed]",
      "text/plain": [
       "<Figure size 1200x800 with 2 Axes>"
      ]
     },
     "metadata": {},
     "output_type": "display_data"
    }
   ],
   "source": [
    "plot_num(df_02, 'GRAU')"
   ]
  },
  {
   "cell_type": "code",
   "execution_count": 75,
   "metadata": {
    "colab": {
     "base_uri": "https://localhost:8080/",
     "height": 714
    },
    "id": "1XDdhP1q81zS",
    "outputId": "522cbce9-cf8e-4774-b2f7-58c3b16ac12f"
   },
   "outputs": [
    {
     "data": {
      "image/png": "[encoded data removed]",
      "text/plain": [
       "<Figure size 1200x800 with 1 Axes>"
      ]
     },
     "metadata": {},
     "output_type": "display_data"
    }
   ],
   "source": [
    "plot_cat(df_02, 'SITUAÇÃO DO SINISTRO')"
   ]
  },
  {
   "cell_type": "markdown",
   "metadata": {
    "id": "sFc6omFjMh57"
   },
   "source": [
    "### Machine Learning e Deep Learning para NLP na Prática"
   ]
  },
  {
   "cell_type": "markdown",
   "metadata": {
    "id": "LU1N6vlyL758"
   },
   "source": [
    "#### Introdução: classificação de texto"
   ]
  },
  {
   "cell_type": "code",
   "execution_count": 76,
   "metadata": {
    "colab": {
     "base_uri": "https://localhost:8080/",
     "height": 517
    },
    "id": "fQ9SaZd89Lp7",
    "outputId": "bdf249f5-63d9-4e17-bbf3-0ee222f56b3d"
   },
   "outputs": [
    {
     "data": {
      "image/png": "[encoded data removed]",
      "text/plain": [
       "<IPython.core.display.Image object>"
      ]
     },
     "execution_count": 76,
     "metadata": {
      "image/png": {
       "height": 500,
       "width": 1000
      }
     },
     "output_type": "execute_result"
    }
   ],
   "source": [
    "Image(filename='classificacoo de texto.png', width=1000, height=500)"
   ]
  },
  {
   "cell_type": "markdown",
   "metadata": {
    "id": "xeTBC4UTNnGn"
   },
   "source": [
    "##### Imports"
   ]
  },
  {
   "cell_type": "code",
   "execution_count": 77,
   "metadata": {
    "id": "hP3rNHXkNy_5"
   },
   "outputs": [],
   "source": [
    "import pandas as pd\n",
    "from sklearn.model_selection import train_test_split\n",
    "from sklearn import metrics\n",
    "from sklearn.metrics import confusion_matrix, accuracy_score\n",
    "from sklearn.ensemble import RandomForestClassifier\n",
    "from sklearn.feature_extraction.text import TfidfVectorizer"
   ]
  },
  {
   "cell_type": "code",
   "execution_count": 78,
   "metadata": {
    "colab": {
     "base_uri": "https://localhost:8080/"
    },
    "id": "UUSsWHRLTisw",
    "outputId": "f776653e-de24-47d6-a3f4-5e89362002ed"
   },
   "outputs": [
    {
     "data": {
      "text/plain": [
       "(87885, 3)"
      ]
     },
     "execution_count": 78,
     "metadata": {},
     "output_type": "execute_result"
    }
   ],
   "source": [
    "df_02.shape"
   ]
  },
  {
   "cell_type": "markdown",
   "metadata": {
    "id": "WzMxKFxxRSAn"
   },
   "source": [
    "#### Classificação de ressarcimento parte 1"
   ]
  },
  {
   "cell_type": "code",
   "execution_count": 79,
   "metadata": {
    "colab": {
     "base_uri": "https://localhost:8080/"
    },
    "id": "t9KeZSMRPBU2",
    "outputId": "d5542f05-dcd0-4a9d-f910-fe2b9423a1b2"
   },
   "outputs": [
    {
     "data": {
      "text/plain": [
       "SITUAÇÃO DO SINISTRO\n",
       "BAIXADO SEM RESSARCIMENTO    78181\n",
       "BAIXADO COM RESSARCIMENTO     9704\n",
       "Name: count, dtype: int64"
      ]
     },
     "execution_count": 79,
     "metadata": {},
     "output_type": "execute_result"
    }
   ],
   "source": [
    "#Agrupar as categorias\n",
    "df_02['SITUAÇÃO DO SINISTRO'].value_counts()"
   ]
  },
  {
   "cell_type": "code",
   "execution_count": 80,
   "metadata": {
    "id": "SNx0wP1WPt9B"
   },
   "outputs": [],
   "source": [
    "previ = df_02['DESCRICAO']\n",
    "classe = df_02['SITUAÇÃO DO SINISTRO']"
   ]
  },
  {
   "cell_type": "code",
   "execution_count": 81,
   "metadata": {
    "colab": {
     "base_uri": "https://localhost:8080/"
    },
    "id": "1EcgmGJbQF1F",
    "outputId": "bd1d44a3-83e9-40ec-93d7-5b584a7512f3"
   },
   "outputs": [
    {
     "name": "stdout",
     "output_type": "stream",
     "text": [
      "(87885, 69860)\n"
     ]
    }
   ],
   "source": [
    "vetorizador = TfidfVectorizer()\n",
    "previsores = vetorizador.fit_transform(previ)\n",
    "print(previsores.shape)"
   ]
  },
  {
   "cell_type": "code",
   "execution_count": 82,
   "metadata": {
    "colab": {
     "base_uri": "https://localhost:8080/"
    },
    "id": "g97iDdviT5aQ",
    "outputId": "d6de2b75-8a2b-427a-e0bf-7c0f232b53a5"
   },
   "outputs": [
    {
     "name": "stdout",
     "output_type": "stream",
     "text": [
      "['0000323495' '0000325240' '0000365519' '0000390725' '0000419109'\n",
      " '0000511917' '0000535042' '0000598831' '0000609680' '0000619896'\n",
      " '000064627' '0000654389' '0000691361' '0000717866' '0000801063'\n",
      " '0000922925' '0000949470' '00009562662019' '0000966231' '0001'\n",
      " '0001009593' '0001040524' '0001075127' '0001080589' '0001083271'\n",
      " '0001121920' '0001232142' '0001264154' '0001559658' '0001621908'\n",
      " '0001678792' '0001778309' '0001784259' '00017890162021' '0001837129'\n",
      " '0002' '0002013474' '0002152743' '0002321540' '0002492606' '0003'\n",
      " '0003982' '00074' '000segurado' '001' '0010' '00115400621' '00123154395'\n",
      " '001272' '0016' '0017' '0019' '00196545780' '002' '0021' '002138738'\n",
      " '0022' '00220717702' '0023' '00233637265' '0024' '0025' '0027' '0028'\n",
      " '00281147316' '00287608646' '003' '00304217050' '00304751751'\n",
      " '00328328642' '00328864760' '0033' '00341' '0035' '0036' '00374334269'\n",
      " '0038' '00389278106' '0039' '004' '0040' '0041' '00411638777' '0042'\n",
      " '0044' '00450526879' '00456104216' '0046' '0049' '005']\n"
     ]
    }
   ],
   "source": [
    "print(vetorizador.get_feature_names_out()[10:100])"
   ]
  },
  {
   "cell_type": "markdown",
   "metadata": {
    "id": "YQcmWsaeWbL1"
   },
   "source": [
    "#### Classificação de ressarcimento parte 2"
   ]
  },
  {
   "cell_type": "code",
   "execution_count": 83,
   "metadata": {
    "id": "9UH7ykxcWYwY"
   },
   "outputs": [],
   "source": [
    "#X_treinamento, X_teste, y_treinamento, y_teste = train_test_split(previsores, classe, test_size=0.3)"
   ]
  },
  {
   "cell_type": "code",
   "execution_count": 84,
   "metadata": {
    "id": "SW3iebMNWmYM"
   },
   "outputs": [],
   "source": [
    "#X_teste.shape"
   ]
  },
  {
   "cell_type": "code",
   "execution_count": 85,
   "metadata": {
    "id": "65iPgFtTWsKc"
   },
   "outputs": [],
   "source": [
    "#floresta = RandomForestClassifier(n_estimators=500)\n",
    "#floresta.fit(X_treinamento,y_treinamento)"
   ]
  },
  {
   "cell_type": "code",
   "execution_count": 86,
   "metadata": {
    "id": "g9BcucsYYFgS"
   },
   "outputs": [],
   "source": [
    "#previsoes = floresta.predict(X_teste)\n",
    "#print(previsoes)"
   ]
  },
  {
   "cell_type": "code",
   "execution_count": 87,
   "metadata": {
    "id": "-DAdGeA1YPos"
   },
   "outputs": [],
   "source": [
    "#print(confusion_matrix(y_teste, previsoes))"
   ]
  },
  {
   "cell_type": "code",
   "execution_count": 88,
   "metadata": {
    "id": "TdxDughHYRmI"
   },
   "outputs": [],
   "source": [
    "#print(accuracy_score(y_teste, previsoes))\n",
    "#print(metrics.classification_report(y_teste, previsoes))"
   ]
  },
  {
   "cell_type": "code",
   "execution_count": 89,
   "metadata": {
    "id": "DLwF0zl4dq9I"
   },
   "outputs": [],
   "source": [
    "#df_02.head(100)"
   ]
  },
  {
   "cell_type": "code",
   "execution_count": 90,
   "metadata": {
    "id": "Qbi71VmBYhBJ"
   },
   "outputs": [],
   "source": [
    "#mensagem = df_02['DESCRICAO'][99]\n",
    "#mensagem"
   ]
  },
  {
   "cell_type": "code",
   "execution_count": 91,
   "metadata": {
    "id": "QpUmVVEOYY99"
   },
   "outputs": [],
   "source": [
    "#mensagem = [mensagem]\n",
    "#mensagem = vetorizador.transform(mensagem)\n",
    "#previsao = floresta.predict(mensagem)\n",
    "#print(previsao)"
   ]
  },
  {
   "cell_type": "markdown",
   "metadata": {
    "id": "p02lmfsaooJN"
   },
   "source": [
    "#### Classificação com Redes Neurais\n"
   ]
  },
  {
   "cell_type": "markdown",
   "metadata": {
    "id": "PTMO1a2orrMP"
   },
   "source": [
    "#### Implementando uma Rede Neural Parte 1"
   ]
  },
  {
   "cell_type": "markdown",
   "metadata": {
    "id": "CwTttVZ1swEQ"
   },
   "source": [
    "##### Imports"
   ]
  },
  {
   "cell_type": "code",
   "execution_count": 92,
   "metadata": {
    "id": "i1ndOdqEoi8T"
   },
   "outputs": [],
   "source": [
    "import pandas as pd\n",
    "from sklearn.model_selection import train_test_split\n",
    "from sklearn.preprocessing import LabelEncoder\n",
    "from sklearn.feature_extraction.text import CountVectorizer\n",
    "from sklearn.metrics import confusion_matrix\n",
    "from tensorflow.python.keras.models import Sequential\n",
    "from tensorflow.python.keras.layers import Dense, Dropout\n",
    "import numpy as np"
   ]
  },
  {
   "cell_type": "markdown",
   "metadata": {
    "id": "IKvIb2LWuZsf"
   },
   "source": [
    "##### Transformar texto em numeros"
   ]
  },
  {
   "cell_type": "code",
   "execution_count": 93,
   "metadata": {
    "colab": {
     "base_uri": "https://localhost:8080/"
    },
    "id": "V0jgEPYosJNk",
    "outputId": "92e86ac8-0aa6-40de-f3fc-96d1b0f5b1a5"
   },
   "outputs": [],
   "source": [
    "labelencoder = LabelEncoder()\n",
    "y = labelencoder.fit_transform(df_02['SITUAÇÃO DO SINISTRO'])\n",
    "#print(y)"
   ]
  },
  {
   "cell_type": "code",
   "execution_count": 94,
   "metadata": {
    "colab": {
     "base_uri": "https://localhost:8080/"
    },
    "id": "MU0xEF8ku6EP",
    "outputId": "b51b4d18-6c62-449b-94d5-e3fb4ab81c8e"
   },
   "outputs": [],
   "source": [
    "mensagens = df_02['DESCRICAO'].values\n",
    "X_train, X_test, y_train, y_test = train_test_split(mensagens, y, test_size=0.3)\n",
    "#print(X_train)"
   ]
  },
  {
   "cell_type": "markdown",
   "metadata": {},
   "source": [
    "###### A vetorização é o processo de converter texto em um formato numérico\n",
    "O código começa criando um objeto CountVectorizer e ajustando-o aos dados de treinamento usando o método fit(). Em seguida, ele transforma os dados de treinamento e teste usando o método transform(). Finalmente, ele imprime a representação numérica dos dados de treinamento usando o método toarray()."
   ]
  },
  {
   "cell_type": "code",
   "execution_count": null,
   "metadata": {
    "colab": {
     "base_uri": "https://localhost:8080/"
    },
    "id": "GojR6We1zJcQ",
    "outputId": "a1fee54f-8de6-4f4c-b59c-89ae54175201"
   },
   "outputs": [],
   "source": [
    "vetorizador = CountVectorizer()\n",
    "vetorizador.fit(X_train)\n",
    "X_train = vetorizador.transform(X_train)\n",
    "X_test = vetorizador.transform(X_test)\n",
    "print(X_train.toarray())"
   ]
  },
  {
   "cell_type": "code",
   "execution_count": null,
   "metadata": {
    "id": "iIWEHVdiz5DE"
   },
   "outputs": [],
   "source": [
    "np.set_printoptions(threshold=np.inf)"
   ]
  },
  {
   "cell_type": "code",
   "execution_count": null,
   "metadata": {
    "id": "uthsD_8K226Y"
   },
   "outputs": [],
   "source": [
    "#X_train.toarray()[0]"
   ]
  },
  {
   "cell_type": "code",
   "execution_count": null,
   "metadata": {
    "colab": {
     "base_uri": "https://localhost:8080/"
    },
    "id": "q8rL-0eP28bc",
    "outputId": "db5b10eb-a740-43e7-d535-e8cfa2bf7508"
   },
   "outputs": [],
   "source": [
    "print(X_train.shape[1])"
   ]
  },
  {
   "cell_type": "markdown",
   "metadata": {
    "id": "YMYpI-lYFo4l"
   },
   "source": [
    "#### Implementando uma Rede Neural Parte 2"
   ]
  },
  {
   "cell_type": "code",
   "execution_count": null,
   "metadata": {
    "id": "1a8GtL3Q3RTS"
   },
   "outputs": [],
   "source": [
    "modelo = Sequential()\n",
    "modelo.add(Dense(units=10,activation=\"relu\",input_dim=X_train.shape[1]))\n",
    "modelo.add(Dropout(0.1))\n",
    "modelo.add(Dense(units=8,activation=\"relu\")) ##  0 0u 1\n",
    "modelo.add(Dropout(0.1))\n",
    "modelo.add(Dense(units=1,activation=\"sigmoid\")) #Camada de saida atua na probabilidade de ser 0 0u 1"
   ]
  },
  {
   "cell_type": "markdown",
   "metadata": {
    "id": "knxOHdVYGcXm"
   },
   "source": [
    "#### Implementando uma Rede Neural Parte 3"
   ]
  },
  {
   "cell_type": "code",
   "execution_count": null,
   "metadata": {
    "colab": {
     "base_uri": "https://localhost:8080/"
    },
    "id": "h04llmk-3Wqk",
    "outputId": "e9b8e288-1d4e-4542-9a55-351853e326e5"
   },
   "outputs": [],
   "source": [
    "modelo.compile(loss=\"mean_squared_error\", optimizer=\"adam\", metrics=[\"accuracy\"])\n",
    "modelo.summary()"
   ]
  },
  {
   "cell_type": "code",
   "execution_count": null,
   "metadata": {
    "colab": {
     "base_uri": "https://localhost:8080/"
    },
    "id": "ehpE_q8e3djT",
    "outputId": "a8ffabe7-3477-4895-a60c-942ec85d181c"
   },
   "outputs": [],
   "source": [
    "modelo.fit(X_train, y_train,epochs=10,batch_size=10, verbose=True, validation_data=(X_test, y_test))"
   ]
  },
  {
   "cell_type": "code",
   "execution_count": null,
   "metadata": {
    "colab": {
     "base_uri": "https://localhost:8080/"
    },
    "id": "WZVegqHd3jTC",
    "outputId": "9531c467-84c9-42dd-8920-6b2a95325a74"
   },
   "outputs": [],
   "source": [
    "loss, accuracy = modelo.evaluate(X_test,y_test)\n",
    "print(\"Loss: \", loss)\n",
    "print(\"Acurácia: \", accuracy)"
   ]
  },
  {
   "cell_type": "code",
   "execution_count": null,
   "metadata": {
    "id": "XP3UQZWG3k8d"
   },
   "outputs": [],
   "source": [
    "nova_previsao = modelo.predict(X_test)\n",
    "#print(nova_previsao)"
   ]
  },
  {
   "cell_type": "code",
   "execution_count": null,
   "metadata": {
    "id": "ZhQUGCPQ3pI-"
   },
   "outputs": [],
   "source": [
    "prev = (nova_previsao > 0.5)\n",
    "#print(prev)"
   ]
  },
  {
   "cell_type": "code",
   "execution_count": null,
   "metadata": {
    "colab": {
     "base_uri": "https://localhost:8080/"
    },
    "id": "omJiQ2TO3tu-",
    "outputId": "60362b96-9c27-476a-ff6d-b4a283e85415"
   },
   "outputs": [],
   "source": [
    "cm = confusion_matrix(y_test, prev)\n",
    "print(cm)\n",
    "\n",
    " #20 [[  729  2138]\n",
    " #[ 2772 20727]]"
   ]
  },
  {
   "cell_type": "code",
   "execution_count": null,
   "metadata": {},
   "outputs": [],
   "source": [
    "cm = confusion_matrix(y_test, prev)\n",
    "plt.matshow(cm, cmap='Matriz de Confusão')\n",
    "plt.colorbar()\n",
    "plt.xlabel('Predicted')\n",
    "plt.ylabel('True')\n",
    "plt.show()"
   ]
  },
  {
   "cell_type": "markdown",
   "metadata": {
    "id": "HtwyQYvepbmC"
   },
   "source": [
    "#### Criando seu próprio Embeddings"
   ]
  },
  {
   "cell_type": "markdown",
   "metadata": {
    "id": "7HZ3_7pjra06"
   },
   "source": [
    "##### Implementando uma Rede Neural com Embeddings Parte 1"
   ]
  },
  {
   "cell_type": "code",
   "execution_count": null,
   "metadata": {
    "id": "uGPASAUvsD4a"
   },
   "outputs": [],
   "source": [
    "import pandas as pd\n",
    "from sklearn.model_selection import train_test_split\n",
    "from sklearn.preprocessing import LabelEncoder\n",
    "#from sklearn.feature_extraction.text import CountVectorizer\n",
    "from sklearn.metrics import confusion_matrix\n",
    "from keras.models import Sequential\n",
    "from keras.layers import Dense, Dropout, Flatten, Embedding\n",
    "\n",
    "\n",
    "from keras.preprocessing.text import Tokenizer\n",
    "from keras.utils import pad_sequences\n",
    "from sklearn.metrics import classification_report\n"
   ]
  },
  {
   "cell_type": "code",
   "execution_count": null,
   "metadata": {
    "colab": {
     "base_uri": "https://localhost:8080/",
     "height": 206
    },
    "id": "iiMSgLAvx462",
    "outputId": "ac4c5ac3-ad99-42a7-8e07-05bbeed2a41f"
   },
   "outputs": [],
   "source": [
    "df_02.head(2)"
   ]
  },
  {
   "cell_type": "code",
   "execution_count": null,
   "metadata": {
    "colab": {
     "base_uri": "https://localhost:8080/"
    },
    "id": "QEaSMzrd0mnf",
    "outputId": "5fd28ba9-37e3-499f-b43d-bd2c0d7a9db7"
   },
   "outputs": [],
   "source": [
    "labelencoder = LabelEncoder()\n",
    "y = labelencoder.fit_transform(df_02['DESCRICAO'])\n",
    "print(y)"
   ]
  },
  {
   "cell_type": "code",
   "execution_count": null,
   "metadata": {
    "id": "5GosjGDA0QlC"
   },
   "outputs": [],
   "source": [
    "mensagens = df_02['DESCRICAO'].values\n",
    "X_train, X_test, y_train, y_test = train_test_split(mensagens, y, test_size=0.3)"
   ]
  },
  {
   "cell_type": "code",
   "execution_count": null,
   "metadata": {
    "id": "kc419Tvbt5cE"
   },
   "outputs": [],
   "source": [
    "#print('Relatório de classificação:\\n', classification_report(y_train, X_test, digits=4))\n"
   ]
  },
  {
   "cell_type": "code",
   "execution_count": null,
   "metadata": {
    "id": "Wyk6jXI-0RVf"
   },
   "outputs": [],
   "source": [
    "token = Tokenizer(num_words=1000)\n",
    "token.fit_on_texts(X_train)\n",
    "\n",
    "X_train = token.texts_to_sequences(X_train)\n",
    "X_test = token.texts_to_sequences(X_test)"
   ]
  },
  {
   "cell_type": "code",
   "execution_count": null,
   "metadata": {
    "colab": {
     "base_uri": "https://localhost:8080/"
    },
    "id": "8O7WX0Li05Xc",
    "outputId": "8735b720-2565-438f-d8b3-52b06fd07edb"
   },
   "outputs": [],
   "source": [
    "print(X_train)"
   ]
  },
  {
   "cell_type": "code",
   "execution_count": null,
   "metadata": {
    "colab": {
     "base_uri": "https://localhost:8080/"
    },
    "id": "Ez0iyKAp1BHH",
    "outputId": "a7cf47f9-09d6-40d6-a36f-8a30835af67a"
   },
   "outputs": [],
   "source": [
    "X_train = pad_sequences(X_train, padding=\"post\", maxlen=500) ## tamanho maximo para cada vetor\n",
    "X_test = pad_sequences(X_test, padding=\"post\", maxlen=500)\n",
    "print(X_train) # Matriz Densa"
   ]
  },
  {
   "cell_type": "code",
   "execution_count": null,
   "metadata": {
    "id": "ORXB3R6QiHdr"
   },
   "outputs": [],
   "source": []
  },
  {
   "cell_type": "code",
   "execution_count": null,
   "metadata": {
    "colab": {
     "base_uri": "https://localhost:8080/"
    },
    "id": "0d1ITPoU1Koj",
    "outputId": "552626f6-7786-4781-d45e-ac074a283408"
   },
   "outputs": [],
   "source": [
    "print(len(token.word_index))"
   ]
  },
  {
   "cell_type": "markdown",
   "metadata": {
    "id": "60BQLLQP9cNR"
   },
   "source": [
    "##### Implementando uma Rede Neural com Embeddings Parte 2"
   ]
  },
  {
   "cell_type": "code",
   "execution_count": null,
   "metadata": {
    "id": "qah2aUYA1Ym8"
   },
   "outputs": [],
   "source": [
    "modelo = Sequential()\n",
    "modelo.add(Embedding(input_dim=len(token.word_index), output_dim=50,input_length=500)) #output_dim tamanho do vetor denso/input_length comprimento da sequencia\n",
    "modelo.add(Flatten())\n",
    "\n",
    "modelo.add(Dense(units=10,activation=\"relu\"))\n",
    "modelo.add(Dropout(0.1))\n",
    "modelo.add(Dense(units=1,activation=\"sigmoid\"))"
   ]
  },
  {
   "cell_type": "code",
   "execution_count": null,
   "metadata": {
    "colab": {
     "base_uri": "https://localhost:8080/"
    },
    "id": "YXO-Okgm1Mat",
    "outputId": "280e1b80-c976-4e45-803d-0f19ddcdcebc"
   },
   "outputs": [],
   "source": [
    "modelo.compile(loss=\"mean_squared_error\", optimizer=\"adam\", metrics=[\"accuracy\"])\n",
    "modelo.summary()"
   ]
  },
  {
   "cell_type": "code",
   "execution_count": null,
   "metadata": {
    "colab": {
     "base_uri": "https://localhost:8080/"
    },
    "id": "MVbOX-Ks1gjo",
    "outputId": "dd64fa93-f843-49f2-bd34-009e42c7fb42"
   },
   "outputs": [],
   "source": [
    "modelo.fit(X_train, y_train,epochs=10,batch_size=10, verbose=True, validation_data=(X_test, y_test))"
   ]
  },
  {
   "cell_type": "code",
   "execution_count": null,
   "metadata": {
    "colab": {
     "base_uri": "https://localhost:8080/"
    },
    "id": "_aoPuvQe1lLu",
    "outputId": "a5969393-39e9-4085-b1da-d6e300d234ab"
   },
   "outputs": [],
   "source": [
    "loss, accuracy = modelo.evaluate(X_test,y_test)\n",
    "print(\"Loss: \", loss)\n",
    "print(\"Acurácia: \", accuracy)"
   ]
  },
  {
   "cell_type": "code",
   "execution_count": null,
   "metadata": {
    "id": "UplyXExT1ozO"
   },
   "outputs": [],
   "source": [
    "nova_previsao = modelo.predict(X_test)\n",
    "print(nova_previsao)"
   ]
  },
  {
   "cell_type": "code",
   "execution_count": null,
   "metadata": {
    "colab": {
     "base_uri": "https://localhost:8080/"
    },
    "id": "PA8vVU8x1sQu",
    "outputId": "b9e11076-6856-41c4-c7cc-e5ac216282a0"
   },
   "outputs": [],
   "source": [
    "prev = (nova_previsao > 0.5)\n",
    "#print(prev)"
   ]
  },
  {
   "cell_type": "code",
   "execution_count": null,
   "metadata": {
    "colab": {
     "base_uri": "https://localhost:8080/",
     "height": 360
    },
    "id": "uCyADTq-1xNN",
    "outputId": "21c00af5-4154-4161-bd1e-43e6634cb353"
   },
   "outputs": [],
   "source": [
    "cm = confusion_matrix(y_test, prev)\n",
    "#print(cm)"
   ]
  },
  {
   "cell_type": "code",
   "execution_count": null,
   "metadata": {
    "colab": {
     "base_uri": "https://localhost:8080/",
     "height": 341
    },
    "id": "TKNPdcy5hc5H",
    "outputId": "016a571d-8b36-4e69-d443-dd12c6dae2ae"
   },
   "outputs": [],
   "source": [
    "#print(classification_report(X_test,y_test))"
   ]
  },
  {
   "cell_type": "code",
   "execution_count": null,
   "metadata": {
    "colab": {
     "base_uri": "https://localhost:8080/"
    },
    "id": "2ZWHKDcQodlT",
    "outputId": "5aa3c7ca-2afd-494e-8cdf-5abea6e1d54e"
   },
   "outputs": [],
   "source": [
    "pip install transformers"
   ]
  },
  {
   "cell_type": "code",
   "execution_count": null,
   "metadata": {
    "id": "W9MZEHPVmkz3"
   },
   "outputs": [],
   "source": [
    "from sklearn.pipeline import Pipeline"
   ]
  },
  {
   "cell_type": "code",
   "execution_count": null,
   "metadata": {
    "colab": {
     "base_uri": "https://localhost:8080/"
    },
    "id": "kqUmYGY1lxMU",
    "outputId": "7e2e33ad-9e64-4398-bd85-7cfa24e1c357"
   },
   "outputs": [],
   "source": [
    "\n",
    "modelo.fit(X_train,y_train)\n",
    "y_preds = modelo.predict(X_test)"
   ]
  }
 ],
 "metadata": {
  "colab": {
   "collapsed_sections": [
    "9eTna6oOxIB8",
    "LwjTAuuo5vYe",
    "LU1N6vlyL758",
    "WzMxKFxxRSAn",
    "YQcmWsaeWbL1"
   ],
   "provenance": []
  },
  "kernelspec": {
   "display_name": "Python 3 (ipykernel)",
   "language": "python",
   "name": "python3"
  },
  "language_info": {
   "codemirror_mode": {
    "name": "ipython",
    "version": 3
   },
   "file_extension": ".py",
   "mimetype": "text/x-python",
   "name": "python",
   "nbconvert_exporter": "python",
   "pygments_lexer": "ipython3",
   "version": "3.11.6"
  }
 },
 "nbformat": 4,
 "nbformat_minor": 4
}
