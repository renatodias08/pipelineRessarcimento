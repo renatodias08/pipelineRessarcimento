{
 "cells": [
  {
   "cell_type": "code",
   "execution_count": 2,
   "id": "112721e5-f6c7-4dbd-a217-bc210cd8d241",
   "metadata": {},
   "outputs": [],
   "source": [
    "# import important modules\n",
    "import numpy as np\n",
    "import pandas as pd\n",
    "import pandas as pd\n",
    "import requests\n",
    "import json"
   ]
  },
  {
   "cell_type": "code",
   "execution_count": 3,
   "id": "24ed29fc-e6d6-4f85-8a35-3c7e0f94d012",
   "metadata": {},
   "outputs": [],
   "source": [
    "# load data\n",
    "colnames=['DESCRICAO', 'SITUAÇÃO DO SINISTRO']\n",
    "colrenames={'DESCRICAO': 'descricaoSinistro','SITUAÇÃO DO SINISTRO': 'situacao'}\n",
    "data = pd.read_csv(\"base_de_descricoes.csv\", usecols=colnames)\n",
    "data.rename(columns=colrenames, inplace=True)\n"
   ]
  },
  {
   "cell_type": "code",
   "execution_count": 4,
   "id": "aaabb4ca-bc63-423b-86ce-8c053f464282",
   "metadata": {},
   "outputs": [],
   "source": [
    "# Adicionar uma coluna sequencial\n",
    "data['numeroSinistro'] = range(1, len(data) + 1)"
   ]
  },
  {
   "cell_type": "code",
   "execution_count": null,
   "id": "306376ec-3e89-474d-a371-5e567190744e",
   "metadata": {},
   "outputs": [],
   "source": [
    "# show top five rows of data\n",
    "data.dropna(inplace=True)\n",
    "data.head() "
   ]
  },
  {
   "cell_type": "code",
   "execution_count": null,
   "id": "5eff7a2a-d263-46be-9be6-a7beb4a49d55",
   "metadata": {},
   "outputs": [],
   "source": [
    "# Suponha que 'df' seja o seu DataFrame\n",
    "for i, (index, row) in enumerate(data.iterrows()):\n",
    "    try:\n",
    "        if i >= 5:\n",
    "            break  # Sai do loop após 20 registros\n",
    "        # Seu código para processar cada linha aqui\n",
    "        descricao_sinistro = row['descricaoSinistro']\n",
    "        numero_sinistro = row['numeroSinistro']\n",
    "        # Montar o payload para a API como um objeto JSON\n",
    "        payload = {\n",
    "            \"descricaoSinistro\": descricao_sinistro,\n",
    "            \"numeroSinistro\": numero_sinistro\n",
    "        }\n",
    "        # Converter o dicionário em uma string JSON\n",
    "        payload_json = json.dumps(payload)\n",
    "        print(f\"Chamada para o sinistro {payload_json}\")\n",
    "\n",
    "            # Fazer a chamada à API\n",
    "        url_api = \"http://producer:8000/v1/ressarcimento\"\n",
    "        response = requests.post(url_api, json=payload)\n",
    "        jsonResponse = response.json()\n",
    "        uuid = jsonResponse['uuid']\n",
    "\n",
    "        # Verificar a resposta da API\n",
    "        if response.status_code == 200:\n",
    "            print(f\"##########INICIO########## {uuid}\\n Chamada para o sinistro {numero_sinistro} realizada com sucesso! response: {response.json()}\\n##########FIM##########\")\n",
    "        else:\n",
    "            print(f\"##########INICIO########## {uuid}\\n Erro na chamada para o sinistro {numero_sinistro}. Status code: {response.status_code} response: {response.json()}\\n####################\")\n",
    "    \n",
    "    except json.JSONDecodeError as err:\n",
    "        print(f\"Erro ao decodificar a string JSON: {err}\")\n",
    "        print(err.response.status_code)\n",
    "        print(err.response.text)\n",
    "    except requests.exceptions.HTTPError as err:\n",
    "        print(f\"Erro HTTP: {err}\")\n",
    "        print(err.response.status_code)\n",
    "        print(err.response.text)\n",
    "    except requests.exceptions.ConnectionError as err:\n",
    "        print(f\"Erro de conexão: {err}\")\n",
    "        print(err.response.status_code)\n",
    "        print(err.response.text)\n",
    "    except requests.exceptions.Timeout as err:\n",
    "        print(f\"Erro de tempo limite: {err}\")\n",
    "        print(err.response.status_code)\n",
    "        print(err.response.text)\n",
    "    except requests.exceptions.RequestException as err:\n",
    "        print(f\"Erro desconhecido: {err}\")   \n",
    "        print(err.response.status_code)\n",
    "        print(err.response.text)\n",
    "\n",
    "    \n"
   ]
  },
  {
   "cell_type": "code",
   "execution_count": null,
   "id": "7813c8d6-5cb4-40b5-b943-7063beef819d",
   "metadata": {},
   "outputs": [],
   "source": []
  }
 ],
 "metadata": {
  "kernelspec": {
   "display_name": "Python 3 (ipykernel)",
   "language": "python",
   "name": "python3"
  },
  "language_info": {
   "codemirror_mode": {
    "name": "ipython",
    "version": 3
   },
   "file_extension": ".py",
   "mimetype": "text/x-python",
   "name": "python",
   "nbconvert_exporter": "python",
   "pygments_lexer": "ipython3",
   "version": "3.11.6"
  }
 },
 "nbformat": 4,
 "nbformat_minor": 5
}
