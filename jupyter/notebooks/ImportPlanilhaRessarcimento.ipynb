{
 "cells": [
  {
   "cell_type": "code",
   "execution_count": 3,
   "id": "112721e5-f6c7-4dbd-a217-bc210cd8d241",
   "metadata": {},
   "outputs": [],
   "source": [
    "# import important modules\n",
    "import numpy as np\n",
    "import pandas as pd\n",
    "import pandas as pd\n",
    "import requests\n",
    "import json"
   ]
  },
  {
   "cell_type": "code",
   "execution_count": 4,
   "id": "24ed29fc-e6d6-4f85-8a35-3c7e0f94d012",
   "metadata": {},
   "outputs": [],
   "source": [
    "# load data\n",
    "colnames=['DESCRICAO', 'SITUAÇÃO DO SINISTRO']\n",
    "colrenames={'DESCRICAO': 'descricaoSinistro','SITUAÇÃO DO SINISTRO': 'situacao'}\n",
    "data = pd.read_csv(\"base_de_descricoes.csv\", usecols=colnames)\n",
    "data.rename(columns=colrenames, inplace=True)\n"
   ]
  },
  {
   "cell_type": "code",
   "execution_count": 5,
   "id": "aaabb4ca-bc63-423b-86ce-8c053f464282",
   "metadata": {},
   "outputs": [],
   "source": [
    "# Adicionar uma coluna sequencial\n",
    "data['numeroSinistro'] = range(1, len(data) + 1)"
   ]
  },
  {
   "cell_type": "code",
   "execution_count": 6,
   "id": "306376ec-3e89-474d-a371-5e567190744e",
   "metadata": {},
   "outputs": [
    {
     "data": {
      "text/html": [
       "<div>\n",
       "<style scoped>\n",
       "    .dataframe tbody tr th:only-of-type {\n",
       "        vertical-align: middle;\n",
       "    }\n",
       "\n",
       "    .dataframe tbody tr th {\n",
       "        vertical-align: top;\n",
       "    }\n",
       "\n",
       "    .dataframe thead th {\n",
       "        text-align: right;\n",
       "    }\n",
       "</style>\n",
       "<table border=\"1\" class=\"dataframe\">\n",
       "  <thead>\n",
       "    <tr style=\"text-align: right;\">\n",
       "      <th></th>\n",
       "      <th>descricaoSinistro</th>\n",
       "      <th>situacao</th>\n",
       "      <th>numeroSinistro</th>\n",
       "    </tr>\n",
       "  </thead>\n",
       "  <tbody>\n",
       "    <tr>\n",
       "      <th>0</th>\n",
       "      <td>- A CONDUTORA DO VEICULO SEGURADO CONDUZIA SEU...</td>\n",
       "      <td>BAIXADO SEM RESSARCIMENTO</td>\n",
       "      <td>1</td>\n",
       "    </tr>\n",
       "    <tr>\n",
       "      <th>1</th>\n",
       "      <td>- A CONDUTORA DO VEICULO SEGURADO CONDUZIA SEU...</td>\n",
       "      <td>BAIXADO SEM RESSARCIMENTO</td>\n",
       "      <td>2</td>\n",
       "    </tr>\n",
       "    <tr>\n",
       "      <th>2</th>\n",
       "      <td>- A CONDUTORA DO VEICULO SEGURADO CONDUZIA SEU...</td>\n",
       "      <td>BAIXADO SEM RESSARCIMENTO</td>\n",
       "      <td>3</td>\n",
       "    </tr>\n",
       "    <tr>\n",
       "      <th>3</th>\n",
       "      <td>Ao virar a esquina da rua Gentil de Mora com ...</td>\n",
       "      <td>SEGURADO CULPADO</td>\n",
       "      <td>4</td>\n",
       "    </tr>\n",
       "    <tr>\n",
       "      <th>4</th>\n",
       "      <td>CONDUTORA TRAFEGAVA NA AVENIDA EUCLIDES DA CU...</td>\n",
       "      <td>BAIXADO COM RESSARCIMENTO</td>\n",
       "      <td>5</td>\n",
       "    </tr>\n",
       "  </tbody>\n",
       "</table>\n",
       "</div>"
      ],
      "text/plain": [
       "                                   descricaoSinistro  \\\n",
       "0  - A CONDUTORA DO VEICULO SEGURADO CONDUZIA SEU...   \n",
       "1  - A CONDUTORA DO VEICULO SEGURADO CONDUZIA SEU...   \n",
       "2  - A CONDUTORA DO VEICULO SEGURADO CONDUZIA SEU...   \n",
       "3   Ao virar a esquina da rua Gentil de Mora com ...   \n",
       "4   CONDUTORA TRAFEGAVA NA AVENIDA EUCLIDES DA CU...   \n",
       "\n",
       "                    situacao  numeroSinistro  \n",
       "0  BAIXADO SEM RESSARCIMENTO               1  \n",
       "1  BAIXADO SEM RESSARCIMENTO               2  \n",
       "2  BAIXADO SEM RESSARCIMENTO               3  \n",
       "3           SEGURADO CULPADO               4  \n",
       "4  BAIXADO COM RESSARCIMENTO               5  "
      ]
     },
     "execution_count": 6,
     "metadata": {},
     "output_type": "execute_result"
    }
   ],
   "source": [
    "# show top five rows of data\n",
    "data.dropna(inplace=True)\n",
    "data.head() "
   ]
  },
  {
   "cell_type": "code",
   "execution_count": 8,
   "id": "5eff7a2a-d263-46be-9be6-a7beb4a49d55",
   "metadata": {},
   "outputs": [
    {
     "name": "stdout",
     "output_type": "stream",
     "text": [
      "Chamada para o sinistro {\"descricaoSinistro\": \"- A CONDUTORA DO VEICULO SEGURADO CONDUZIA SEU VEICULO PELA VIA CITADA MOMENTO EM QUE DEIXOU SEU VEICULO DEVIDAMENTE ESTACIONADO E AO RETORNAR O ENCONTROU DANIFICADO.\", \"numeroSinistro\": 1}\n",
      "##########INICIO########## ec98cf6a-b28c-4c59-8676-c0cc8e17fd6b\n",
      " Chamada para o sinistro 1 realizada com sucesso! response: {'descricaoSinistro': '- A CONDUTORA DO VEICULO SEGURADO CONDUZIA SEU VEICULO PELA VIA CITADA MOMENTO EM QUE DEIXOU SEU VEICULO DEVIDAMENTE ESTACIONADO E AO RETORNAR O ENCONTROU DANIFICADO.', 'numeroSinistro': 1, 'uuid': 'ec98cf6a-b28c-4c59-8676-c0cc8e17fd6b'}\n",
      "##########FIM##########\n"
     ]
    }
   ],
   "source": [
    "# Suponha que 'df' seja o seu DataFrame\n",
    "for i, (index, row) in enumerate(data.iterrows()):\n",
    "    try:\n",
    "        if i >= 1:\n",
    "            break  # Sai do loop após 20 registros\n",
    "        # Seu código para processar cada linha aqui\n",
    "        descricao_sinistro = row['descricaoSinistro']\n",
    "        numero_sinistro = row['numeroSinistro']\n",
    "        # Montar o payload para a API como um objeto JSON\n",
    "        payload = {\n",
    "            \"descricaoSinistro\": descricao_sinistro,\n",
    "            \"numeroSinistro\": numero_sinistro\n",
    "        }\n",
    "        # Converter o dicionário em uma string JSON\n",
    "        payload_json = json.dumps(payload)\n",
    "        print(f\"Chamada para o sinistro {payload_json}\")\n",
    "\n",
    "            # Fazer a chamada à API\n",
    "        url_api = \"http://producer:8000/v1/ressarcimento\"\n",
    "        response = requests.post(url_api, json=payload)\n",
    "        jsonResponse = response.json()\n",
    "        uuid = jsonResponse['uuid']\n",
    "\n",
    "        # Verificar a resposta da API\n",
    "        if response.status_code == 200:\n",
    "            print(f\"##########INICIO########## {uuid}\\n Chamada para o sinistro {numero_sinistro} realizada com sucesso! response: {response.json()}\\n##########FIM##########\")\n",
    "        else:\n",
    "            print(f\"##########INICIO########## {uuid}\\n Erro na chamada para o sinistro {numero_sinistro}. Status code: {response.status_code} response: {response.json()}\\n####################\")\n",
    "    \n",
    "    except json.JSONDecodeError as err:\n",
    "        print(f\"Erro ao decodificar a string JSON: {err}\")\n",
    "        print(err.response.status_code)\n",
    "        print(err.response.text)\n",
    "    except requests.exceptions.HTTPError as err:\n",
    "        print(f\"Erro HTTP: {err}\")\n",
    "        print(err.response.status_code)\n",
    "        print(err.response.text)\n",
    "    except requests.exceptions.ConnectionError as err:\n",
    "        print(f\"Erro de conexão: {err}\")\n",
    "        print(err.response.status_code)\n",
    "        print(err.response.text)\n",
    "    except requests.exceptions.Timeout as err:\n",
    "        print(f\"Erro de tempo limite: {err}\")\n",
    "        print(err.response.status_code)\n",
    "        print(err.response.text)\n",
    "    except requests.exceptions.RequestException as err:\n",
    "        print(f\"Erro desconhecido: {err}\")   \n",
    "        print(err.response.status_code)\n",
    "        print(err.response.text)\n",
    "\n",
    "    \n"
   ]
  },
  {
   "cell_type": "code",
   "execution_count": null,
   "id": "7813c8d6-5cb4-40b5-b943-7063beef819d",
   "metadata": {},
   "outputs": [],
   "source": []
  }
 ],
 "metadata": {
  "kernelspec": {
   "display_name": "Python 3 (ipykernel)",
   "language": "python",
   "name": "python3"
  },
  "language_info": {
   "codemirror_mode": {
    "name": "ipython",
    "version": 3
   },
   "file_extension": ".py",
   "mimetype": "text/x-python",
   "name": "python",
   "nbconvert_exporter": "python",
   "pygments_lexer": "ipython3",
   "version": "3.11.6"
  }
 },
 "nbformat": 4,
 "nbformat_minor": 5
}
